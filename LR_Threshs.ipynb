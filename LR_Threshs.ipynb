{
 "cells": [
  {
   "cell_type": "markdown",
   "id": "dcdde25c-e0f8-4dd0-ba23-15a66a34b1c6",
   "metadata": {
    "tags": []
   },
   "source": [
    "# Obtaining thresholds and calibrating probabilities for Suicidal Ideation Model"
   ]
  },
  {
   "cell_type": "code",
   "execution_count": 193,
   "id": "8b1f3c45-bc32-4999-9faf-3208878dc522",
   "metadata": {},
   "outputs": [],
   "source": [
    "import pip\n",
    "import pandas as pd\n",
    "import numpy as np\n",
    "import datetime\n",
    "from sklearn.model_selection import KFold\n",
    "from sklearn.model_selection import StratifiedKFold\n",
    "from sklearn.model_selection import cross_val_score\n",
    "from sklearn.linear_model import LogisticRegression\n",
    "from sklearn.dummy import DummyClassifier\n",
    "from numpy import mean\n",
    "from numpy import std\n",
    "from sklearn.datasets import make_classification\n",
    "from sklearn.model_selection import GridSearchCV\n",
    "from sklearn.model_selection import RandomizedSearchCV\n",
    "from sklearn.ensemble import RandomForestClassifier\n",
    "from sklearn.model_selection import cross_val_score\n",
    "from sklearn.model_selection import cross_val_predict\n",
    "from numpy import mean\n",
    "from numpy import std\n",
    "from sklearn.metrics import roc_curve\n",
    "from sklearn.metrics import roc_auc_score\n",
    "from sklearn.metrics import f1_score\n",
    "from matplotlib import pyplot\n",
    "import xgboost as xgb\n",
    "from sklearn.metrics import recall_score as recall\n",
    "from sklearn.metrics import confusion_matrix\n",
    "from IPython.core.interactiveshell import InteractiveShell\n",
    "from sklearn.model_selection import train_test_split\n",
    "from sklearn.calibration import calibration_curve\n",
    "from matplotlib import pyplot\n",
    "from sklearn.calibration import CalibratedClassifierCV as CCCV\n",
    "InteractiveShell.ast_node_interactivity = \"all\""
   ]
  },
  {
   "cell_type": "code",
   "execution_count": 194,
   "id": "0d319788-be7f-440f-a67a-d16ca59e52e5",
   "metadata": {},
   "outputs": [],
   "source": [
    "#Dividing the training dataset using stratified split for threshold moving \n",
    "Xi=pd.read_csv('Xi.csv')\n",
    "y=pd.read_csv('y_si.csv')\n",
    "X55, X15, y55, y15=train_test_split(Xi, y, test_size=0.15, random_state=42, stratify=y)\n",
    "X55.to_csv('X55_si.csv', index=False)\n",
    "X15.to_csv('X15_si.csv', index=False)\n",
    "y55.to_csv('y55_si.csv', index=False)\n",
    "y15.to_csv('y15_si.csv', index=False)"
   ]
  },
  {
   "cell_type": "code",
   "execution_count": 137,
   "id": "71f8075a-17d2-4c63-b90c-76b2e514a837",
   "metadata": {},
   "outputs": [],
   "source": [
    "y55=y55.values.flatten()\n",
    "y15=y15.values.flatten()"
   ]
  },
  {
   "cell_type": "code",
   "execution_count": 138,
   "id": "8ee095fd-bc9f-4f1c-905a-54911f3eec60",
   "metadata": {},
   "outputs": [
    {
     "data": {
      "text/plain": [
       "0.10771041789287816"
      ]
     },
     "execution_count": 138,
     "metadata": {},
     "output_type": "execute_result"
    }
   ],
   "source": [
    "np.average(y)"
   ]
  },
  {
   "cell_type": "markdown",
   "id": "3b5c67e4-e7ab-4810-8529-612717327823",
   "metadata": {},
   "source": [
    "## Logistic Regression"
   ]
  },
  {
   "cell_type": "markdown",
   "id": "baafc7a2-9436-41ac-a124-a41cf833e160",
   "metadata": {},
   "source": [
    "### Uncalibrated logistic regression"
   ]
  },
  {
   "cell_type": "code",
   "execution_count": 140,
   "id": "1d440fb2-1db6-4d8b-94d4-e90d7fb34775",
   "metadata": {
    "tags": []
   },
   "outputs": [],
   "source": [
    "#Hyperparameter tuning for log regression\n",
    "cv_inner=KFold(n_splits=3, shuffle=True, random_state=26)\n",
    "space=dict()\n",
    "space['solver']=['newton-cg', 'lbfgs', 'liblinear']\n",
    "space['penalty']=['none', 'l1', 'l2', 'elasticnet']\n",
    "space['C']=[100, 10, 1, 0.1, 0.01]\n",
    "LR= LogisticRegression(random_state=26)\n",
    "search=RandomizedSearchCV(LR, space, scoring='roc_auc', n_jobs=-1,n_iter=10, cv=cv_inner, refit=True)\n",
    "#Configuring cross-valiation\n",
    "cv_outer=KFold(n_splits=10, shuffle=True, random_state=26)"
   ]
  },
  {
   "cell_type": "code",
   "execution_count": 141,
   "id": "7b9f18b4-a3d3-43c7-bf13-383500403200",
   "metadata": {},
   "outputs": [
    {
     "name": "stdout",
     "output_type": "stream",
     "text": [
      "Probs: 0.115 (0.214)\n"
     ]
    }
   ],
   "source": [
    "LR_proba=cross_val_predict(search, X55, y55, method='predict_proba', cv=cv_outer, n_jobs=-1)\n",
    "LR_proba=LR_proba[:, 1]\n",
    "print('Probs: %.3f (%.3f)' % (mean(LR_proba), std(LR_proba)) )"
   ]
  },
  {
   "cell_type": "markdown",
   "id": "03266d47-9cc1-40b2-9faa-0bfc14e105fc",
   "metadata": {},
   "source": [
    "### Calibrating logistic regression"
   ]
  },
  {
   "cell_type": "code",
   "execution_count": 142,
   "id": "8b1a17dd-6eca-43a5-9b98-92d8f9ecc715",
   "metadata": {},
   "outputs": [
    {
     "name": "stderr",
     "output_type": "stream",
     "text": [
      "C:\\Users\\z5291979\\Anaconda3\\lib\\site-packages\\sklearn\\model_selection\\_validation.py:372: FitFailedWarning: \n",
      "85 fits failed out of a total of 150.\n",
      "The score on these train-test partitions for these parameters will be set to nan.\n",
      "If these failures are not expected, you can try to debug them by setting error_score='raise'.\n",
      "\n",
      "Below are more details about the failures:\n",
      "--------------------------------------------------------------------------------\n",
      "20 fits failed with the following error:\n",
      "Traceback (most recent call last):\n",
      "  File \"C:\\Users\\z5291979\\Anaconda3\\lib\\site-packages\\sklearn\\model_selection\\_validation.py\", line 681, in _fit_and_score\n",
      "    estimator.fit(X_train, y_train, **fit_params)\n",
      "  File \"C:\\Users\\z5291979\\Anaconda3\\lib\\site-packages\\sklearn\\linear_model\\_logistic.py\", line 1461, in fit\n",
      "    solver = _check_solver(self.solver, self.penalty, self.dual)\n",
      "  File \"C:\\Users\\z5291979\\Anaconda3\\lib\\site-packages\\sklearn\\linear_model\\_logistic.py\", line 447, in _check_solver\n",
      "    raise ValueError(\n",
      "ValueError: Solver lbfgs supports only 'l2' or 'none' penalties, got elasticnet penalty.\n",
      "\n",
      "--------------------------------------------------------------------------------\n",
      "10 fits failed with the following error:\n",
      "Traceback (most recent call last):\n",
      "  File \"C:\\Users\\z5291979\\Anaconda3\\lib\\site-packages\\sklearn\\model_selection\\_validation.py\", line 681, in _fit_and_score\n",
      "    estimator.fit(X_train, y_train, **fit_params)\n",
      "  File \"C:\\Users\\z5291979\\Anaconda3\\lib\\site-packages\\sklearn\\linear_model\\_logistic.py\", line 1461, in fit\n",
      "    solver = _check_solver(self.solver, self.penalty, self.dual)\n",
      "  File \"C:\\Users\\z5291979\\Anaconda3\\lib\\site-packages\\sklearn\\linear_model\\_logistic.py\", line 447, in _check_solver\n",
      "    raise ValueError(\n",
      "ValueError: Solver newton-cg supports only 'l2' or 'none' penalties, got elasticnet penalty.\n",
      "\n",
      "--------------------------------------------------------------------------------\n",
      "15 fits failed with the following error:\n",
      "Traceback (most recent call last):\n",
      "  File \"C:\\Users\\z5291979\\Anaconda3\\lib\\site-packages\\sklearn\\model_selection\\_validation.py\", line 681, in _fit_and_score\n",
      "    estimator.fit(X_train, y_train, **fit_params)\n",
      "  File \"C:\\Users\\z5291979\\Anaconda3\\lib\\site-packages\\sklearn\\linear_model\\_logistic.py\", line 1461, in fit\n",
      "    solver = _check_solver(self.solver, self.penalty, self.dual)\n",
      "  File \"C:\\Users\\z5291979\\Anaconda3\\lib\\site-packages\\sklearn\\linear_model\\_logistic.py\", line 457, in _check_solver\n",
      "    raise ValueError(\n",
      "ValueError: Only 'saga' solver supports elasticnet penalty, got solver=liblinear.\n",
      "\n",
      "--------------------------------------------------------------------------------\n",
      "15 fits failed with the following error:\n",
      "Traceback (most recent call last):\n",
      "  File \"C:\\Users\\z5291979\\Anaconda3\\lib\\site-packages\\sklearn\\model_selection\\_validation.py\", line 681, in _fit_and_score\n",
      "    estimator.fit(X_train, y_train, **fit_params)\n",
      "  File \"C:\\Users\\z5291979\\Anaconda3\\lib\\site-packages\\sklearn\\linear_model\\_logistic.py\", line 1461, in fit\n",
      "    solver = _check_solver(self.solver, self.penalty, self.dual)\n",
      "  File \"C:\\Users\\z5291979\\Anaconda3\\lib\\site-packages\\sklearn\\linear_model\\_logistic.py\", line 464, in _check_solver\n",
      "    raise ValueError(\"penalty='none' is not supported for the liblinear solver\")\n",
      "ValueError: penalty='none' is not supported for the liblinear solver\n",
      "\n",
      "--------------------------------------------------------------------------------\n",
      "15 fits failed with the following error:\n",
      "Traceback (most recent call last):\n",
      "  File \"C:\\Users\\z5291979\\Anaconda3\\lib\\site-packages\\sklearn\\model_selection\\_validation.py\", line 681, in _fit_and_score\n",
      "    estimator.fit(X_train, y_train, **fit_params)\n",
      "  File \"C:\\Users\\z5291979\\Anaconda3\\lib\\site-packages\\sklearn\\linear_model\\_logistic.py\", line 1461, in fit\n",
      "    solver = _check_solver(self.solver, self.penalty, self.dual)\n",
      "  File \"C:\\Users\\z5291979\\Anaconda3\\lib\\site-packages\\sklearn\\linear_model\\_logistic.py\", line 447, in _check_solver\n",
      "    raise ValueError(\n",
      "ValueError: Solver lbfgs supports only 'l2' or 'none' penalties, got l1 penalty.\n",
      "\n",
      "--------------------------------------------------------------------------------\n",
      "10 fits failed with the following error:\n",
      "Traceback (most recent call last):\n",
      "  File \"C:\\Users\\z5291979\\Anaconda3\\lib\\site-packages\\sklearn\\model_selection\\_validation.py\", line 681, in _fit_and_score\n",
      "    estimator.fit(X_train, y_train, **fit_params)\n",
      "  File \"C:\\Users\\z5291979\\Anaconda3\\lib\\site-packages\\sklearn\\linear_model\\_logistic.py\", line 1461, in fit\n",
      "    solver = _check_solver(self.solver, self.penalty, self.dual)\n",
      "  File \"C:\\Users\\z5291979\\Anaconda3\\lib\\site-packages\\sklearn\\linear_model\\_logistic.py\", line 447, in _check_solver\n",
      "    raise ValueError(\n",
      "ValueError: Solver newton-cg supports only 'l2' or 'none' penalties, got l1 penalty.\n",
      "\n",
      "  warnings.warn(some_fits_failed_message, FitFailedWarning)\n",
      "C:\\Users\\z5291979\\Anaconda3\\lib\\site-packages\\sklearn\\model_selection\\_search.py:969: UserWarning: One or more of the test scores are non-finite: [       nan        nan 0.60587494 0.65304578        nan 0.68621884\n",
      "        nan        nan 0.65186311 0.71171128 0.63848652        nan\n",
      " 0.65005293        nan        nan 0.63803954        nan        nan\n",
      "        nan        nan 0.61899579 0.61940767        nan 0.61899579\n",
      " 0.61958457        nan 0.64788134        nan        nan        nan]\n",
      "  warnings.warn(\n",
      "C:\\Users\\z5291979\\Anaconda3\\lib\\site-packages\\sklearn\\linear_model\\_logistic.py:1523: UserWarning: 'n_jobs' > 1 does not have any effect when 'solver' is set to 'liblinear'. Got 'n_jobs' = 8.\n",
      "  warnings.warn(\n"
     ]
    },
    {
     "data": {
      "text/plain": [
       "RandomizedSearchCV(estimator=LogisticRegression(n_jobs=-1, random_state=26),\n",
       "                   n_iter=30, n_jobs=-1,\n",
       "                   param_distributions={'C': [100, 10, 1, 0.1, 0.01],\n",
       "                                        'penalty': ['none', 'l1', 'l2',\n",
       "                                                    'elasticnet'],\n",
       "                                        'solver': ['newton-cg', 'lbfgs',\n",
       "                                                   'liblinear']},\n",
       "                   random_state=26, scoring='roc_auc')"
      ]
     },
     "execution_count": 142,
     "metadata": {},
     "output_type": "execute_result"
    }
   ],
   "source": [
    "#Calibrating the model\n",
    "LR= LogisticRegression(random_state=26, n_jobs=-1)\n",
    "space=dict()\n",
    "space['solver']=['newton-cg', 'lbfgs', 'liblinear']\n",
    "space['penalty']=['none', 'l1', 'l2', 'elasticnet']\n",
    "space['C']=[100, 10, 1, 0.1, 0.01]\n",
    "searchLR=RandomizedSearchCV(LR, space, scoring='roc_auc', n_jobs=-1,n_iter=30, refit=True, random_state=26)\n",
    "searchLR.fit(X55, y55)"
   ]
  },
  {
   "cell_type": "code",
   "execution_count": 143,
   "id": "12b59595-83c1-42ff-93cb-a7231fe2d4fd",
   "metadata": {},
   "outputs": [
    {
     "data": {
      "text/plain": [
       "{'solver': 'liblinear', 'penalty': 'l1', 'C': 0.1}"
      ]
     },
     "execution_count": 143,
     "metadata": {},
     "output_type": "execute_result"
    }
   ],
   "source": [
    "searchLR.best_params_"
   ]
  },
  {
   "cell_type": "code",
   "execution_count": 144,
   "id": "89148c59-532b-4a6b-a57a-a906fa0968d8",
   "metadata": {},
   "outputs": [
    {
     "name": "stderr",
     "output_type": "stream",
     "text": [
      "C:\\Users\\z5291979\\Anaconda3\\lib\\site-packages\\sklearn\\linear_model\\_logistic.py:1523: UserWarning: 'n_jobs' > 1 does not have any effect when 'solver' is set to 'liblinear'. Got 'n_jobs' = 8.\n",
      "  warnings.warn(\n",
      "C:\\Users\\z5291979\\Anaconda3\\lib\\site-packages\\sklearn\\linear_model\\_logistic.py:1523: UserWarning: 'n_jobs' > 1 does not have any effect when 'solver' is set to 'liblinear'. Got 'n_jobs' = 8.\n",
      "  warnings.warn(\n",
      "C:\\Users\\z5291979\\Anaconda3\\lib\\site-packages\\sklearn\\linear_model\\_logistic.py:1523: UserWarning: 'n_jobs' > 1 does not have any effect when 'solver' is set to 'liblinear'. Got 'n_jobs' = 8.\n",
      "  warnings.warn(\n",
      "C:\\Users\\z5291979\\Anaconda3\\lib\\site-packages\\sklearn\\linear_model\\_logistic.py:1523: UserWarning: 'n_jobs' > 1 does not have any effect when 'solver' is set to 'liblinear'. Got 'n_jobs' = 8.\n",
      "  warnings.warn(\n",
      "C:\\Users\\z5291979\\Anaconda3\\lib\\site-packages\\sklearn\\linear_model\\_logistic.py:1523: UserWarning: 'n_jobs' > 1 does not have any effect when 'solver' is set to 'liblinear'. Got 'n_jobs' = 8.\n",
      "  warnings.warn(\n"
     ]
    },
    {
     "data": {
      "text/plain": [
       "CalibratedClassifierCV(base_estimator=LogisticRegression(C=0.1, n_jobs=-1,\n",
       "                                                         penalty='l1',\n",
       "                                                         random_state=26,\n",
       "                                                         solver='liblinear'),\n",
       "                       method='isotonic')"
      ]
     },
     "execution_count": 144,
     "metadata": {},
     "output_type": "execute_result"
    }
   ],
   "source": [
    "cLR=CCCV(searchLR.best_estimator_, method='isotonic')\n",
    "cLR.fit(X55, y55)\n",
    "LR_probac=cLR.predict_proba(X55)"
   ]
  },
  {
   "cell_type": "code",
   "execution_count": 145,
   "id": "45ecff19-9115-4244-9f6e-ac2e17a8d0c9",
   "metadata": {},
   "outputs": [
    {
     "name": "stdout",
     "output_type": "stream",
     "text": [
      "Probs: 0.109 (0.100)\n"
     ]
    }
   ],
   "source": [
    "LR_probac=LR_probac[:, 1]\n",
    "print('Probs: %.3f (%.3f)' % (mean(LR_probac), std(LR_probac)) )"
   ]
  },
  {
   "cell_type": "code",
   "execution_count": 146,
   "id": "e45a8edb-8d77-4296-acbf-feb8a7d3f4b5",
   "metadata": {},
   "outputs": [
    {
     "name": "stdout",
     "output_type": "stream",
     "text": [
      "Best Threshold=0.116885\n"
     ]
    }
   ],
   "source": [
    "#Optimal threshold for the model using Youden's J statistic\n",
    "from numpy import nanargmax\n",
    "# get the best threshold\n",
    "J = tpr - fpr\n",
    "ix = nanargmax(J)\n",
    "best_thresh = thresholds[ix]\n",
    "print('Best Threshold=%f' % (best_thresh))"
   ]
  },
  {
   "cell_type": "code",
   "execution_count": 147,
   "id": "da26c234-38d1-4fd2-821f-15f5dcebdd11",
   "metadata": {},
   "outputs": [
    {
     "name": "stdout",
     "output_type": "stream",
     "text": [
      "Top 20 % of predicted risk= 0.14822048793700862\n",
      "Top 15 % of predicted risk= 0.17267649751792355\n",
      "Top 10 % of predicted risk= 0.22993591766208396\n",
      "Top 5 % of predicted risk= 0.32853124228712466\n"
     ]
    }
   ],
   "source": [
    "for i in np.arange(80, 100, 5):\n",
    "    print(\"Top\", 100-i, \"% of predicted risk=\", np.percentile(LR_probac, i) )"
   ]
  },
  {
   "cell_type": "code",
   "execution_count": 148,
   "id": "edf71945-3e43-483d-9fb4-55288836e205",
   "metadata": {},
   "outputs": [],
   "source": [
    "yprob=cLR.predict_proba(X15)"
   ]
  },
  {
   "cell_type": "code",
   "execution_count": 149,
   "id": "327a371f-e13c-4b8f-bff1-94fffee61425",
   "metadata": {},
   "outputs": [
    {
     "name": "stdout",
     "output_type": "stream",
     "text": [
      "Probs: 0.107 (0.092)\n"
     ]
    }
   ],
   "source": [
    "yprob=yprob[:, 1]\n",
    "print('Probs: %.3f (%.3f)' % (mean(yprob), std(yprob)) )"
   ]
  },
  {
   "cell_type": "code",
   "execution_count": 150,
   "id": "fecaf3e2-0b36-4122-a0c1-2a378b363619",
   "metadata": {},
   "outputs": [
    {
     "data": {
      "text/plain": [
       "[<matplotlib.lines.Line2D at 0x15beb027670>]"
      ]
     },
     "execution_count": 150,
     "metadata": {},
     "output_type": "execute_result"
    },
    {
     "data": {
      "text/plain": [
       "Text(0.5, 0, 'Predicted probability')"
      ]
     },
     "execution_count": 150,
     "metadata": {},
     "output_type": "execute_result"
    },
    {
     "data": {
      "text/plain": [
       "Text(0, 0.5, 'True probability')"
      ]
     },
     "execution_count": 150,
     "metadata": {},
     "output_type": "execute_result"
    },
    {
     "data": {
      "text/plain": [
       "[<matplotlib.lines.Line2D at 0x15beb027a60>]"
      ]
     },
     "execution_count": 150,
     "metadata": {},
     "output_type": "execute_result"
    },
    {
     "data": {
      "image/png": "[encoded data removed]",
      "text/plain": [
       "<Figure size 432x288 with 1 Axes>"
      ]
     },
     "metadata": {
      "needs_background": "light"
     },
     "output_type": "display_data"
    }
   ],
   "source": [
    "from sklearn.calibration import calibration_curve\n",
    "# reliability diagram\n",
    "fop, mpv = calibration_curve(y15, yprob, n_bins=10)\n",
    "# plot perfectly calibrated\n",
    "pyplot.plot([0, 1], [0, 1], linestyle='--')\n",
    "# plot model reliability\n",
    "pyplot.xlabel('Predicted probability')\n",
    "pyplot.ylabel('True probability')\n",
    "pyplot.plot(mpv, fop, marker='.')\n",
    "pyplot.show()"
   ]
  },
  {
   "cell_type": "code",
   "execution_count": 151,
   "id": "4c15b421-124a-43b1-b1c6-6d543a1787ff",
   "metadata": {},
   "outputs": [
    {
     "data": {
      "text/plain": [
       "0.7707115009746589"
      ]
     },
     "execution_count": 151,
     "metadata": {},
     "output_type": "execute_result"
    }
   ],
   "source": [
    "roc_auc_score(y15, yprob)"
   ]
  },
  {
   "cell_type": "code",
   "execution_count": 152,
   "id": "4048e3f3-c90e-48fc-b7e5-99649e069245",
   "metadata": {},
   "outputs": [
    {
     "data": {
      "text/plain": [
       "0.29508196721311475"
      ]
     },
     "execution_count": 152,
     "metadata": {},
     "output_type": "execute_result"
    }
   ],
   "source": [
    "ypredcLR=np.where(yprob>0.17267649751792355, 1, 0)\n",
    "f1_score(y15, ypredcLR)"
   ]
  },
  {
   "cell_type": "code",
   "execution_count": 153,
   "id": "2390cb44-3393-491a-ae43-758c4d4a443b",
   "metadata": {},
   "outputs": [
    {
     "data": {
      "text/plain": [
       "0.3333333333333333"
      ]
     },
     "execution_count": 153,
     "metadata": {},
     "output_type": "execute_result"
    }
   ],
   "source": [
    "recall(y15, ypredcLR)"
   ]
  },
  {
   "cell_type": "code",
   "execution_count": 154,
   "id": "bf3a8174-c687-4453-87ba-877ab6a86f5a",
   "metadata": {},
   "outputs": [
    {
     "data": {
      "text/plain": [
       "0.3561643835616438"
      ]
     },
     "execution_count": 154,
     "metadata": {},
     "output_type": "execute_result"
    }
   ],
   "source": [
    "ypredcLR=np.where(yprob>0.14822048793700862, 1, 0)\n",
    "f1_score(y15, ypredcLR)"
   ]
  },
  {
   "cell_type": "code",
   "execution_count": 155,
   "id": "c97ec2d5-0696-427d-9e74-559acd98cee2",
   "metadata": {},
   "outputs": [
    {
     "data": {
      "text/plain": [
       "0.48148148148148145"
      ]
     },
     "execution_count": 155,
     "metadata": {},
     "output_type": "execute_result"
    }
   ],
   "source": [
    "recall(y15, ypredcLR)"
   ]
  },
  {
   "cell_type": "code",
   "execution_count": 156,
   "id": "19d71a53-2979-43ac-93e7-15ddce7deaaf",
   "metadata": {},
   "outputs": [
    {
     "data": {
      "text/plain": [
       "0.3333333333333333"
      ]
     },
     "execution_count": 156,
     "metadata": {},
     "output_type": "execute_result"
    }
   ],
   "source": [
    "ypredcLR=np.where(yprob>0.116885, 1, 0)\n",
    "f1_score(y15, ypredcLR)"
   ]
  },
  {
   "cell_type": "code",
   "execution_count": 157,
   "id": "75f972ef-2cb2-4327-8e8a-b1fe6d5d0bcb",
   "metadata": {},
   "outputs": [
    {
     "data": {
      "text/plain": [
       "0.5925925925925926"
      ]
     },
     "execution_count": 157,
     "metadata": {},
     "output_type": "execute_result"
    }
   ],
   "source": [
    "recall(y15, ypredcLR)"
   ]
  },
  {
   "cell_type": "markdown",
   "id": "7eb44342-0254-4c1c-b720-a613cf378717",
   "metadata": {},
   "source": [
    "## Random Forests"
   ]
  },
  {
   "cell_type": "markdown",
   "id": "e532b692-de86-4862-be95-30dfcfb61bc3",
   "metadata": {},
   "source": [
    "### Calibrated Random Forests"
   ]
  },
  {
   "cell_type": "code",
   "execution_count": 158,
   "id": "bcb78e8c-62fe-4071-af48-d51864b1902c",
   "metadata": {},
   "outputs": [
    {
     "data": {
      "text/plain": [
       "RandomizedSearchCV(estimator=RandomForestClassifier(random_state=26), n_iter=30,\n",
       "                   n_jobs=-1,\n",
       "                   param_distributions={'max_features': [10, 50, 200, 500],\n",
       "                                        'min_samples_split': [2, 10, 50],\n",
       "                                        'n_estimators': [10, 50, 100, 250,\n",
       "                                                         500]},\n",
       "                   random_state=26, scoring='roc_auc')"
      ]
     },
     "execution_count": 158,
     "metadata": {},
     "output_type": "execute_result"
    }
   ],
   "source": [
    "RF= RandomForestClassifier(random_state=26)\n",
    "space=dict()\n",
    "space['n_estimators']=[10, 50, 100, 250, 500]\n",
    "space['max_features']=[10, 50, 200, 500]\n",
    "space['min_samples_split']=[2, 10, 50]\n",
    "searchRF=RandomizedSearchCV(RF, space, scoring='roc_auc', n_jobs=-1, n_iter=30, refit=True, random_state=26)\n",
    "\n",
    "searchRF.fit(X55, y55)"
   ]
  },
  {
   "cell_type": "code",
   "execution_count": 159,
   "id": "d4c241c2-5273-4d4f-90dd-b4d8025bd397",
   "metadata": {},
   "outputs": [
    {
     "data": {
      "text/plain": [
       "{'n_estimators': 50, 'min_samples_split': 50, 'max_features': 500}"
      ]
     },
     "execution_count": 159,
     "metadata": {},
     "output_type": "execute_result"
    }
   ],
   "source": [
    "searchRF.best_params_"
   ]
  },
  {
   "cell_type": "code",
   "execution_count": 160,
   "id": "9c4505bb-940c-4baf-8e7e-981d81d5705c",
   "metadata": {},
   "outputs": [
    {
     "data": {
      "text/plain": [
       "CalibratedClassifierCV(base_estimator=RandomForestClassifier(max_features=500,\n",
       "                                                             min_samples_split=50,\n",
       "                                                             n_estimators=50,\n",
       "                                                             random_state=26),\n",
       "                       method='isotonic')"
      ]
     },
     "execution_count": 160,
     "metadata": {},
     "output_type": "execute_result"
    }
   ],
   "source": [
    "cRF=CCCV(searchRF.best_estimator_, method='isotonic')\n",
    "cRF.fit(X55, y55)\n",
    "RF_probac=cRF.predict_proba(X55)"
   ]
  },
  {
   "cell_type": "code",
   "execution_count": 161,
   "id": "7d499193-42da-4388-92be-4fd514bfce1e",
   "metadata": {},
   "outputs": [
    {
     "name": "stdout",
     "output_type": "stream",
     "text": [
      "Probs: 0.112 (0.164)\n"
     ]
    }
   ],
   "source": [
    "RF_probac=RF_probac[:, 1]\n",
    "print('Probs: %.3f (%.3f)' % (mean(RF_probac), std(RF_probac)) )"
   ]
  },
  {
   "cell_type": "code",
   "execution_count": 162,
   "id": "b874e430-b762-429e-a510-cdc0ecbe6570",
   "metadata": {},
   "outputs": [
    {
     "name": "stdout",
     "output_type": "stream",
     "text": [
      "Probs: 0.099 (0.131)\n"
     ]
    }
   ],
   "source": [
    "yprobRF=cRF.predict_proba(X15)\n",
    "yprobRF=yprobRF[:, 1]\n",
    "print('Probs: %.3f (%.3f)' % (mean(yprobRF), std(yprobRF)) )"
   ]
  },
  {
   "cell_type": "code",
   "execution_count": 163,
   "id": "455d68e1-474e-4a56-9e33-fef0e5cfebe6",
   "metadata": {},
   "outputs": [
    {
     "name": "stdout",
     "output_type": "stream",
     "text": [
      "Best Threshold=0.173486\n"
     ]
    }
   ],
   "source": [
    "#Optimal threshold for the model using Youden's J statistic\n",
    "fpr, tpr, thresholds=roc_curve(y55, RF_probac)\n",
    "from numpy import nanargmax\n",
    "# get the best threshold\n",
    "J = tpr - fpr\n",
    "ix = nanargmax(J)\n",
    "best_thresh = thresholds[ix]\n",
    "print('Best Threshold=%f' % (best_thresh))"
   ]
  },
  {
   "cell_type": "code",
   "execution_count": 166,
   "id": "ddc74582-2454-44e1-b620-0a7bb036e4df",
   "metadata": {},
   "outputs": [
    {
     "data": {
      "text/plain": [
       "0.8785737491877843"
      ]
     },
     "execution_count": 166,
     "metadata": {},
     "output_type": "execute_result"
    }
   ],
   "source": [
    "roc_auc_score(y15, yprobRF)"
   ]
  },
  {
   "cell_type": "code",
   "execution_count": 164,
   "id": "8bd6dabe-adab-4ef0-8706-5984e1cf2346",
   "metadata": {},
   "outputs": [
    {
     "name": "stdout",
     "output_type": "stream",
     "text": [
      "Top 20 % of predicted risk= 0.15102978825938979\n",
      "Top 15 % of predicted risk= 0.18983720792902234\n",
      "Top 10 % of predicted risk= 0.273130683825725\n",
      "Top 5 % of predicted risk= 0.48255244755244747\n"
     ]
    }
   ],
   "source": [
    "for i in np.arange(80, 100, 5):\n",
    "    print(\"Top\", 100-i, \"% of predicted risk=\", np.percentile(RF_probac, i) )"
   ]
  },
  {
   "cell_type": "code",
   "execution_count": 165,
   "id": "b5beb459-995c-4596-83db-b2de912eaf4c",
   "metadata": {},
   "outputs": [
    {
     "data": {
      "text/plain": [
       "0.456140350877193"
      ]
     },
     "execution_count": 165,
     "metadata": {},
     "output_type": "execute_result"
    }
   ],
   "source": [
    "ypredRFc=np.where(yprobRF>0.18983720792902234, 1, 0)\n",
    "f1_score(y15, ypredRFc)"
   ]
  },
  {
   "cell_type": "code",
   "execution_count": 167,
   "id": "1c8479f8-3b9f-427e-bda5-12010b886ab9",
   "metadata": {},
   "outputs": [
    {
     "data": {
      "text/plain": [
       "0.48148148148148145"
      ]
     },
     "execution_count": 167,
     "metadata": {},
     "output_type": "execute_result"
    }
   ],
   "source": [
    "recall(y15, ypredRFc)"
   ]
  },
  {
   "cell_type": "code",
   "execution_count": 168,
   "id": "8d562f17-c7ae-43a4-80e7-54c65a8a7802",
   "metadata": {},
   "outputs": [
    {
     "name": "stdout",
     "output_type": "stream",
     "text": [
      "0.9254385964912281\n"
     ]
    }
   ],
   "source": [
    "#Specificity\n",
    "tn, fp, fn, tp= confusion_matrix(y15, ypredRFc).ravel()\n",
    "print(tn/(tn+fp))"
   ]
  },
  {
   "cell_type": "code",
   "execution_count": 169,
   "id": "765335d2-6c46-4731-b202-d815e849b4a3",
   "metadata": {},
   "outputs": [
    {
     "data": {
      "text/plain": [
       "0.5205479452054794"
      ]
     },
     "execution_count": 169,
     "metadata": {},
     "output_type": "execute_result"
    }
   ],
   "source": [
    "ypredRFc=np.where(yprobRF>0.15102978825938979, 1, 0)\n",
    "f1_score(y15, ypredRFc)"
   ]
  },
  {
   "cell_type": "code",
   "execution_count": 170,
   "id": "bb94d0bc-4518-4cde-9e27-48fc7736518f",
   "metadata": {},
   "outputs": [
    {
     "data": {
      "text/plain": [
       "0.7037037037037037"
      ]
     },
     "execution_count": 170,
     "metadata": {},
     "output_type": "execute_result"
    }
   ],
   "source": [
    "recall(y15, ypredRFc)"
   ]
  },
  {
   "cell_type": "code",
   "execution_count": 171,
   "id": "1b35b3f8-b797-4c6d-a7af-c7dfc2ce03a1",
   "metadata": {},
   "outputs": [
    {
     "name": "stdout",
     "output_type": "stream",
     "text": [
      "0.881578947368421\n"
     ]
    }
   ],
   "source": [
    "#Specificity\n",
    "tn, fp, fn, tp= confusion_matrix(y15, ypredRFc).ravel()\n",
    "print(tn/(tn+fp))"
   ]
  },
  {
   "cell_type": "code",
   "execution_count": 172,
   "id": "95e7f18c-0053-499f-87a6-4cba7ac258d2",
   "metadata": {},
   "outputs": [
    {
     "data": {
      "text/plain": [
       "0.5074626865671642"
      ]
     },
     "execution_count": 172,
     "metadata": {},
     "output_type": "execute_result"
    }
   ],
   "source": [
    "ypredRFc=np.where(yprobRF>0.173486, 1, 0)\n",
    "f1_score(y15, ypredRFc)"
   ]
  },
  {
   "cell_type": "code",
   "execution_count": 173,
   "id": "300ae52b-e8e1-47f4-9d6f-7781342f23bc",
   "metadata": {},
   "outputs": [
    {
     "data": {
      "text/plain": [
       "0.6296296296296297"
      ]
     },
     "execution_count": 173,
     "metadata": {},
     "output_type": "execute_result"
    }
   ],
   "source": [
    "recall(y15, ypredRFc)"
   ]
  },
  {
   "cell_type": "code",
   "execution_count": 174,
   "id": "6d991b71-8fcb-4fe2-985e-e541d3929e9b",
   "metadata": {},
   "outputs": [
    {
     "name": "stdout",
     "output_type": "stream",
     "text": [
      "0.8991228070175439\n"
     ]
    }
   ],
   "source": [
    "#Specificity\n",
    "tn, fp, fn, tp= confusion_matrix(y15, ypredRFc).ravel()\n",
    "print(tn/(tn+fp))"
   ]
  },
  {
   "cell_type": "code",
   "execution_count": 175,
   "id": "3559e38b-637e-4b5d-9996-a725c9ef4e17",
   "metadata": {},
   "outputs": [
    {
     "data": {
      "text/plain": [
       "[<matplotlib.lines.Line2D at 0x15beaa09b20>]"
      ]
     },
     "execution_count": 175,
     "metadata": {},
     "output_type": "execute_result"
    },
    {
     "data": {
      "text/plain": [
       "Text(0.5, 0, 'Predicted probability')"
      ]
     },
     "execution_count": 175,
     "metadata": {},
     "output_type": "execute_result"
    },
    {
     "data": {
      "text/plain": [
       "Text(0, 0.5, 'True probability')"
      ]
     },
     "execution_count": 175,
     "metadata": {},
     "output_type": "execute_result"
    },
    {
     "data": {
      "text/plain": [
       "[<matplotlib.lines.Line2D at 0x15beaa09e80>]"
      ]
     },
     "execution_count": 175,
     "metadata": {},
     "output_type": "execute_result"
    },
    {
     "data": {
      "image/png": "[encoded data removed]",
      "text/plain": [
       "<Figure size 432x288 with 1 Axes>"
      ]
     },
     "metadata": {
      "needs_background": "light"
     },
     "output_type": "display_data"
    }
   ],
   "source": [
    "#Note: results below are unstable and change when rerun\n",
    "from sklearn.calibration import calibration_curve\n",
    "from matplotlib import pyplot\n",
    "# reliability diagram\n",
    "fop, mpv = calibration_curve(y15, yprobRF, n_bins=10)\n",
    "# plot perfectly calibrated\n",
    "pyplot.plot([0, 1], [0, 1], linestyle='--')\n",
    "# plot model reliability\n",
    "pyplot.xlabel('Predicted probability')\n",
    "pyplot.ylabel('True probability')\n",
    "pyplot.plot(mpv, fop, marker='.')\n",
    "pyplot.show()"
   ]
  },
  {
   "cell_type": "markdown",
   "id": "e67c2b17-0b60-4278-bab0-aac17a943cd5",
   "metadata": {},
   "source": [
    "### Gradient boosting"
   ]
  },
  {
   "cell_type": "code",
   "execution_count": 176,
   "id": "0c79d2d6-0730-4201-85c7-c467ba8b3d81",
   "metadata": {},
   "outputs": [
    {
     "name": "stderr",
     "output_type": "stream",
     "text": [
      "C:\\Users\\z5291979\\Anaconda3\\lib\\site-packages\\xgboost\\sklearn.py:1224: UserWarning: The use of label encoder in XGBClassifier is deprecated and will be removed in a future release. To remove this warning, do the following: 1) Pass option use_label_encoder=False when constructing XGBClassifier object; and 2) Encode your labels (y) as integers starting with 0, i.e. 0, 1, 2, ..., [num_class - 1].\n",
      "  warnings.warn(label_encoder_deprecation_msg, UserWarning)\n",
      "C:\\Users\\z5291979\\Anaconda3\\lib\\site-packages\\xgboost\\data.py:250: FutureWarning: pandas.Int64Index is deprecated and will be removed from pandas in a future version. Use pandas.Index with the appropriate dtype instead.\n",
      "  elif isinstance(data.columns, (pd.Int64Index, pd.RangeIndex)):\n"
     ]
    },
    {
     "name": "stdout",
     "output_type": "stream",
     "text": [
      "[18:44:48] WARNING: C:\\Windows\\Temp\\abs_557yfx631l\\croots\\recipe\\xgboost-split_1659548953302\\work\\src\\learner.cc:1115: Starting in XGBoost 1.3.0, the default evaluation metric used with the objective 'binary:logistic' was changed from 'error' to 'logloss'. Explicitly set eval_metric if you'd like to restore the old behavior.\n"
     ]
    },
    {
     "data": {
      "text/plain": [
       "RandomizedSearchCV(cv=KFold(n_splits=3, random_state=26, shuffle=True),\n",
       "                   estimator=XGBClassifier(base_score=None, booster=None,\n",
       "                                           colsample_bylevel=None,\n",
       "                                           colsample_bynode=None,\n",
       "                                           colsample_bytree=None,\n",
       "                                           enable_categorical=False, gamma=None,\n",
       "                                           gpu_id=None, importance_type=None,\n",
       "                                           interaction_constraints=None,\n",
       "                                           learning_rate=None,\n",
       "                                           max_delta_step=None, max_depth=None,\n",
       "                                           min_child...\n",
       "                                           reg_alpha=None, reg_lambda=None,\n",
       "                                           scale_pos_weight=None,\n",
       "                                           subsample=None, tree_method=None,\n",
       "                                           validate_parameters=None,\n",
       "                                           verbosity=None),\n",
       "                   n_iter=50, n_jobs=-1,\n",
       "                   param_distributions={'colsample_bytree': [0.1, 0.2, 0.4, 0.6,\n",
       "                                                             0.8, 1.0],\n",
       "                                        'eta': [0.001, 0.01, 0.1, 0.3, 1],\n",
       "                                        'max_depth': [3, 6, 9, 12],\n",
       "                                        'n_estimators': [10, 100, 500, 1000],\n",
       "                                        'subsample': [0.1, 0.2, 0.4, 0.6, 0.8,\n",
       "                                                      1.0]},\n",
       "                   scoring='roc_auc')"
      ]
     },
     "execution_count": 176,
     "metadata": {},
     "output_type": "execute_result"
    }
   ],
   "source": [
    "from xgboost import XGBClassifier as xgb\n",
    "#Configuring cross-val\n",
    "cv_inner=KFold(n_splits=3, shuffle=True, random_state=26)\n",
    "space=dict()\n",
    "space['n_estimators']=[10, 100, 500, 1000]\n",
    "space['max_depth']=[3, 6, 9, 12]\n",
    "space['eta']=[0.001, 0.01, 0.1, 0.3, 1]\n",
    "space['colsample_bytree']=[0.1, 0.2, 0.4, 0.6, 0.8, 1.0]\n",
    "space['subsample']=[0.1, 0.2, 0.4, 0.6, 0.8, 1.0]\n",
    "#Model 4: XGBoost\n",
    "XGB=xgb(random_state=26)\n",
    "cv=KFold(n_splits=10, random_state=26, shuffle=True)\n",
    "searchXGB=RandomizedSearchCV(XGB, space, scoring='roc_auc', n_jobs=-1, n_iter=50, cv=cv_inner, refit=True)\n",
    "\n",
    "searchXGB.fit(X55, y55)"
   ]
  },
  {
   "cell_type": "code",
   "execution_count": 177,
   "id": "6270f049-f90b-4aeb-a07a-b9a0e5685b88",
   "metadata": {},
   "outputs": [
    {
     "data": {
      "text/plain": [
       "{'subsample': 0.6,\n",
       " 'n_estimators': 1000,\n",
       " 'max_depth': 3,\n",
       " 'eta': 0.001,\n",
       " 'colsample_bytree': 0.1}"
      ]
     },
     "execution_count": 177,
     "metadata": {},
     "output_type": "execute_result"
    }
   ],
   "source": [
    "searchXGB.best_params_"
   ]
  },
  {
   "cell_type": "code",
   "execution_count": 178,
   "id": "db5ca06e-0e1c-4208-91c8-4908c2a3e7cc",
   "metadata": {},
   "outputs": [
    {
     "name": "stderr",
     "output_type": "stream",
     "text": [
      "C:\\Users\\z5291979\\Anaconda3\\lib\\site-packages\\xgboost\\sklearn.py:1224: UserWarning: The use of label encoder in XGBClassifier is deprecated and will be removed in a future release. To remove this warning, do the following: 1) Pass option use_label_encoder=False when constructing XGBClassifier object; and 2) Encode your labels (y) as integers starting with 0, i.e. 0, 1, 2, ..., [num_class - 1].\n",
      "  warnings.warn(label_encoder_deprecation_msg, UserWarning)\n",
      "C:\\Users\\z5291979\\Anaconda3\\lib\\site-packages\\xgboost\\data.py:250: FutureWarning: pandas.Int64Index is deprecated and will be removed from pandas in a future version. Use pandas.Index with the appropriate dtype instead.\n",
      "  elif isinstance(data.columns, (pd.Int64Index, pd.RangeIndex)):\n"
     ]
    },
    {
     "name": "stdout",
     "output_type": "stream",
     "text": [
      "[18:44:54] WARNING: C:\\Windows\\Temp\\abs_557yfx631l\\croots\\recipe\\xgboost-split_1659548953302\\work\\src\\learner.cc:1115: Starting in XGBoost 1.3.0, the default evaluation metric used with the objective 'binary:logistic' was changed from 'error' to 'logloss'. Explicitly set eval_metric if you'd like to restore the old behavior.\n"
     ]
    },
    {
     "name": "stderr",
     "output_type": "stream",
     "text": [
      "C:\\Users\\z5291979\\Anaconda3\\lib\\site-packages\\xgboost\\sklearn.py:1224: UserWarning: The use of label encoder in XGBClassifier is deprecated and will be removed in a future release. To remove this warning, do the following: 1) Pass option use_label_encoder=False when constructing XGBClassifier object; and 2) Encode your labels (y) as integers starting with 0, i.e. 0, 1, 2, ..., [num_class - 1].\n",
      "  warnings.warn(label_encoder_deprecation_msg, UserWarning)\n",
      "C:\\Users\\z5291979\\Anaconda3\\lib\\site-packages\\xgboost\\data.py:250: FutureWarning: pandas.Int64Index is deprecated and will be removed from pandas in a future version. Use pandas.Index with the appropriate dtype instead.\n",
      "  elif isinstance(data.columns, (pd.Int64Index, pd.RangeIndex)):\n"
     ]
    },
    {
     "name": "stdout",
     "output_type": "stream",
     "text": [
      "[18:45:00] WARNING: C:\\Windows\\Temp\\abs_557yfx631l\\croots\\recipe\\xgboost-split_1659548953302\\work\\src\\learner.cc:1115: Starting in XGBoost 1.3.0, the default evaluation metric used with the objective 'binary:logistic' was changed from 'error' to 'logloss'. Explicitly set eval_metric if you'd like to restore the old behavior.\n"
     ]
    },
    {
     "name": "stderr",
     "output_type": "stream",
     "text": [
      "C:\\Users\\z5291979\\Anaconda3\\lib\\site-packages\\xgboost\\sklearn.py:1224: UserWarning: The use of label encoder in XGBClassifier is deprecated and will be removed in a future release. To remove this warning, do the following: 1) Pass option use_label_encoder=False when constructing XGBClassifier object; and 2) Encode your labels (y) as integers starting with 0, i.e. 0, 1, 2, ..., [num_class - 1].\n",
      "  warnings.warn(label_encoder_deprecation_msg, UserWarning)\n",
      "C:\\Users\\z5291979\\Anaconda3\\lib\\site-packages\\xgboost\\data.py:250: FutureWarning: pandas.Int64Index is deprecated and will be removed from pandas in a future version. Use pandas.Index with the appropriate dtype instead.\n",
      "  elif isinstance(data.columns, (pd.Int64Index, pd.RangeIndex)):\n"
     ]
    },
    {
     "name": "stdout",
     "output_type": "stream",
     "text": [
      "[18:45:05] WARNING: C:\\Windows\\Temp\\abs_557yfx631l\\croots\\recipe\\xgboost-split_1659548953302\\work\\src\\learner.cc:1115: Starting in XGBoost 1.3.0, the default evaluation metric used with the objective 'binary:logistic' was changed from 'error' to 'logloss'. Explicitly set eval_metric if you'd like to restore the old behavior.\n"
     ]
    },
    {
     "name": "stderr",
     "output_type": "stream",
     "text": [
      "C:\\Users\\z5291979\\Anaconda3\\lib\\site-packages\\xgboost\\sklearn.py:1224: UserWarning: The use of label encoder in XGBClassifier is deprecated and will be removed in a future release. To remove this warning, do the following: 1) Pass option use_label_encoder=False when constructing XGBClassifier object; and 2) Encode your labels (y) as integers starting with 0, i.e. 0, 1, 2, ..., [num_class - 1].\n",
      "  warnings.warn(label_encoder_deprecation_msg, UserWarning)\n",
      "C:\\Users\\z5291979\\Anaconda3\\lib\\site-packages\\xgboost\\data.py:250: FutureWarning: pandas.Int64Index is deprecated and will be removed from pandas in a future version. Use pandas.Index with the appropriate dtype instead.\n",
      "  elif isinstance(data.columns, (pd.Int64Index, pd.RangeIndex)):\n"
     ]
    },
    {
     "name": "stdout",
     "output_type": "stream",
     "text": [
      "[18:45:10] WARNING: C:\\Windows\\Temp\\abs_557yfx631l\\croots\\recipe\\xgboost-split_1659548953302\\work\\src\\learner.cc:1115: Starting in XGBoost 1.3.0, the default evaluation metric used with the objective 'binary:logistic' was changed from 'error' to 'logloss'. Explicitly set eval_metric if you'd like to restore the old behavior.\n"
     ]
    },
    {
     "name": "stderr",
     "output_type": "stream",
     "text": [
      "C:\\Users\\z5291979\\Anaconda3\\lib\\site-packages\\xgboost\\sklearn.py:1224: UserWarning: The use of label encoder in XGBClassifier is deprecated and will be removed in a future release. To remove this warning, do the following: 1) Pass option use_label_encoder=False when constructing XGBClassifier object; and 2) Encode your labels (y) as integers starting with 0, i.e. 0, 1, 2, ..., [num_class - 1].\n",
      "  warnings.warn(label_encoder_deprecation_msg, UserWarning)\n",
      "C:\\Users\\z5291979\\Anaconda3\\lib\\site-packages\\xgboost\\data.py:250: FutureWarning: pandas.Int64Index is deprecated and will be removed from pandas in a future version. Use pandas.Index with the appropriate dtype instead.\n",
      "  elif isinstance(data.columns, (pd.Int64Index, pd.RangeIndex)):\n"
     ]
    },
    {
     "name": "stdout",
     "output_type": "stream",
     "text": [
      "[18:45:15] WARNING: C:\\Windows\\Temp\\abs_557yfx631l\\croots\\recipe\\xgboost-split_1659548953302\\work\\src\\learner.cc:1115: Starting in XGBoost 1.3.0, the default evaluation metric used with the objective 'binary:logistic' was changed from 'error' to 'logloss'. Explicitly set eval_metric if you'd like to restore the old behavior.\n"
     ]
    },
    {
     "data": {
      "text/plain": [
       "CalibratedClassifierCV(base_estimator=XGBClassifier(base_score=0.5,\n",
       "                                                    booster='gbtree',\n",
       "                                                    colsample_bylevel=1,\n",
       "                                                    colsample_bynode=1,\n",
       "                                                    colsample_bytree=0.1,\n",
       "                                                    enable_categorical=False,\n",
       "                                                    eta=0.001, gamma=0,\n",
       "                                                    gpu_id=-1,\n",
       "                                                    importance_type=None,\n",
       "                                                    interaction_constraints='',\n",
       "                                                    learning_rate=0.00100000005,\n",
       "                                                    max_delta_step=0,\n",
       "                                                    max_depth=3,\n",
       "                                                    min_child_weight=1,\n",
       "                                                    missing=nan,\n",
       "                                                    monotone_constraints='()',\n",
       "                                                    n_estimators=1000, n_jobs=8,\n",
       "                                                    num_parallel_tree=1,\n",
       "                                                    predictor='auto',\n",
       "                                                    random_state=26,\n",
       "                                                    reg_alpha=0, reg_lambda=1,\n",
       "                                                    scale_pos_weight=1,\n",
       "                                                    subsample=0.6,\n",
       "                                                    tree_method='exact',\n",
       "                                                    validate_parameters=1,\n",
       "                                                    verbosity=None),\n",
       "                       method='isotonic')"
      ]
     },
     "execution_count": 178,
     "metadata": {},
     "output_type": "execute_result"
    }
   ],
   "source": [
    "cXGB=CCCV(searchXGB.best_estimator_, method='isotonic')\n",
    "cXGB.fit(X55, y55)\n",
    "XGB_probac=cXGB.predict_proba(X55)"
   ]
  },
  {
   "cell_type": "code",
   "execution_count": 179,
   "id": "932cfdd1-757a-4116-aee6-d55a6bea8b2e",
   "metadata": {},
   "outputs": [
    {
     "name": "stdout",
     "output_type": "stream",
     "text": [
      "Probs: 0.111 (0.155)\n"
     ]
    }
   ],
   "source": [
    "XGB_probac=XGB_probac[:, 1]\n",
    "print('Probs: %.3f (%.3f)' % (mean(XGB_probac), std(XGB_probac)) )"
   ]
  },
  {
   "cell_type": "code",
   "execution_count": 180,
   "id": "6234b988-5340-46b3-81a5-4bb028dff131",
   "metadata": {},
   "outputs": [
    {
     "name": "stdout",
     "output_type": "stream",
     "text": [
      "Best Threshold=0.130436\n"
     ]
    }
   ],
   "source": [
    "#Optimal threshold for the model using Youden's J statistic\n",
    "fpr, tpr, thresholds=roc_curve(y55, XGB_probac)\n",
    "from numpy import nanargmax\n",
    "# get the best threshold\n",
    "J = tpr - fpr\n",
    "ix = nanargmax(J)\n",
    "best_thresh = thresholds[ix]\n",
    "print('Best Threshold=%f' % (best_thresh))"
   ]
  },
  {
   "cell_type": "code",
   "execution_count": 181,
   "id": "e6607e53-e1ad-494b-b6c1-85a1b400e705",
   "metadata": {},
   "outputs": [
    {
     "name": "stdout",
     "output_type": "stream",
     "text": [
      "Top 20 % of risk= 0.14892294943332676\n",
      "Top 15 % of risk= 0.20001444727182383\n",
      "Top 10 % of risk= 0.2709296762943268\n",
      "Top 5 % of risk= 0.5138816273212425\n"
     ]
    }
   ],
   "source": [
    "for i in np.arange(80, 100, 5):\n",
    "    print(\"Top\", 100-i, \"% of risk=\", np.percentile(XGB_probac, i) )"
   ]
  },
  {
   "cell_type": "code",
   "execution_count": 182,
   "id": "294c26d8-b5e2-4b6e-9a3e-aee8139193ed",
   "metadata": {},
   "outputs": [
    {
     "name": "stdout",
     "output_type": "stream",
     "text": [
      "Probs: 0.103 (0.133)\n"
     ]
    }
   ],
   "source": [
    "yprobXGB=cXGB.predict_proba(X15)\n",
    "yprobXGB=yprobXGB[:, 1]\n",
    "print('Probs: %.3f (%.3f)' % (mean(yprobXGB), std(yprobXGB)) )"
   ]
  },
  {
   "cell_type": "code",
   "execution_count": 183,
   "id": "c26eba83-93f6-488a-8733-c1a5b71b0b90",
   "metadata": {},
   "outputs": [],
   "source": [
    "ypredXGB=np.where(yprobXGB>0.20001444727182383, 1, 0)"
   ]
  },
  {
   "cell_type": "code",
   "execution_count": 184,
   "id": "c47f882b-ce30-488f-ac2a-11f79b5b4efe",
   "metadata": {},
   "outputs": [
    {
     "data": {
      "text/plain": [
       "0.13333333333333333"
      ]
     },
     "execution_count": 184,
     "metadata": {},
     "output_type": "execute_result"
    }
   ],
   "source": [
    "np.average(ypredXGB)"
   ]
  },
  {
   "cell_type": "code",
   "execution_count": 185,
   "id": "66c03d96-5ca8-4ff2-b02c-71c93954b011",
   "metadata": {
    "tags": []
   },
   "outputs": [
    {
     "data": {
      "text/plain": [
       "0.45901639344262296"
      ]
     },
     "execution_count": 185,
     "metadata": {},
     "output_type": "execute_result"
    }
   ],
   "source": [
    "f1_score(y15, ypredXGB)"
   ]
  },
  {
   "cell_type": "code",
   "execution_count": 186,
   "id": "92db77ec-7ba6-4280-8f3e-69c389d730ea",
   "metadata": {},
   "outputs": [
    {
     "data": {
      "text/plain": [
       "0.5185185185185185"
      ]
     },
     "execution_count": 186,
     "metadata": {},
     "output_type": "execute_result"
    }
   ],
   "source": [
    "recall(y15, ypredXGB)"
   ]
  },
  {
   "cell_type": "code",
   "execution_count": 187,
   "id": "e8766ef4-168f-4869-b3ec-ef34ea0adfcc",
   "metadata": {},
   "outputs": [
    {
     "name": "stdout",
     "output_type": "stream",
     "text": [
      "0.8991228070175439\n"
     ]
    }
   ],
   "source": [
    "#Specificity\n",
    "tn, fp, fn, tp= confusion_matrix(y15, ypredRFc).ravel()\n",
    "print(tn/(tn+fp))"
   ]
  },
  {
   "cell_type": "code",
   "execution_count": 188,
   "id": "05fc920d-5187-496c-8b08-e1a6ca5497e9",
   "metadata": {},
   "outputs": [
    {
     "data": {
      "text/plain": [
       "0.8677712800519819"
      ]
     },
     "execution_count": 188,
     "metadata": {},
     "output_type": "execute_result"
    }
   ],
   "source": [
    "roc_auc_score(y15, yprobXGB)"
   ]
  },
  {
   "cell_type": "code",
   "execution_count": 189,
   "id": "9c4ee4a3-db18-4817-8162-84e35367d8fe",
   "metadata": {},
   "outputs": [
    {
     "data": {
      "text/plain": [
       "0.4675324675324675"
      ]
     },
     "execution_count": 189,
     "metadata": {},
     "output_type": "execute_result"
    }
   ],
   "source": [
    "ypredXGB=np.where(yprobXGB>0.130436, 1, 0)\n",
    "f1_score(y15, ypredXGB)"
   ]
  },
  {
   "cell_type": "code",
   "execution_count": 190,
   "id": "d4ddf45b-2f24-475b-a78a-198f3a8ee9c6",
   "metadata": {},
   "outputs": [
    {
     "data": {
      "text/plain": [
       "0.6666666666666666"
      ]
     },
     "execution_count": 190,
     "metadata": {},
     "output_type": "execute_result"
    }
   ],
   "source": [
    "recall(y15, ypredXGB)"
   ]
  },
  {
   "cell_type": "code",
   "execution_count": 191,
   "id": "e5a591f3-4096-4d6d-b185-4efd99881a93",
   "metadata": {},
   "outputs": [
    {
     "name": "stdout",
     "output_type": "stream",
     "text": [
      "0.8991228070175439\n"
     ]
    }
   ],
   "source": [
    "#Specificity\n",
    "tn, fp, fn, tp= confusion_matrix(y15, ypredRFc).ravel()\n",
    "print(tn/(tn+fp))"
   ]
  },
  {
   "cell_type": "code",
   "execution_count": 192,
   "id": "d5a9fbd6-1d2f-45e2-8386-a134a0dc7084",
   "metadata": {},
   "outputs": [
    {
     "data": {
      "text/plain": [
       "[<matplotlib.lines.Line2D at 0x15bea5d98b0>]"
      ]
     },
     "execution_count": 192,
     "metadata": {},
     "output_type": "execute_result"
    },
    {
     "data": {
      "text/plain": [
       "Text(0.5, 0, 'Predicted probability')"
      ]
     },
     "execution_count": 192,
     "metadata": {},
     "output_type": "execute_result"
    },
    {
     "data": {
      "text/plain": [
       "Text(0, 0.5, 'True probability')"
      ]
     },
     "execution_count": 192,
     "metadata": {},
     "output_type": "execute_result"
    },
    {
     "data": {
      "text/plain": [
       "[<matplotlib.lines.Line2D at 0x15bea5d9c10>]"
      ]
     },
     "execution_count": 192,
     "metadata": {},
     "output_type": "execute_result"
    },
    {
     "data": {
      "image/png": "[encoded data removed]",
      "text/plain": [
       "<Figure size 432x288 with 1 Axes>"
      ]
     },
     "metadata": {
      "needs_background": "light"
     },
     "output_type": "display_data"
    }
   ],
   "source": [
    "#Note: results below are unstable and change when rerun\n",
    "\n",
    "from sklearn.calibration import calibration_curve\n",
    "from matplotlib import pyplot\n",
    "# reliability diagram\n",
    "fop, mpv = calibration_curve(y15, yprobXGB, n_bins=10)\n",
    "# plot perfectly calibrated\n",
    "pyplot.plot([0, 1], [0, 1], linestyle='--')\n",
    "# plot model reliability\n",
    "pyplot.xlabel('Predicted probability')\n",
    "pyplot.ylabel('True probability')\n",
    "pyplot.plot(mpv, fop, marker='.')\n",
    "pyplot.show()"
   ]
  },
  {
   "cell_type": "code",
   "execution_count": null,
   "id": "63b3fc7e-9fdf-4259-a449-2826edb03bda",
   "metadata": {},
   "outputs": [],
   "source": []
  }
 ],
 "metadata": {
  "kernelspec": {
   "display_name": "Python 3 (ipykernel)",
   "language": "python",
   "name": "python3"
  },
  "language_info": {
   "codemirror_mode": {
    "name": "ipython",
    "version": 3
   },
   "file_extension": ".py",
   "mimetype": "text/x-python",
   "name": "python",
   "nbconvert_exporter": "python",
   "pygments_lexer": "ipython3",
   "version": "3.9.12"
  }
 },
 "nbformat": 4,
 "nbformat_minor": 5
}
