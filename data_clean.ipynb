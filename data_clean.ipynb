{
 "cells": [
  {
   "cell_type": "markdown",
   "id": "06b36605-3d5c-4a6c-b5aa-d8903e7fd91d",
   "metadata": {
    "tags": []
   },
   "source": [
    "# Study 3 Data Preparation\n",
    "### Predictors from Wave 7, self-harm, suicidal ideation and attempts from Wave 8"
   ]
  },
  {
   "cell_type": "code",
   "execution_count": 3,
   "id": "8a675227-f3bd-4409-b6e8-5fe043c2b07a",
   "metadata": {},
   "outputs": [],
   "source": [
    "import pyreadstat\n",
    "import pandas as pd\n",
    "import numpy as np\n",
    "from itertools import combinations\n",
    "pd.options.display.max_rows = 20\n",
    "from IPython.core.interactiveshell import InteractiveShell\n",
    "InteractiveShell.ast_node_interactivity = \"all\"\n",
    "from sklearn.model_selection import train_test_split\n",
    "from pathlib import Path"
   ]
  },
  {
   "cell_type": "code",
   "execution_count": 2,
   "id": "8800e23b-29ec-4988-b313-a427997b4702",
   "metadata": {},
   "outputs": [],
   "source": [
    "#Importing the necessary data files\n",
    "df8=pd.read_csv('~/OneDrive - UNSW/Documents/lsac-data/w78pmn.csv')\n",
    "lsac8, meta=pyreadstat.read_sas7bdat('~/OneDrive - UNSW/Documents/lsac-data/lsacgrk18.sas7bdat')"
   ]
  },
  {
   "cell_type": "code",
   "execution_count": 3,
   "id": "2c8d05f0-6109-4912-8a4e-a0012f10d8c5",
   "metadata": {},
   "outputs": [
    {
     "data": {
      "text/plain": [
       "hicid\n",
       "51101040.0    1\n",
       "73312029.0    1\n",
       "73311903.0    1\n",
       "73311936.0    1\n",
       "73311937.0    1\n",
       "             ..\n",
       "62106607.0    1\n",
       "62106608.0    1\n",
       "62106619.0    1\n",
       "62106624.0    1\n",
       "88117433.0    1\n",
       "Name: count, Length: 3037, dtype: int64"
      ]
     },
     "execution_count": 3,
     "metadata": {},
     "output_type": "execute_result"
    },
    {
     "data": {
      "text/plain": [
       "sh_l\n",
       " 2.0    2417\n",
       "-9.0     381\n",
       " 1.0     230\n",
       "-3.0       9\n",
       "Name: count, dtype: int64"
      ]
     },
     "execution_count": 3,
     "metadata": {},
     "output_type": "execute_result"
    },
    {
     "data": {
      "text/plain": [
       "sc\n",
       " 2.0    2358\n",
       "-9.0     381\n",
       " 1.0     291\n",
       "-3.0       7\n",
       "Name: count, dtype: int64"
      ]
     },
     "execution_count": 3,
     "metadata": {},
     "output_type": "execute_result"
    },
    {
     "data": {
      "text/plain": [
       "sp\n",
       " 2.0    2422\n",
       "-9.0     381\n",
       " 1.0     228\n",
       "-3.0       6\n",
       "Name: count, dtype: int64"
      ]
     },
     "execution_count": 3,
     "metadata": {},
     "output_type": "execute_result"
    },
    {
     "data": {
      "text/plain": [
       "nssi\n",
       "-9.0    2961\n",
       " 1.0      54\n",
       " 2.0      22\n",
       "Name: count, dtype: int64"
      ]
     },
     "execution_count": 3,
     "metadata": {},
     "output_type": "execute_result"
    }
   ],
   "source": [
    "#Extract SITB outcomes from Wave 8 to link to Wave 7 data\n",
    "sitbs=lsac8[['hicid', 'jhs54b', 'jhs54c', 'jhs54d', 'jhs54g']]\n",
    "\n",
    "sitbs=sitbs.rename(columns={'jhs54b':'sh_l', 'jhs54c':'sc', 'jhs54d':'sp', 'jhs54g':'nssi'})\n",
    "for column in sitbs[1::]:\n",
    "    sitbs[column].value_counts(dropna=False)\n",
    "#Outcome was coded as 1 Yes 2 No; recode to 0 No 1 Yes\n",
    "sitbs=sitbs.replace({2:0})\n",
    "#Creating a dataframe with all SITBs \n",
    "df_all=pd.merge(df8, sitbs, how='inner', on='hicid')"
   ]
  },
  {
   "cell_type": "code",
   "execution_count": 4,
   "id": "755678de-b4d2-406b-9e47-98e7cbde0435",
   "metadata": {},
   "outputs": [
    {
     "data": {
      "text/plain": [
       "att\n",
       "0.0    2323\n",
       "1.0     105\n",
       "Name: count, dtype: int64"
      ]
     },
     "execution_count": 4,
     "metadata": {},
     "output_type": "execute_result"
    },
    {
     "data": {
      "text/plain": [
       "sh_l\n",
       "0.0    2226\n",
       "1.0     202\n",
       "Name: count, dtype: int64"
      ]
     },
     "execution_count": 4,
     "metadata": {},
     "output_type": "execute_result"
    },
    {
     "data": {
      "text/plain": [
       "sc\n",
       "0.0    2167\n",
       "1.0     261\n",
       "Name: count, dtype: int64"
      ]
     },
     "execution_count": 4,
     "metadata": {},
     "output_type": "execute_result"
    }
   ],
   "source": [
    "#Dropping any participant which refused to answer the self-harm or considering suicide questions\n",
    "#Participants who did not answer the suicide attempts question were previously dropped in Study 2\n",
    "df_all=df_all.drop(df_all[df_all.sh_l<0].index)\n",
    "df_all=df_all.drop(df_all[df_all.sc<0].index)\n",
    "for column in df_all[['att', 'sh_l', 'sc']]:\n",
    "    df_all[column].value_counts()"
   ]
  },
  {
   "cell_type": "code",
   "execution_count": 5,
   "id": "b5c92946",
   "metadata": {},
   "outputs": [
    {
     "data": {
      "text/plain": [
       "sc\n",
       "0.0    2167\n",
       "1.0     261\n",
       "Name: count, dtype: int64"
      ]
     },
     "execution_count": 5,
     "metadata": {},
     "output_type": "execute_result"
    },
    {
     "data": {
      "text/plain": [
       "sp\n",
       "0.0    2223\n",
       "1.0     205\n",
       "Name: count, dtype: int64"
      ]
     },
     "execution_count": 5,
     "metadata": {},
     "output_type": "execute_result"
    },
    {
     "data": {
      "text/plain": [
       "si\n",
       "0.0    2106\n",
       "1.0     322\n",
       "Name: count, dtype: int64"
      ]
     },
     "execution_count": 5,
     "metadata": {},
     "output_type": "execute_result"
    },
    {
     "data": {
      "text/html": [
       "<div>\n",
       "<style scoped>\n",
       "    .dataframe tbody tr th:only-of-type {\n",
       "        vertical-align: middle;\n",
       "    }\n",
       "\n",
       "    .dataframe tbody tr th {\n",
       "        vertical-align: top;\n",
       "    }\n",
       "\n",
       "    .dataframe thead th {\n",
       "        text-align: right;\n",
       "    }\n",
       "</style>\n",
       "<table border=\"1\" class=\"dataframe\">\n",
       "  <thead>\n",
       "    <tr style=\"text-align: right;\">\n",
       "      <th>sp</th>\n",
       "      <th>0.0</th>\n",
       "      <th>1.0</th>\n",
       "      <th>All</th>\n",
       "    </tr>\n",
       "    <tr>\n",
       "      <th>sc</th>\n",
       "      <th></th>\n",
       "      <th></th>\n",
       "      <th></th>\n",
       "    </tr>\n",
       "  </thead>\n",
       "  <tbody>\n",
       "    <tr>\n",
       "      <th>0.0</th>\n",
       "      <td>2106</td>\n",
       "      <td>61</td>\n",
       "      <td>2167</td>\n",
       "    </tr>\n",
       "    <tr>\n",
       "      <th>1.0</th>\n",
       "      <td>117</td>\n",
       "      <td>144</td>\n",
       "      <td>261</td>\n",
       "    </tr>\n",
       "    <tr>\n",
       "      <th>All</th>\n",
       "      <td>2223</td>\n",
       "      <td>205</td>\n",
       "      <td>2428</td>\n",
       "    </tr>\n",
       "  </tbody>\n",
       "</table>\n",
       "</div>"
      ],
      "text/plain": [
       "sp    0.0  1.0   All\n",
       "sc                  \n",
       "0.0  2106   61  2167\n",
       "1.0   117  144   261\n",
       "All  2223  205  2428"
      ]
     },
     "execution_count": 5,
     "metadata": {},
     "output_type": "execute_result"
    }
   ],
   "source": [
    "# Self-harm and suicidal ideation needs to be created by combining multiple variables\n",
    "# Suicidal ideation is defined as anyone who reported either considering or planning suicide\n",
    "df_all['si']=df_all['sc']\n",
    "df_all['si']=np.where(df_all['sp']==1, 1, df_all['si'])\n",
    "for column in df_all[['sc', 'sp', 'si']]:\n",
    "    df_all[column].value_counts(dropna=False)\n",
    "pd.crosstab(index=df_all['sc'], columns=df_all['sp'], dropna=False, margins=True)"
   ]
  },
  {
   "cell_type": "code",
   "execution_count": 6,
   "id": "d2975d37",
   "metadata": {},
   "outputs": [
    {
     "data": {
      "text/html": [
       "<div>\n",
       "<style scoped>\n",
       "    .dataframe tbody tr th:only-of-type {\n",
       "        vertical-align: middle;\n",
       "    }\n",
       "\n",
       "    .dataframe tbody tr th {\n",
       "        vertical-align: top;\n",
       "    }\n",
       "\n",
       "    .dataframe thead th {\n",
       "        text-align: right;\n",
       "    }\n",
       "</style>\n",
       "<table border=\"1\" class=\"dataframe\">\n",
       "  <thead>\n",
       "    <tr style=\"text-align: right;\">\n",
       "      <th>att</th>\n",
       "      <th>0.0</th>\n",
       "      <th>1.0</th>\n",
       "      <th>All</th>\n",
       "    </tr>\n",
       "    <tr>\n",
       "      <th>sh_l</th>\n",
       "      <th></th>\n",
       "      <th></th>\n",
       "      <th></th>\n",
       "    </tr>\n",
       "  </thead>\n",
       "  <tbody>\n",
       "    <tr>\n",
       "      <th>0.0</th>\n",
       "      <td>2185</td>\n",
       "      <td>41</td>\n",
       "      <td>2226</td>\n",
       "    </tr>\n",
       "    <tr>\n",
       "      <th>1.0</th>\n",
       "      <td>138</td>\n",
       "      <td>64</td>\n",
       "      <td>202</td>\n",
       "    </tr>\n",
       "    <tr>\n",
       "      <th>All</th>\n",
       "      <td>2323</td>\n",
       "      <td>105</td>\n",
       "      <td>2428</td>\n",
       "    </tr>\n",
       "  </tbody>\n",
       "</table>\n",
       "</div>"
      ],
      "text/plain": [
       "att    0.0  1.0   All\n",
       "sh_l                 \n",
       "0.0   2185   41  2226\n",
       "1.0    138   64   202\n",
       "All   2323  105  2428"
      ]
     },
     "execution_count": 6,
     "metadata": {},
     "output_type": "execute_result"
    }
   ],
   "source": [
    "pd.crosstab(index=df_all['sh_l'], columns=df_all['att'], dropna=False, margins=True)"
   ]
  },
  {
   "cell_type": "code",
   "execution_count": 7,
   "id": "1d5fd49f",
   "metadata": {},
   "outputs": [],
   "source": [
    "df_all=df_all.rename(columns={'nssi':'shq'})"
   ]
  },
  {
   "cell_type": "code",
   "execution_count": 8,
   "id": "80703c8d",
   "metadata": {},
   "outputs": [
    {
     "data": {
      "text/plain": [
       "shsa\n",
       "0.0    2226\n",
       "1.0     202\n",
       "Name: count, dtype: int64"
      ]
     },
     "execution_count": 8,
     "metadata": {},
     "output_type": "execute_result"
    },
    {
     "data": {
      "text/plain": [
       "shsa\n",
       "0    2364\n",
       "1      64\n",
       "Name: count, dtype: int64"
      ]
     },
     "execution_count": 8,
     "metadata": {},
     "output_type": "execute_result"
    },
    {
     "data": {
      "text/html": [
       "<div>\n",
       "<style scoped>\n",
       "    .dataframe tbody tr th:only-of-type {\n",
       "        vertical-align: middle;\n",
       "    }\n",
       "\n",
       "    .dataframe tbody tr th {\n",
       "        vertical-align: top;\n",
       "    }\n",
       "\n",
       "    .dataframe thead th {\n",
       "        text-align: right;\n",
       "    }\n",
       "</style>\n",
       "<table border=\"1\" class=\"dataframe\">\n",
       "  <thead>\n",
       "    <tr style=\"text-align: right;\">\n",
       "      <th>shq</th>\n",
       "      <th>-9.0</th>\n",
       "      <th>0.0</th>\n",
       "      <th>1.0</th>\n",
       "      <th>All</th>\n",
       "    </tr>\n",
       "    <tr>\n",
       "      <th>shsa</th>\n",
       "      <th></th>\n",
       "      <th></th>\n",
       "      <th></th>\n",
       "      <th></th>\n",
       "    </tr>\n",
       "  </thead>\n",
       "  <tbody>\n",
       "    <tr>\n",
       "      <th>0</th>\n",
       "      <td>2364</td>\n",
       "      <td>0</td>\n",
       "      <td>0</td>\n",
       "      <td>2364</td>\n",
       "    </tr>\n",
       "    <tr>\n",
       "      <th>1</th>\n",
       "      <td>0</td>\n",
       "      <td>15</td>\n",
       "      <td>49</td>\n",
       "      <td>64</td>\n",
       "    </tr>\n",
       "    <tr>\n",
       "      <th>All</th>\n",
       "      <td>2364</td>\n",
       "      <td>15</td>\n",
       "      <td>49</td>\n",
       "      <td>2428</td>\n",
       "    </tr>\n",
       "  </tbody>\n",
       "</table>\n",
       "</div>"
      ],
      "text/plain": [
       "shq   -9.0  0.0  1.0   All\n",
       "shsa                      \n",
       "0     2364    0    0  2364\n",
       "1        0   15   49    64\n",
       "All   2364   15   49  2428"
      ]
     },
     "execution_count": 8,
     "metadata": {},
     "output_type": "execute_result"
    }
   ],
   "source": [
    "#NSSI will be defined as everyone who reported self-harm without reporting suicide attempt, with the addition of participants who reported self-harm without suicidal intent in jhs54g\n",
    "#Creating a variable which captures the intersection of participants who reported attempted suicide and self-harm\n",
    "df_all['shsa']=df_all['sh_l']\n",
    "df_all['shsa'].value_counts()\n",
    "df_all['shsa'] = np.where((df_all['att'] == 1) & (df_all['sh_l'] == 1), 1, 0)\n",
    "df_all['shsa'].value_counts()\n",
    "pd.crosstab(index=df_all['shsa'], columns=df_all['shq'], dropna=False, margins=True)"
   ]
  },
  {
   "cell_type": "code",
   "execution_count": 9,
   "id": "540a3eee",
   "metadata": {},
   "outputs": [
    {
     "data": {
      "text/plain": [
       "nssi\n",
       "0    2290\n",
       "1     138\n",
       "Name: count, dtype: int64"
      ]
     },
     "execution_count": 9,
     "metadata": {},
     "output_type": "execute_result"
    }
   ],
   "source": [
    "#Only participants who were eligible to answer the nssi question did so, thus it is okay to add the 'yes' participants to the self-harm cohort\n",
    "#Defining the participants who self-harmed without attempting suicide- thus forming the basis of the NSSI cohort\n",
    "df_all = df_all.assign(nssi=np.where((df_all['att'] == 0) & (df_all['sh_l'] == 1), 1, 0))\n",
    "df_all['nssi'].value_counts()\n"
   ]
  },
  {
   "cell_type": "code",
   "execution_count": 10,
   "id": "4d7839ee",
   "metadata": {},
   "outputs": [
    {
     "data": {
      "text/plain": [
       "nssi\n",
       "0    2241\n",
       "1     187\n",
       "Name: count, dtype: int64"
      ]
     },
     "execution_count": 10,
     "metadata": {},
     "output_type": "execute_result"
    }
   ],
   "source": [
    "#Adding the participants who reported both attempts and self-harm AND answered yes to the specific nssi question jhs54g\n",
    "df_all['nssi']=np.where((df_all['nssi'] == 0) & (df_all['shq'] == 1), 1, df_all['nssi'])\n",
    "df_all['nssi'].value_counts()"
   ]
  },
  {
   "cell_type": "code",
   "execution_count": 11,
   "id": "75bcc990",
   "metadata": {},
   "outputs": [
    {
     "data": {
      "text/plain": [
       "sitbs\n",
       "0    2025\n",
       "1     403\n",
       "Name: count, dtype: int64"
      ]
     },
     "execution_count": 11,
     "metadata": {},
     "output_type": "execute_result"
    }
   ],
   "source": [
    "#Creating composite outcome sitbs\n",
    "df_all['sitbs']=0\n",
    "for column in df_all[['att', 'nssi', 'si']]:\n",
    "    df_all['sitbs']=np.where(df_all[column]==1, 1, df_all['sitbs'])\n",
    "df_all['sitbs'].value_counts()"
   ]
  },
  {
   "cell_type": "code",
   "execution_count": 12,
   "id": "54fa7145",
   "metadata": {},
   "outputs": [
    {
     "data": {
      "text/html": [
       "<div>\n",
       "<style scoped>\n",
       "    .dataframe tbody tr th:only-of-type {\n",
       "        vertical-align: middle;\n",
       "    }\n",
       "\n",
       "    .dataframe tbody tr th {\n",
       "        vertical-align: top;\n",
       "    }\n",
       "\n",
       "    .dataframe thead th {\n",
       "        text-align: right;\n",
       "    }\n",
       "</style>\n",
       "<table border=\"1\" class=\"dataframe\">\n",
       "  <thead>\n",
       "    <tr style=\"text-align: right;\">\n",
       "      <th>att</th>\n",
       "      <th>0.0</th>\n",
       "      <th>1.0</th>\n",
       "      <th>All</th>\n",
       "    </tr>\n",
       "    <tr>\n",
       "      <th>si</th>\n",
       "      <th></th>\n",
       "      <th></th>\n",
       "      <th></th>\n",
       "    </tr>\n",
       "  </thead>\n",
       "  <tbody>\n",
       "    <tr>\n",
       "      <th>0.0</th>\n",
       "      <td>2085</td>\n",
       "      <td>21</td>\n",
       "      <td>2106</td>\n",
       "    </tr>\n",
       "    <tr>\n",
       "      <th>1.0</th>\n",
       "      <td>238</td>\n",
       "      <td>84</td>\n",
       "      <td>322</td>\n",
       "    </tr>\n",
       "    <tr>\n",
       "      <th>All</th>\n",
       "      <td>2323</td>\n",
       "      <td>105</td>\n",
       "      <td>2428</td>\n",
       "    </tr>\n",
       "  </tbody>\n",
       "</table>\n",
       "</div>"
      ],
      "text/plain": [
       "att   0.0  1.0   All\n",
       "si                  \n",
       "0.0  2085   21  2106\n",
       "1.0   238   84   322\n",
       "All  2323  105  2428"
      ]
     },
     "execution_count": 12,
     "metadata": {},
     "output_type": "execute_result"
    },
    {
     "data": {
      "text/html": [
       "<div>\n",
       "<style scoped>\n",
       "    .dataframe tbody tr th:only-of-type {\n",
       "        vertical-align: middle;\n",
       "    }\n",
       "\n",
       "    .dataframe tbody tr th {\n",
       "        vertical-align: top;\n",
       "    }\n",
       "\n",
       "    .dataframe thead th {\n",
       "        text-align: right;\n",
       "    }\n",
       "</style>\n",
       "<table border=\"1\" class=\"dataframe\">\n",
       "  <thead>\n",
       "    <tr style=\"text-align: right;\">\n",
       "      <th>nssi</th>\n",
       "      <th>0</th>\n",
       "      <th>1</th>\n",
       "      <th>All</th>\n",
       "    </tr>\n",
       "    <tr>\n",
       "      <th>si</th>\n",
       "      <th></th>\n",
       "      <th></th>\n",
       "      <th></th>\n",
       "    </tr>\n",
       "  </thead>\n",
       "  <tbody>\n",
       "    <tr>\n",
       "      <th>0.0</th>\n",
       "      <td>2044</td>\n",
       "      <td>62</td>\n",
       "      <td>2106</td>\n",
       "    </tr>\n",
       "    <tr>\n",
       "      <th>1.0</th>\n",
       "      <td>197</td>\n",
       "      <td>125</td>\n",
       "      <td>322</td>\n",
       "    </tr>\n",
       "    <tr>\n",
       "      <th>All</th>\n",
       "      <td>2241</td>\n",
       "      <td>187</td>\n",
       "      <td>2428</td>\n",
       "    </tr>\n",
       "  </tbody>\n",
       "</table>\n",
       "</div>"
      ],
      "text/plain": [
       "nssi     0    1   All\n",
       "si                   \n",
       "0.0   2044   62  2106\n",
       "1.0    197  125   322\n",
       "All   2241  187  2428"
      ]
     },
     "execution_count": 12,
     "metadata": {},
     "output_type": "execute_result"
    },
    {
     "data": {
      "text/html": [
       "<div>\n",
       "<style scoped>\n",
       "    .dataframe tbody tr th:only-of-type {\n",
       "        vertical-align: middle;\n",
       "    }\n",
       "\n",
       "    .dataframe tbody tr th {\n",
       "        vertical-align: top;\n",
       "    }\n",
       "\n",
       "    .dataframe thead th {\n",
       "        text-align: right;\n",
       "    }\n",
       "</style>\n",
       "<table border=\"1\" class=\"dataframe\">\n",
       "  <thead>\n",
       "    <tr style=\"text-align: right;\">\n",
       "      <th>nssi</th>\n",
       "      <th>0</th>\n",
       "      <th>1</th>\n",
       "      <th>All</th>\n",
       "    </tr>\n",
       "    <tr>\n",
       "      <th>att</th>\n",
       "      <th></th>\n",
       "      <th></th>\n",
       "      <th></th>\n",
       "    </tr>\n",
       "  </thead>\n",
       "  <tbody>\n",
       "    <tr>\n",
       "      <th>0.0</th>\n",
       "      <td>2185</td>\n",
       "      <td>138</td>\n",
       "      <td>2323</td>\n",
       "    </tr>\n",
       "    <tr>\n",
       "      <th>1.0</th>\n",
       "      <td>56</td>\n",
       "      <td>49</td>\n",
       "      <td>105</td>\n",
       "    </tr>\n",
       "    <tr>\n",
       "      <th>All</th>\n",
       "      <td>2241</td>\n",
       "      <td>187</td>\n",
       "      <td>2428</td>\n",
       "    </tr>\n",
       "  </tbody>\n",
       "</table>\n",
       "</div>"
      ],
      "text/plain": [
       "nssi     0    1   All\n",
       "att                  \n",
       "0.0   2185  138  2323\n",
       "1.0     56   49   105\n",
       "All   2241  187  2428"
      ]
     },
     "execution_count": 12,
     "metadata": {},
     "output_type": "execute_result"
    },
    {
     "data": {
      "text/html": [
       "<div>\n",
       "<style scoped>\n",
       "    .dataframe tbody tr th:only-of-type {\n",
       "        vertical-align: middle;\n",
       "    }\n",
       "\n",
       "    .dataframe tbody tr th {\n",
       "        vertical-align: top;\n",
       "    }\n",
       "\n",
       "    .dataframe thead th {\n",
       "        text-align: right;\n",
       "    }\n",
       "</style>\n",
       "<table border=\"1\" class=\"dataframe\">\n",
       "  <thead>\n",
       "    <tr style=\"text-align: right;\">\n",
       "      <th>sitbs</th>\n",
       "      <th>0</th>\n",
       "      <th>1</th>\n",
       "      <th>All</th>\n",
       "    </tr>\n",
       "    <tr>\n",
       "      <th>si</th>\n",
       "      <th></th>\n",
       "      <th></th>\n",
       "      <th></th>\n",
       "    </tr>\n",
       "  </thead>\n",
       "  <tbody>\n",
       "    <tr>\n",
       "      <th>0.0</th>\n",
       "      <td>2025</td>\n",
       "      <td>81</td>\n",
       "      <td>2106</td>\n",
       "    </tr>\n",
       "    <tr>\n",
       "      <th>1.0</th>\n",
       "      <td>0</td>\n",
       "      <td>322</td>\n",
       "      <td>322</td>\n",
       "    </tr>\n",
       "    <tr>\n",
       "      <th>All</th>\n",
       "      <td>2025</td>\n",
       "      <td>403</td>\n",
       "      <td>2428</td>\n",
       "    </tr>\n",
       "  </tbody>\n",
       "</table>\n",
       "</div>"
      ],
      "text/plain": [
       "sitbs     0    1   All\n",
       "si                    \n",
       "0.0    2025   81  2106\n",
       "1.0       0  322   322\n",
       "All    2025  403  2428"
      ]
     },
     "execution_count": 12,
     "metadata": {},
     "output_type": "execute_result"
    },
    {
     "data": {
      "text/html": [
       "<div>\n",
       "<style scoped>\n",
       "    .dataframe tbody tr th:only-of-type {\n",
       "        vertical-align: middle;\n",
       "    }\n",
       "\n",
       "    .dataframe tbody tr th {\n",
       "        vertical-align: top;\n",
       "    }\n",
       "\n",
       "    .dataframe thead th {\n",
       "        text-align: right;\n",
       "    }\n",
       "</style>\n",
       "<table border=\"1\" class=\"dataframe\">\n",
       "  <thead>\n",
       "    <tr style=\"text-align: right;\">\n",
       "      <th>sitbs</th>\n",
       "      <th>0</th>\n",
       "      <th>1</th>\n",
       "      <th>All</th>\n",
       "    </tr>\n",
       "    <tr>\n",
       "      <th>att</th>\n",
       "      <th></th>\n",
       "      <th></th>\n",
       "      <th></th>\n",
       "    </tr>\n",
       "  </thead>\n",
       "  <tbody>\n",
       "    <tr>\n",
       "      <th>0.0</th>\n",
       "      <td>2025</td>\n",
       "      <td>298</td>\n",
       "      <td>2323</td>\n",
       "    </tr>\n",
       "    <tr>\n",
       "      <th>1.0</th>\n",
       "      <td>0</td>\n",
       "      <td>105</td>\n",
       "      <td>105</td>\n",
       "    </tr>\n",
       "    <tr>\n",
       "      <th>All</th>\n",
       "      <td>2025</td>\n",
       "      <td>403</td>\n",
       "      <td>2428</td>\n",
       "    </tr>\n",
       "  </tbody>\n",
       "</table>\n",
       "</div>"
      ],
      "text/plain": [
       "sitbs     0    1   All\n",
       "att                   \n",
       "0.0    2025  298  2323\n",
       "1.0       0  105   105\n",
       "All    2025  403  2428"
      ]
     },
     "execution_count": 12,
     "metadata": {},
     "output_type": "execute_result"
    },
    {
     "data": {
      "text/html": [
       "<div>\n",
       "<style scoped>\n",
       "    .dataframe tbody tr th:only-of-type {\n",
       "        vertical-align: middle;\n",
       "    }\n",
       "\n",
       "    .dataframe tbody tr th {\n",
       "        vertical-align: top;\n",
       "    }\n",
       "\n",
       "    .dataframe thead th {\n",
       "        text-align: right;\n",
       "    }\n",
       "</style>\n",
       "<table border=\"1\" class=\"dataframe\">\n",
       "  <thead>\n",
       "    <tr style=\"text-align: right;\">\n",
       "      <th>sitbs</th>\n",
       "      <th>0</th>\n",
       "      <th>1</th>\n",
       "      <th>All</th>\n",
       "    </tr>\n",
       "    <tr>\n",
       "      <th>nssi</th>\n",
       "      <th></th>\n",
       "      <th></th>\n",
       "      <th></th>\n",
       "    </tr>\n",
       "  </thead>\n",
       "  <tbody>\n",
       "    <tr>\n",
       "      <th>0</th>\n",
       "      <td>2025</td>\n",
       "      <td>216</td>\n",
       "      <td>2241</td>\n",
       "    </tr>\n",
       "    <tr>\n",
       "      <th>1</th>\n",
       "      <td>0</td>\n",
       "      <td>187</td>\n",
       "      <td>187</td>\n",
       "    </tr>\n",
       "    <tr>\n",
       "      <th>All</th>\n",
       "      <td>2025</td>\n",
       "      <td>403</td>\n",
       "      <td>2428</td>\n",
       "    </tr>\n",
       "  </tbody>\n",
       "</table>\n",
       "</div>"
      ],
      "text/plain": [
       "sitbs     0    1   All\n",
       "nssi                  \n",
       "0      2025  216  2241\n",
       "1         0  187   187\n",
       "All    2025  403  2428"
      ]
     },
     "execution_count": 12,
     "metadata": {},
     "output_type": "execute_result"
    }
   ],
   "source": [
    "columns_to_cross = ['si', 'att', 'nssi']\n",
    "\n",
    "for column, other_column in combinations(columns_to_cross, 2):\n",
    "    pd.crosstab(index=df_all[column], columns=df_all[other_column], dropna=False, margins=True)        \n",
    "\n",
    "for column in columns_to_cross:\n",
    "    pd.crosstab(index=df_all[column], columns=df_all['sitbs'], dropna=False, margins=True)  "
   ]
  },
  {
   "cell_type": "code",
   "execution_count": 13,
   "id": "9f301b17-7d4a-4189-a250-113ae1ada331",
   "metadata": {},
   "outputs": [
    {
     "data": {
      "text/plain": [
       "(2428, 1414)"
      ]
     },
     "execution_count": 13,
     "metadata": {},
     "output_type": "execute_result"
    }
   ],
   "source": [
    "df_all.shape\n",
    "#Dropping features with less than 5% of positive responses to reduce the number of redundant features\n",
    "pd.set_option('display.max_rows', 2000)\n",
    "df_all2=df_all.select_dtypes(include=['int64'])\n",
    "dropcols=list(df_all2.columns[df_all2.mean(axis=0)<0.05])"
   ]
  },
  {
   "cell_type": "code",
   "execution_count": 14,
   "id": "9952eb48-92be-4519-899b-bc2320d77369",
   "metadata": {},
   "outputs": [
    {
     "data": {
      "text/plain": [
       "1331"
      ]
     },
     "execution_count": 14,
     "metadata": {},
     "output_type": "execute_result"
    },
    {
     "data": {
      "text/plain": [
       "1399"
      ]
     },
     "execution_count": 14,
     "metadata": {},
     "output_type": "execute_result"
    }
   ],
   "source": [
    "df_all.columns.get_loc(\"A01\")\n",
    "df_all.columns.get_loc(\"hos\")"
   ]
  },
  {
   "cell_type": "code",
   "execution_count": 15,
   "id": "3cb6a8d2-4a03-498c-ac42-8fe98f8a7420",
   "metadata": {},
   "outputs": [],
   "source": [
    "df_all3=df_all.iloc[:, 1331:1400]\n",
    "droppbs=df_all3.columns[df_all3.mean(axis=0)<0.05]"
   ]
  },
  {
   "cell_type": "code",
   "execution_count": 16,
   "id": "89d0ef61-ca44-4ab1-a1b5-2a77952337a6",
   "metadata": {},
   "outputs": [
    {
     "data": {
      "text/plain": [
       "(2428, 69)"
      ]
     },
     "execution_count": 16,
     "metadata": {},
     "output_type": "execute_result"
    },
    {
     "data": {
      "text/plain": [
       "Index(['A01', 'A02', 'A03', 'A04', 'A06', 'A07', 'A09', 'A10', 'A11', 'B01',\n",
       "       'B02', 'B03', 'C01', 'C02', 'C03', 'C07', 'C08', 'C09', 'C10', 'D01',\n",
       "       'D05', 'D06', 'D11', 'G02', 'G04', 'H01', 'H02', 'H03', 'H04', 'J02',\n",
       "       'J04', 'J05', 'L01', 'L02', 'L04', 'M01', 'M03', 'M04', 'N03', 'N04B',\n",
       "       'N05A', 'N05B', 'N05C', 'N07B', 'P02', 'P03', 'R01', 'R05', 'R07',\n",
       "       'S01', 'S02', 'S03', 'V01', 'V06'],\n",
       "      dtype='object')"
      ]
     },
     "execution_count": 16,
     "metadata": {},
     "output_type": "execute_result"
    },
    {
     "data": {
      "text/plain": [
       "(54,)"
      ]
     },
     "execution_count": 16,
     "metadata": {},
     "output_type": "execute_result"
    }
   ],
   "source": [
    "df_all3.shape\n",
    "droppbs\n",
    "droppbs.shape"
   ]
  },
  {
   "cell_type": "code",
   "execution_count": 17,
   "id": "26746373-4075-4497-8906-ca81e4f9ec44",
   "metadata": {},
   "outputs": [
    {
     "data": {
      "text/html": [
       "<div>\n",
       "<style scoped>\n",
       "    .dataframe tbody tr th:only-of-type {\n",
       "        vertical-align: middle;\n",
       "    }\n",
       "\n",
       "    .dataframe tbody tr th {\n",
       "        vertical-align: top;\n",
       "    }\n",
       "\n",
       "    .dataframe thead th {\n",
       "        text-align: right;\n",
       "    }\n",
       "</style>\n",
       "<table border=\"1\" class=\"dataframe\">\n",
       "  <thead>\n",
       "    <tr style=\"text-align: right;\">\n",
       "      <th></th>\n",
       "      <th>hicid</th>\n",
       "      <th>fd20a1</th>\n",
       "      <th>fd20c4</th>\n",
       "      <th>pe05c</th>\n",
       "      <th>pe06c2</th>\n",
       "      <th>fd24c1</th>\n",
       "      <th>f13ip1</th>\n",
       "      <th>f17ip1</th>\n",
       "      <th>f17zip1</th>\n",
       "      <th>f17aip1</th>\n",
       "      <th>...</th>\n",
       "      <th>y9spel</th>\n",
       "      <th>y9write</th>\n",
       "      <th>sh_l</th>\n",
       "      <th>sc</th>\n",
       "      <th>sp</th>\n",
       "      <th>shq</th>\n",
       "      <th>si</th>\n",
       "      <th>shsa</th>\n",
       "      <th>nssi</th>\n",
       "      <th>sitbs</th>\n",
       "    </tr>\n",
       "  </thead>\n",
       "  <tbody>\n",
       "    <tr>\n",
       "      <th>0</th>\n",
       "      <td>51101040.0</td>\n",
       "      <td>-9.0</td>\n",
       "      <td>-9.0</td>\n",
       "      <td>-9.0</td>\n",
       "      <td>-9.0</td>\n",
       "      <td>-9.0</td>\n",
       "      <td>1.0</td>\n",
       "      <td>2.0</td>\n",
       "      <td>2.0</td>\n",
       "      <td>0.0</td>\n",
       "      <td>...</td>\n",
       "      <td>561.7</td>\n",
       "      <td>617.6</td>\n",
       "      <td>1.0</td>\n",
       "      <td>1.0</td>\n",
       "      <td>1.0</td>\n",
       "      <td>-9.0</td>\n",
       "      <td>1.0</td>\n",
       "      <td>0</td>\n",
       "      <td>1</td>\n",
       "      <td>1</td>\n",
       "    </tr>\n",
       "    <tr>\n",
       "      <th>1</th>\n",
       "      <td>51101041.0</td>\n",
       "      <td>-9.0</td>\n",
       "      <td>-9.0</td>\n",
       "      <td>-9.0</td>\n",
       "      <td>-9.0</td>\n",
       "      <td>-9.0</td>\n",
       "      <td>2.0</td>\n",
       "      <td>1.0</td>\n",
       "      <td>1.0</td>\n",
       "      <td>0.0</td>\n",
       "      <td>...</td>\n",
       "      <td>542.8</td>\n",
       "      <td>594.5</td>\n",
       "      <td>0.0</td>\n",
       "      <td>0.0</td>\n",
       "      <td>0.0</td>\n",
       "      <td>-9.0</td>\n",
       "      <td>0.0</td>\n",
       "      <td>0</td>\n",
       "      <td>0</td>\n",
       "      <td>0</td>\n",
       "    </tr>\n",
       "    <tr>\n",
       "      <th>2</th>\n",
       "      <td>51101046.0</td>\n",
       "      <td>-9.0</td>\n",
       "      <td>-9.0</td>\n",
       "      <td>-9.0</td>\n",
       "      <td>-9.0</td>\n",
       "      <td>-9.0</td>\n",
       "      <td>1.0</td>\n",
       "      <td>2.0</td>\n",
       "      <td>2.0</td>\n",
       "      <td>0.0</td>\n",
       "      <td>...</td>\n",
       "      <td>561.7</td>\n",
       "      <td>594.5</td>\n",
       "      <td>0.0</td>\n",
       "      <td>0.0</td>\n",
       "      <td>0.0</td>\n",
       "      <td>-9.0</td>\n",
       "      <td>0.0</td>\n",
       "      <td>0</td>\n",
       "      <td>0</td>\n",
       "      <td>0</td>\n",
       "    </tr>\n",
       "    <tr>\n",
       "      <th>3</th>\n",
       "      <td>51101053.0</td>\n",
       "      <td>-9.0</td>\n",
       "      <td>-9.0</td>\n",
       "      <td>-9.0</td>\n",
       "      <td>-9.0</td>\n",
       "      <td>-9.0</td>\n",
       "      <td>1.0</td>\n",
       "      <td>2.0</td>\n",
       "      <td>2.0</td>\n",
       "      <td>0.0</td>\n",
       "      <td>...</td>\n",
       "      <td>723.7</td>\n",
       "      <td>594.5</td>\n",
       "      <td>0.0</td>\n",
       "      <td>0.0</td>\n",
       "      <td>0.0</td>\n",
       "      <td>-9.0</td>\n",
       "      <td>0.0</td>\n",
       "      <td>0</td>\n",
       "      <td>0</td>\n",
       "      <td>0</td>\n",
       "    </tr>\n",
       "    <tr>\n",
       "      <th>4</th>\n",
       "      <td>51101060.0</td>\n",
       "      <td>-9.0</td>\n",
       "      <td>-9.0</td>\n",
       "      <td>-9.0</td>\n",
       "      <td>-9.0</td>\n",
       "      <td>-9.0</td>\n",
       "      <td>2.0</td>\n",
       "      <td>1.0</td>\n",
       "      <td>1.0</td>\n",
       "      <td>0.0</td>\n",
       "      <td>...</td>\n",
       "      <td>558.8</td>\n",
       "      <td>570.3</td>\n",
       "      <td>0.0</td>\n",
       "      <td>0.0</td>\n",
       "      <td>0.0</td>\n",
       "      <td>-9.0</td>\n",
       "      <td>0.0</td>\n",
       "      <td>0</td>\n",
       "      <td>0</td>\n",
       "      <td>0</td>\n",
       "    </tr>\n",
       "    <tr>\n",
       "      <th>...</th>\n",
       "      <td>...</td>\n",
       "      <td>...</td>\n",
       "      <td>...</td>\n",
       "      <td>...</td>\n",
       "      <td>...</td>\n",
       "      <td>...</td>\n",
       "      <td>...</td>\n",
       "      <td>...</td>\n",
       "      <td>...</td>\n",
       "      <td>...</td>\n",
       "      <td>...</td>\n",
       "      <td>...</td>\n",
       "      <td>...</td>\n",
       "      <td>...</td>\n",
       "      <td>...</td>\n",
       "      <td>...</td>\n",
       "      <td>...</td>\n",
       "      <td>...</td>\n",
       "      <td>...</td>\n",
       "      <td>...</td>\n",
       "      <td>...</td>\n",
       "    </tr>\n",
       "    <tr>\n",
       "      <th>2428</th>\n",
       "      <td>88116100.0</td>\n",
       "      <td>-9.0</td>\n",
       "      <td>-9.0</td>\n",
       "      <td>-9.0</td>\n",
       "      <td>-9.0</td>\n",
       "      <td>-9.0</td>\n",
       "      <td>1.0</td>\n",
       "      <td>2.0</td>\n",
       "      <td>2.0</td>\n",
       "      <td>0.0</td>\n",
       "      <td>...</td>\n",
       "      <td>-9.0</td>\n",
       "      <td>-9.0</td>\n",
       "      <td>0.0</td>\n",
       "      <td>1.0</td>\n",
       "      <td>1.0</td>\n",
       "      <td>-9.0</td>\n",
       "      <td>1.0</td>\n",
       "      <td>0</td>\n",
       "      <td>0</td>\n",
       "      <td>1</td>\n",
       "    </tr>\n",
       "    <tr>\n",
       "      <th>2429</th>\n",
       "      <td>88116142.0</td>\n",
       "      <td>-9.0</td>\n",
       "      <td>-9.0</td>\n",
       "      <td>-9.0</td>\n",
       "      <td>-9.0</td>\n",
       "      <td>-9.0</td>\n",
       "      <td>2.0</td>\n",
       "      <td>1.0</td>\n",
       "      <td>1.0</td>\n",
       "      <td>0.0</td>\n",
       "      <td>...</td>\n",
       "      <td>673.0</td>\n",
       "      <td>582.5</td>\n",
       "      <td>0.0</td>\n",
       "      <td>0.0</td>\n",
       "      <td>0.0</td>\n",
       "      <td>-9.0</td>\n",
       "      <td>0.0</td>\n",
       "      <td>0</td>\n",
       "      <td>0</td>\n",
       "      <td>0</td>\n",
       "    </tr>\n",
       "    <tr>\n",
       "      <th>2430</th>\n",
       "      <td>88116585.0</td>\n",
       "      <td>-9.0</td>\n",
       "      <td>-9.0</td>\n",
       "      <td>-9.0</td>\n",
       "      <td>-9.0</td>\n",
       "      <td>-9.0</td>\n",
       "      <td>1.0</td>\n",
       "      <td>2.0</td>\n",
       "      <td>2.0</td>\n",
       "      <td>0.0</td>\n",
       "      <td>...</td>\n",
       "      <td>552.3</td>\n",
       "      <td>676.0</td>\n",
       "      <td>0.0</td>\n",
       "      <td>0.0</td>\n",
       "      <td>0.0</td>\n",
       "      <td>-9.0</td>\n",
       "      <td>0.0</td>\n",
       "      <td>0</td>\n",
       "      <td>0</td>\n",
       "      <td>0</td>\n",
       "    </tr>\n",
       "    <tr>\n",
       "      <th>2431</th>\n",
       "      <td>88116874.0</td>\n",
       "      <td>-9.0</td>\n",
       "      <td>-9.0</td>\n",
       "      <td>-9.0</td>\n",
       "      <td>-9.0</td>\n",
       "      <td>-9.0</td>\n",
       "      <td>1.0</td>\n",
       "      <td>2.0</td>\n",
       "      <td>2.0</td>\n",
       "      <td>0.0</td>\n",
       "      <td>...</td>\n",
       "      <td>657.6</td>\n",
       "      <td>715.7</td>\n",
       "      <td>0.0</td>\n",
       "      <td>0.0</td>\n",
       "      <td>0.0</td>\n",
       "      <td>-9.0</td>\n",
       "      <td>0.0</td>\n",
       "      <td>0</td>\n",
       "      <td>0</td>\n",
       "      <td>0</td>\n",
       "    </tr>\n",
       "    <tr>\n",
       "      <th>2432</th>\n",
       "      <td>88117433.0</td>\n",
       "      <td>-9.0</td>\n",
       "      <td>-9.0</td>\n",
       "      <td>-9.0</td>\n",
       "      <td>-9.0</td>\n",
       "      <td>-9.0</td>\n",
       "      <td>2.0</td>\n",
       "      <td>1.0</td>\n",
       "      <td>1.0</td>\n",
       "      <td>0.0</td>\n",
       "      <td>...</td>\n",
       "      <td>621.9</td>\n",
       "      <td>523.2</td>\n",
       "      <td>0.0</td>\n",
       "      <td>0.0</td>\n",
       "      <td>0.0</td>\n",
       "      <td>-9.0</td>\n",
       "      <td>0.0</td>\n",
       "      <td>0</td>\n",
       "      <td>0</td>\n",
       "      <td>0</td>\n",
       "    </tr>\n",
       "  </tbody>\n",
       "</table>\n",
       "<p>2428 rows × 1021 columns</p>\n",
       "</div>"
      ],
      "text/plain": [
       "           hicid  fd20a1  fd20c4  pe05c  pe06c2  fd24c1  f13ip1  f17ip1  \\\n",
       "0     51101040.0    -9.0    -9.0   -9.0    -9.0    -9.0     1.0     2.0   \n",
       "1     51101041.0    -9.0    -9.0   -9.0    -9.0    -9.0     2.0     1.0   \n",
       "2     51101046.0    -9.0    -9.0   -9.0    -9.0    -9.0     1.0     2.0   \n",
       "3     51101053.0    -9.0    -9.0   -9.0    -9.0    -9.0     1.0     2.0   \n",
       "4     51101060.0    -9.0    -9.0   -9.0    -9.0    -9.0     2.0     1.0   \n",
       "...          ...     ...     ...    ...     ...     ...     ...     ...   \n",
       "2428  88116100.0    -9.0    -9.0   -9.0    -9.0    -9.0     1.0     2.0   \n",
       "2429  88116142.0    -9.0    -9.0   -9.0    -9.0    -9.0     2.0     1.0   \n",
       "2430  88116585.0    -9.0    -9.0   -9.0    -9.0    -9.0     1.0     2.0   \n",
       "2431  88116874.0    -9.0    -9.0   -9.0    -9.0    -9.0     1.0     2.0   \n",
       "2432  88117433.0    -9.0    -9.0   -9.0    -9.0    -9.0     2.0     1.0   \n",
       "\n",
       "      f17zip1  f17aip1  ...  y9spel  y9write  sh_l   sc   sp  shq   si  shsa  \\\n",
       "0         2.0      0.0  ...   561.7    617.6   1.0  1.0  1.0 -9.0  1.0     0   \n",
       "1         1.0      0.0  ...   542.8    594.5   0.0  0.0  0.0 -9.0  0.0     0   \n",
       "2         2.0      0.0  ...   561.7    594.5   0.0  0.0  0.0 -9.0  0.0     0   \n",
       "3         2.0      0.0  ...   723.7    594.5   0.0  0.0  0.0 -9.0  0.0     0   \n",
       "4         1.0      0.0  ...   558.8    570.3   0.0  0.0  0.0 -9.0  0.0     0   \n",
       "...       ...      ...  ...     ...      ...   ...  ...  ...  ...  ...   ...   \n",
       "2428      2.0      0.0  ...    -9.0     -9.0   0.0  1.0  1.0 -9.0  1.0     0   \n",
       "2429      1.0      0.0  ...   673.0    582.5   0.0  0.0  0.0 -9.0  0.0     0   \n",
       "2430      2.0      0.0  ...   552.3    676.0   0.0  0.0  0.0 -9.0  0.0     0   \n",
       "2431      2.0      0.0  ...   657.6    715.7   0.0  0.0  0.0 -9.0  0.0     0   \n",
       "2432      1.0      0.0  ...   621.9    523.2   0.0  0.0  0.0 -9.0  0.0     0   \n",
       "\n",
       "      nssi  sitbs  \n",
       "0        1      1  \n",
       "1        0      0  \n",
       "2        0      0  \n",
       "3        0      0  \n",
       "4        0      0  \n",
       "...    ...    ...  \n",
       "2428     0      1  \n",
       "2429     0      0  \n",
       "2430     0      0  \n",
       "2431     0      0  \n",
       "2432     0      0  \n",
       "\n",
       "[2428 rows x 1021 columns]"
      ]
     },
     "execution_count": 17,
     "metadata": {},
     "output_type": "execute_result"
    }
   ],
   "source": [
    "#Creating the final dataset with redundant features dropped\n",
    "#s for small\n",
    "df_alls=df_all.drop(dropcols, axis=1)\n",
    "df_alls=df_alls.drop(droppbs, axis=1)\n",
    "df_alls"
   ]
  },
  {
   "cell_type": "code",
   "execution_count": 23,
   "id": "895a10e4",
   "metadata": {},
   "outputs": [
    {
     "data": {
      "text/plain": [
       "['y9spel', 'y9write', 'sh_l', 'sc', 'sp', 'shq', 'si', 'shsa', 'nssi', 'sitbs']"
      ]
     },
     "execution_count": 23,
     "metadata": {},
     "output_type": "execute_result"
    }
   ],
   "source": [
    "list(df_alls.columns[-10:])\n",
    "df_alls=df_alls.drop(['hicid'], axis=1)"
   ]
  },
  {
   "cell_type": "code",
   "execution_count": 24,
   "id": "46a45f5a-6534-4d52-bddb-c5b112a4d683",
   "metadata": {},
   "outputs": [],
   "source": [
    "dfallspath=Path('~/OneDrive - UNSW/Documents/lsac-data/df_alls.csv')\n",
    "dfallspath.parent.mkdir(parents=True, exist_ok=True) \n",
    "df_alls.to_csv(dfallspath, index=False)\n",
    "Xfull=df_alls.drop(columns=['att','sh_l', 'sc', 'sp', 'shq', 'si', 'shsa', 'nssi', 'sitbs'])\n",
    "yfull_all=df_alls[['si', 'nssi', 'att','sitbs']] "
   ]
  },
  {
   "cell_type": "code",
   "execution_count": 25,
   "id": "e6850dfe",
   "metadata": {},
   "outputs": [
    {
     "data": {
      "text/plain": [
       "(2428, 1011)"
      ]
     },
     "execution_count": 25,
     "metadata": {},
     "output_type": "execute_result"
    },
    {
     "data": {
      "text/plain": [
       "(2428, 4)"
      ]
     },
     "execution_count": 25,
     "metadata": {},
     "output_type": "execute_result"
    }
   ],
   "source": [
    "Xfull.shape\n",
    "yfull_all.shape"
   ]
  },
  {
   "cell_type": "code",
   "execution_count": 26,
   "id": "e21dd72c-e7cd-4930-a292-75b31c10b87b",
   "metadata": {},
   "outputs": [],
   "source": [
    "#To keep the feature matrix consistent, I will stratify the train and test datasets by outcomes of nssi, si, and att\n",
    "#Split the data and only perform model development on the 70% training data from here onwards\n",
    "X, X_hold, y, y_hold=train_test_split(Xfull, yfull_all, test_size=0.30, random_state=26, stratify=yfull_all)\n"
   ]
  },
  {
   "cell_type": "code",
   "execution_count": 28,
   "id": "b86d3a1c",
   "metadata": {},
   "outputs": [
    {
     "data": {
      "text/plain": [
       "(1699, 1011)"
      ]
     },
     "execution_count": 28,
     "metadata": {},
     "output_type": "execute_result"
    },
    {
     "data": {
      "text/plain": [
       "(729, 1011)"
      ]
     },
     "execution_count": 28,
     "metadata": {},
     "output_type": "execute_result"
    },
    {
     "data": {
      "text/plain": [
       "(1699, 4)"
      ]
     },
     "execution_count": 28,
     "metadata": {},
     "output_type": "execute_result"
    },
    {
     "data": {
      "text/plain": [
       "(729, 4)"
      ]
     },
     "execution_count": 28,
     "metadata": {},
     "output_type": "execute_result"
    }
   ],
   "source": [
    "X.shape\n",
    "X_hold.shape\n",
    "y.shape\n",
    "y_hold.shape"
   ]
  },
  {
   "cell_type": "code",
   "execution_count": 29,
   "id": "8e731015",
   "metadata": {},
   "outputs": [],
   "source": [
    "X.to_csv('X.csv', index=False)\n",
    "X_hold.to_csv('X_hold.csv', index=False)\n",
    "y.to_csv('y.csv', index=False)\n",
    "y_hold.to_csv('y_hold.csv', index=False)"
   ]
  },
  {
   "cell_type": "code",
   "execution_count": 30,
   "id": "4d9caea9",
   "metadata": {},
   "outputs": [
    {
     "name": "stdout",
     "output_type": "stream",
     "text": [
      "Proportion of si in y\n"
     ]
    },
    {
     "data": {
      "text/plain": [
       "si\n",
       "0.0    0.866981\n",
       "1.0    0.133019\n",
       "Name: proportion, dtype: float64"
      ]
     },
     "execution_count": 30,
     "metadata": {},
     "output_type": "execute_result"
    },
    {
     "name": "stdout",
     "output_type": "stream",
     "text": [
      "Proportion of si in y_hold\n"
     ]
    },
    {
     "data": {
      "text/plain": [
       "si\n",
       "0.0    0.868313\n",
       "1.0    0.131687\n",
       "Name: proportion, dtype: float64"
      ]
     },
     "execution_count": 30,
     "metadata": {},
     "output_type": "execute_result"
    },
    {
     "name": "stdout",
     "output_type": "stream",
     "text": [
      "Proportion of att in y\n"
     ]
    },
    {
     "data": {
      "text/plain": [
       "att\n",
       "0.0    0.957034\n",
       "1.0    0.042966\n",
       "Name: proportion, dtype: float64"
      ]
     },
     "execution_count": 30,
     "metadata": {},
     "output_type": "execute_result"
    },
    {
     "name": "stdout",
     "output_type": "stream",
     "text": [
      "Proportion of att in y_hold\n"
     ]
    },
    {
     "data": {
      "text/plain": [
       "att\n",
       "0.0    0.956104\n",
       "1.0    0.043896\n",
       "Name: proportion, dtype: float64"
      ]
     },
     "execution_count": 30,
     "metadata": {},
     "output_type": "execute_result"
    },
    {
     "name": "stdout",
     "output_type": "stream",
     "text": [
      "Proportion of nssi in y\n"
     ]
    },
    {
     "data": {
      "text/plain": [
       "nssi\n",
       "0    0.922896\n",
       "1    0.077104\n",
       "Name: proportion, dtype: float64"
      ]
     },
     "execution_count": 30,
     "metadata": {},
     "output_type": "execute_result"
    },
    {
     "name": "stdout",
     "output_type": "stream",
     "text": [
      "Proportion of nssi in y_hold\n"
     ]
    },
    {
     "data": {
      "text/plain": [
       "nssi\n",
       "0    0.923182\n",
       "1    0.076818\n",
       "Name: proportion, dtype: float64"
      ]
     },
     "execution_count": 30,
     "metadata": {},
     "output_type": "execute_result"
    }
   ],
   "source": [
    "#Checking the stratification worked for each outcome\n",
    "sre=['si', 'att', 'nssi']\n",
    "for i in sre:\n",
    "        print(f'Proportion of {i} in y')\n",
    "        y[i].value_counts(normalize=True)\n",
    "        print(f'Proportion of {i} in y_hold')\n",
    "        y_hold[i].value_counts(normalize=True)"
   ]
  },
  {
   "cell_type": "code",
   "execution_count": 32,
   "id": "20fa34ff",
   "metadata": {},
   "outputs": [
    {
     "data": {
      "text/html": [
       "<style>#sk-container-id-1 {color: black;}#sk-container-id-1 pre{padding: 0;}#sk-container-id-1 div.sk-toggleable {background-color: white;}#sk-container-id-1 label.sk-toggleable__label {cursor: pointer;display: block;width: 100%;margin-bottom: 0;padding: 0.3em;box-sizing: border-box;text-align: center;}#sk-container-id-1 label.sk-toggleable__label-arrow:before {content: \"▸\";float: left;margin-right: 0.25em;color: #696969;}#sk-container-id-1 label.sk-toggleable__label-arrow:hover:before {color: black;}#sk-container-id-1 div.sk-estimator:hover label.sk-toggleable__label-arrow:before {color: black;}#sk-container-id-1 div.sk-toggleable__content {max-height: 0;max-width: 0;overflow: hidden;text-align: left;background-color: #f0f8ff;}#sk-container-id-1 div.sk-toggleable__content pre {margin: 0.2em;color: black;border-radius: 0.25em;background-color: #f0f8ff;}#sk-container-id-1 input.sk-toggleable__control:checked~div.sk-toggleable__content {max-height: 200px;max-width: 100%;overflow: auto;}#sk-container-id-1 input.sk-toggleable__control:checked~label.sk-toggleable__label-arrow:before {content: \"▾\";}#sk-container-id-1 div.sk-estimator input.sk-toggleable__control:checked~label.sk-toggleable__label {background-color: #d4ebff;}#sk-container-id-1 div.sk-label input.sk-toggleable__control:checked~label.sk-toggleable__label {background-color: #d4ebff;}#sk-container-id-1 input.sk-hidden--visually {border: 0;clip: rect(1px 1px 1px 1px);clip: rect(1px, 1px, 1px, 1px);height: 1px;margin: -1px;overflow: hidden;padding: 0;position: absolute;width: 1px;}#sk-container-id-1 div.sk-estimator {font-family: monospace;background-color: #f0f8ff;border: 1px dotted black;border-radius: 0.25em;box-sizing: border-box;margin-bottom: 0.5em;}#sk-container-id-1 div.sk-estimator:hover {background-color: #d4ebff;}#sk-container-id-1 div.sk-parallel-item::after {content: \"\";width: 100%;border-bottom: 1px solid gray;flex-grow: 1;}#sk-container-id-1 div.sk-label:hover label.sk-toggleable__label {background-color: #d4ebff;}#sk-container-id-1 div.sk-serial::before {content: \"\";position: absolute;border-left: 1px solid gray;box-sizing: border-box;top: 0;bottom: 0;left: 50%;z-index: 0;}#sk-container-id-1 div.sk-serial {display: flex;flex-direction: column;align-items: center;background-color: white;padding-right: 0.2em;padding-left: 0.2em;position: relative;}#sk-container-id-1 div.sk-item {position: relative;z-index: 1;}#sk-container-id-1 div.sk-parallel {display: flex;align-items: stretch;justify-content: center;background-color: white;position: relative;}#sk-container-id-1 div.sk-item::before, #sk-container-id-1 div.sk-parallel-item::before {content: \"\";position: absolute;border-left: 1px solid gray;box-sizing: border-box;top: 0;bottom: 0;left: 50%;z-index: -1;}#sk-container-id-1 div.sk-parallel-item {display: flex;flex-direction: column;z-index: 1;position: relative;background-color: white;}#sk-container-id-1 div.sk-parallel-item:first-child::after {align-self: flex-end;width: 50%;}#sk-container-id-1 div.sk-parallel-item:last-child::after {align-self: flex-start;width: 50%;}#sk-container-id-1 div.sk-parallel-item:only-child::after {width: 0;}#sk-container-id-1 div.sk-dashed-wrapped {border: 1px dashed gray;margin: 0 0.4em 0.5em 0.4em;box-sizing: border-box;padding-bottom: 0.4em;background-color: white;}#sk-container-id-1 div.sk-label label {font-family: monospace;font-weight: bold;display: inline-block;line-height: 1.2em;}#sk-container-id-1 div.sk-label-container {text-align: center;}#sk-container-id-1 div.sk-container {/* jupyter's `normalize.less` sets `[hidden] { display: none; }` but bootstrap.min.css set `[hidden] { display: none !important; }` so we also need the `!important` here to be able to override the default hidden behavior on the sphinx rendered scikit-learn.org. See: https://github.com/scikit-learn/scikit-learn/issues/21755 */display: inline-block !important;position: relative;}#sk-container-id-1 div.sk-text-repr-fallback {display: none;}</style><div id=\"sk-container-id-1\" class=\"sk-top-container\"><div class=\"sk-text-repr-fallback\"><pre>IterativeImputer(random_state=26)</pre><b>In a Jupyter environment, please rerun this cell to show the HTML representation or trust the notebook. <br />On GitHub, the HTML representation is unable to render, please try loading this page with nbviewer.org.</b></div><div class=\"sk-container\" hidden><div class=\"sk-item\"><div class=\"sk-estimator sk-toggleable\"><input class=\"sk-toggleable__control sk-hidden--visually\" id=\"sk-estimator-id-1\" type=\"checkbox\" checked><label for=\"sk-estimator-id-1\" class=\"sk-toggleable__label sk-toggleable__label-arrow\">IterativeImputer</label><div class=\"sk-toggleable__content\"><pre>IterativeImputer(random_state=26)</pre></div></div></div></div></div>"
      ],
      "text/plain": [
       "IterativeImputer(random_state=26)"
      ]
     },
     "execution_count": 32,
     "metadata": {},
     "output_type": "execute_result"
    }
   ],
   "source": [
    "X=pd.read_csv('~/OneDrive - UNSW/Documents/lsac-data/X.csv')\n",
    "#Imputing the training set\n",
    "# explicitly require this experimental feature\n",
    "from sklearn.experimental import enable_iterative_imputer  \n",
    "# now you can import normally from sklearn.impute\n",
    "from sklearn.impute import IterativeImputer\n",
    "imputer=IterativeImputer(random_state=26)\n",
    "imputer.fit(X)\n",
    "Xi=X\n",
    "Xi[:]=imputer.transform(Xi)"
   ]
  },
  {
   "cell_type": "code",
   "execution_count": 6,
   "id": "6f66cb1c-86b3-4f7d-afea-237e5670cdf6",
   "metadata": {},
   "outputs": [
    {
     "ename": "NameError",
     "evalue": "name 'Xi' is not defined",
     "output_type": "error",
     "traceback": [
      "\u001b[1;31m---------------------------------------------------------------------------\u001b[0m",
      "\u001b[1;31mNameError\u001b[0m                                 Traceback (most recent call last)",
      "Cell \u001b[1;32mIn[6], line 6\u001b[0m\n\u001b[0;32m      4\u001b[0m \u001b[38;5;66;03m#Storing the numerical columns in a list\u001b[39;00m\n\u001b[0;32m      5\u001b[0m nums\u001b[38;5;241m=\u001b[39m[\u001b[38;5;124m'\u001b[39m\u001b[38;5;124mperapp\u001b[39m\u001b[38;5;124m'\u001b[39m,\t\u001b[38;5;124m'\u001b[39m\u001b[38;5;124mperavoid\u001b[39m\u001b[38;5;124m'\u001b[39m,\t\u001b[38;5;124m'\u001b[39m\u001b[38;5;124mmastavoid\u001b[39m\u001b[38;5;124m'\u001b[39m,\t\u001b[38;5;124m'\u001b[39m\u001b[38;5;124mmastapp\u001b[39m\u001b[38;5;124m'\u001b[39m,\t\u001b[38;5;124m'\u001b[39m\u001b[38;5;124mpeerpos\u001b[39m\u001b[38;5;124m'\u001b[39m,\t\u001b[38;5;124m'\u001b[39m\u001b[38;5;124mpeermoral\u001b[39m\u001b[38;5;124m'\u001b[39m,\t\u001b[38;5;124m'\u001b[39m\u001b[38;5;124mpeerpostot\u001b[39m\u001b[38;5;124m'\u001b[39m,\t\u001b[38;5;124m'\u001b[39m\u001b[38;5;124mhb16c12\u001b[39m\u001b[38;5;124m'\u001b[39m,\t\u001b[38;5;124m'\u001b[39m\u001b[38;5;124mhb16c12a\u001b[39m\u001b[38;5;124m'\u001b[39m,\t\u001b[38;5;124m'\u001b[39m\u001b[38;5;124mhb15c10\u001b[39m\u001b[38;5;124m'\u001b[39m,\t\u001b[38;5;124m'\u001b[39m\u001b[38;5;124mhb15c10a\u001b[39m\u001b[38;5;124m'\u001b[39m,\t\u001b[38;5;124m'\u001b[39m\u001b[38;5;124mhb26c2\u001b[39m\u001b[38;5;124m'\u001b[39m,\t\u001b[38;5;124m'\u001b[39m\u001b[38;5;124mhb26c2a\u001b[39m\u001b[38;5;124m'\u001b[39m,\t\u001b[38;5;124m'\u001b[39m\u001b[38;5;124mhb28c3\u001b[39m\u001b[38;5;124m'\u001b[39m,\t\u001b[38;5;124m'\u001b[39m\u001b[38;5;124mhb27c2\u001b[39m\u001b[38;5;124m'\u001b[39m,\t\u001b[38;5;124m'\u001b[39m\u001b[38;5;124mhb16c15b\u001b[39m\u001b[38;5;124m'\u001b[39m,\t\u001b[38;5;124m'\u001b[39m\u001b[38;5;124mhb31c2\u001b[39m\u001b[38;5;124m'\u001b[39m,\t\u001b[38;5;124m'\u001b[39m\u001b[38;5;124mhb16c15d\u001b[39m\u001b[38;5;124m'\u001b[39m,\t\u001b[38;5;124m'\u001b[39m\u001b[38;5;124mse27c1\u001b[39m\u001b[38;5;124m'\u001b[39m,\t\u001b[38;5;124m'\u001b[39m\u001b[38;5;124mre23c1\u001b[39m\u001b[38;5;124m'\u001b[39m,\t\u001b[38;5;124m'\u001b[39m\u001b[38;5;124mhb16c10\u001b[39m\u001b[38;5;124m'\u001b[39m,\t\u001b[38;5;124m'\u001b[39m\u001b[38;5;124mcalcharm\u001b[39m\u001b[38;5;124m'\u001b[39m,\t\u001b[38;5;124m'\u001b[39m\u001b[38;5;124mhe17c2b2\u001b[39m\u001b[38;5;124m'\u001b[39m,\t\u001b[38;5;124m'\u001b[39m\u001b[38;5;124mhe06c2b2\u001b[39m\u001b[38;5;124m'\u001b[39m,\t\u001b[38;5;124m'\u001b[39m\u001b[38;5;124mhe06c3b2\u001b[39m\u001b[38;5;124m'\u001b[39m,\t\u001b[38;5;124m'\u001b[39m\u001b[38;5;124mtvweek\u001b[39m\u001b[38;5;124m'\u001b[39m,\t\u001b[38;5;124m'\u001b[39m\u001b[38;5;124megweek\u001b[39m\u001b[38;5;124m'\u001b[39m,\t\u001b[38;5;124m'\u001b[39m\u001b[38;5;124maanga\u001b[39m\u001b[38;5;124m'\u001b[39m,\t\u001b[38;5;124m'\u001b[39m\u001b[38;5;124mbanga\u001b[39m\u001b[38;5;124m'\u001b[39m,\t\u001b[38;5;124m'\u001b[39m\u001b[38;5;124maarga\u001b[39m\u001b[38;5;124m'\u001b[39m,\t\u001b[38;5;124m'\u001b[39m\u001b[38;5;124mbarga\u001b[39m\u001b[38;5;124m'\u001b[39m,\t\u001b[38;5;124m'\u001b[39m\u001b[38;5;124mpw09a\u001b[39m\u001b[38;5;124m'\u001b[39m,\t\u001b[38;5;124m'\u001b[39m\u001b[38;5;124mpw09b\u001b[39m\u001b[38;5;124m'\u001b[39m,\t\u001b[38;5;124m'\u001b[39m\u001b[38;5;124mpw09c\u001b[39m\u001b[38;5;124m'\u001b[39m,\t\u001b[38;5;124m'\u001b[39m\u001b[38;5;124mpw09a\u001b[39m\u001b[38;5;124m'\u001b[39m,\t\u001b[38;5;124m'\u001b[39m\u001b[38;5;124mpw09b\u001b[39m\u001b[38;5;124m'\u001b[39m,\t\u001b[38;5;124m'\u001b[39m\u001b[38;5;124maextra\u001b[39m\u001b[38;5;124m'\u001b[39m,\t\u001b[38;5;124m'\u001b[39m\u001b[38;5;124maagree\u001b[39m\u001b[38;5;124m'\u001b[39m,\t\u001b[38;5;124m'\u001b[39m\u001b[38;5;124maconsc\u001b[39m\u001b[38;5;124m'\u001b[39m,\t\u001b[38;5;124m'\u001b[39m\u001b[38;5;124maneuro\u001b[39m\u001b[38;5;124m'\u001b[39m,\t\u001b[38;5;124m'\u001b[39m\u001b[38;5;124maopen\u001b[39m\u001b[38;5;124m'\u001b[39m,\t\u001b[38;5;124m'\u001b[39m\u001b[38;5;124mcextra\u001b[39m\u001b[38;5;124m'\u001b[39m,\t\u001b[38;5;124m'\u001b[39m\u001b[38;5;124mcagree\u001b[39m\u001b[38;5;124m'\u001b[39m,\t\u001b[38;5;124m'\u001b[39m\u001b[38;5;124mcconsc\u001b[39m\u001b[38;5;124m'\u001b[39m,\t\u001b[38;5;124m'\u001b[39m\u001b[38;5;124mcneuro\u001b[39m\u001b[38;5;124m'\u001b[39m,\t\u001b[38;5;124m'\u001b[39m\u001b[38;5;124mcopen\u001b[39m\u001b[38;5;124m'\u001b[39m,\t\u001b[38;5;124m'\u001b[39m\u001b[38;5;124mbextra\u001b[39m\u001b[38;5;124m'\u001b[39m,\t\u001b[38;5;124m'\u001b[39m\u001b[38;5;124mbagree\u001b[39m\u001b[38;5;124m'\u001b[39m,\t\u001b[38;5;124m'\u001b[39m\u001b[38;5;124mbconsc\u001b[39m\u001b[38;5;124m'\u001b[39m,\t\u001b[38;5;124m'\u001b[39m\u001b[38;5;124mbneuro\u001b[39m\u001b[38;5;124m'\u001b[39m,\t\u001b[38;5;124m'\u001b[39m\u001b[38;5;124mbopen\u001b[39m\u001b[38;5;124m'\u001b[39m,\t\u001b[38;5;124m'\u001b[39m\u001b[38;5;124mbodyfat\u001b[39m\u001b[38;5;124m'\u001b[39m,\t\u001b[38;5;124m'\u001b[39m\u001b[38;5;124mcbmi\u001b[39m\u001b[38;5;124m'\u001b[39m,\t\u001b[38;5;124m'\u001b[39m\u001b[38;5;124mchu9d\u001b[39m\u001b[38;5;124m'\u001b[39m,\t\u001b[38;5;124m'\u001b[39m\u001b[38;5;124mhb15c13\u001b[39m\u001b[38;5;124m'\u001b[39m,\t\u001b[38;5;124m'\u001b[39m\u001b[38;5;124macons\u001b[39m\u001b[38;5;124m'\u001b[39m,\t\u001b[38;5;124m'\u001b[39m\u001b[38;5;124mbcons\u001b[39m\u001b[38;5;124m'\u001b[39m,\t\u001b[38;5;124m'\u001b[39m\u001b[38;5;124mbcopar\u001b[39m\u001b[38;5;124m'\u001b[39m,\t\u001b[38;5;124m'\u001b[39m\u001b[38;5;124msmfq\u001b[39m\u001b[38;5;124m'\u001b[39m,\t\u001b[38;5;124m'\u001b[39m\u001b[38;5;124mfp06c3\u001b[39m\u001b[38;5;124m'\u001b[39m,\t\u001b[38;5;124m'\u001b[39m\u001b[38;5;124mfp06c4\u001b[39m\u001b[38;5;124m'\u001b[39m,\t\u001b[38;5;124m'\u001b[39m\u001b[38;5;124mcfout\u001b[39m\u001b[38;5;124m'\u001b[39m,\t\u001b[38;5;124m'\u001b[39m\u001b[38;5;124magambf\u001b[39m\u001b[38;5;124m'\u001b[39m,\t\u001b[38;5;124m'\u001b[39m\u001b[38;5;124mchshipc\u001b[39m\u001b[38;5;124m'\u001b[39m,\t\u001b[38;5;124m'\u001b[39m\u001b[38;5;124mahendb\u001b[39m\u001b[38;5;124m'\u001b[39m,\t\u001b[38;5;124m'\u001b[39m\u001b[38;5;124mbhendb\u001b[39m\u001b[38;5;124m'\u001b[39m,\t\u001b[38;5;124m'\u001b[39m\u001b[38;5;124mfn13c10\u001b[39m\u001b[38;5;124m'\u001b[39m,\t\u001b[38;5;124m'\u001b[39m\u001b[38;5;124mairc\u001b[39m\u001b[38;5;124m'\u001b[39m,\t\u001b[38;5;124m'\u001b[39m\u001b[38;5;124mbirc\u001b[39m\u001b[38;5;124m'\u001b[39m,\t\u001b[38;5;124m'\u001b[39m\u001b[38;5;124mbk6s\u001b[39m\u001b[38;5;124m'\u001b[39m,\t\u001b[38;5;124m'\u001b[39m\u001b[38;5;124matotss\u001b[39m\u001b[38;5;124m'\u001b[39m,\t\u001b[38;5;124m'\u001b[39m\u001b[38;5;124mfd04c\u001b[39m\u001b[38;5;124m'\u001b[39m,\t\u001b[38;5;124m'\u001b[39m\u001b[38;5;124mpw04c2\u001b[39m\u001b[38;5;124m'\u001b[39m,\t\u001b[38;5;124m'\u001b[39m\u001b[38;5;124mnoldsib\u001b[39m\u001b[38;5;124m'\u001b[39m,\t\u001b[38;5;124m'\u001b[39m\u001b[38;5;124mnpeople\u001b[39m\u001b[38;5;124m'\u001b[39m,\t\u001b[38;5;124m'\u001b[39m\u001b[38;5;124mnsasib\u001b[39m\u001b[38;5;124m'\u001b[39m,\t\u001b[38;5;124m'\u001b[39m\u001b[38;5;124mnsib\u001b[39m\u001b[38;5;124m'\u001b[39m,\t\u001b[38;5;124m'\u001b[39m\u001b[38;5;124mnyngsib\u001b[39m\u001b[38;5;124m'\u001b[39m,\t\u001b[38;5;124m'\u001b[39m\u001b[38;5;124moral\u001b[39m\u001b[38;5;124m'\u001b[39m,\t\u001b[38;5;124m'\u001b[39m\u001b[38;5;124masupport\u001b[39m\u001b[38;5;124m'\u001b[39m,\t\u001b[38;5;124m'\u001b[39m\u001b[38;5;124mbsupport\u001b[39m\u001b[38;5;124m'\u001b[39m,\t\u001b[38;5;124m'\u001b[39m\u001b[38;5;124mbeffic\u001b[39m\u001b[38;5;124m'\u001b[39m,\t\u001b[38;5;124m'\u001b[39m\u001b[38;5;124msc11c3c\u001b[39m\u001b[38;5;124m'\u001b[39m,\t\u001b[38;5;124m'\u001b[39m\u001b[38;5;124msc11b3c\u001b[39m\u001b[38;5;124m'\u001b[39m,\t\u001b[38;5;124m'\u001b[39m\u001b[38;5;124mpedsef\u001b[39m\u001b[38;5;124m'\u001b[39m,\t\u001b[38;5;124m'\u001b[39m\u001b[38;5;124mpedsphy\u001b[39m\u001b[38;5;124m'\u001b[39m,\t\u001b[38;5;124m'\u001b[39m\u001b[38;5;124mpedspse\u001b[39m\u001b[38;5;124m'\u001b[39m,\t\u001b[38;5;124m'\u001b[39m\u001b[38;5;124mpedspsd\u001b[39m\u001b[38;5;124m'\u001b[39m,\t\u001b[38;5;124m'\u001b[39m\u001b[38;5;124mpedspsc\u001b[39m\u001b[38;5;124m'\u001b[39m,\t\u001b[38;5;124m'\u001b[39m\u001b[38;5;124mpedste\u001b[39m\u001b[38;5;124m'\u001b[39m,\t\u001b[38;5;124m'\u001b[39m\u001b[38;5;124mpedstd\u001b[39m\u001b[38;5;124m'\u001b[39m,\t\u001b[38;5;124m'\u001b[39m\u001b[38;5;124mpedstc\u001b[39m\u001b[38;5;124m'\u001b[39m,\t\u001b[38;5;124m'\u001b[39m\u001b[38;5;124mpedssof\u001b[39m\u001b[38;5;124m'\u001b[39m,\t\u001b[38;5;124m'\u001b[39m\u001b[38;5;124mpedsscd\u001b[39m\u001b[38;5;124m'\u001b[39m,\t\u001b[38;5;124m'\u001b[39m\u001b[38;5;124mpedsscc\u001b[39m\u001b[38;5;124m'\u001b[39m,\t\u001b[38;5;124m'\u001b[39m\u001b[38;5;124mpedsphyb\u001b[39m\u001b[38;5;124m'\u001b[39m,\t\u001b[38;5;124m'\u001b[39m\u001b[38;5;124mcnfp16\u001b[39m\u001b[38;5;124m'\u001b[39m,\t\u001b[38;5;124m'\u001b[39m\u001b[38;5;124mfp02c2a\u001b[39m\u001b[38;5;124m'\u001b[39m,\t\u001b[38;5;124m'\u001b[39m\u001b[38;5;124mhs53a1a\u001b[39m\u001b[38;5;124m'\u001b[39m,\t\u001b[38;5;124m'\u001b[39m\u001b[38;5;124mapgsi\u001b[39m\u001b[38;5;124m'\u001b[39m,\t\u001b[38;5;124m'\u001b[39m\u001b[38;5;124mpssm\u001b[39m\u001b[38;5;124m'\u001b[39m,\t\u001b[38;5;124m'\u001b[39m\u001b[38;5;124mcresl\u001b[39m\u001b[38;5;124m'\u001b[39m,\t\u001b[38;5;124m'\u001b[39m\u001b[38;5;124mfn13p\u001b[39m\u001b[38;5;124m'\u001b[39m,\t\u001b[38;5;124m'\u001b[39m\u001b[38;5;124macondb\u001b[39m\u001b[38;5;124m'\u001b[39m,\t\u001b[38;5;124m'\u001b[39m\u001b[38;5;124mccondb\u001b[39m\u001b[38;5;124m'\u001b[39m,\t\u001b[38;5;124m'\u001b[39m\u001b[38;5;124mbcondb\u001b[39m\u001b[38;5;124m'\u001b[39m,\t\u001b[38;5;124m'\u001b[39m\u001b[38;5;124mbpsoc\u001b[39m\u001b[38;5;124m'\u001b[39m,\t\u001b[38;5;124m'\u001b[39m\u001b[38;5;124maemot\u001b[39m\u001b[38;5;124m'\u001b[39m,\t\u001b[38;5;124m'\u001b[39m\u001b[38;5;124mcemot\u001b[39m\u001b[38;5;124m'\u001b[39m,\t\u001b[38;5;124m'\u001b[39m\u001b[38;5;124mbemot\u001b[39m\u001b[38;5;124m'\u001b[39m,\t\u001b[38;5;124m'\u001b[39m\u001b[38;5;124mahypr\u001b[39m\u001b[38;5;124m'\u001b[39m,\t\u001b[38;5;124m'\u001b[39m\u001b[38;5;124mchypr\u001b[39m\u001b[38;5;124m'\u001b[39m,\t\u001b[38;5;124m'\u001b[39m\u001b[38;5;124mbhypr\u001b[39m\u001b[38;5;124m'\u001b[39m,\t\u001b[38;5;124m'\u001b[39m\u001b[38;5;124mapeer\u001b[39m\u001b[38;5;124m'\u001b[39m,\t\u001b[38;5;124m'\u001b[39m\u001b[38;5;124mcpeer\u001b[39m\u001b[38;5;124m'\u001b[39m,\t\u001b[38;5;124m'\u001b[39m\u001b[38;5;124mbpeer\u001b[39m\u001b[38;5;124m'\u001b[39m,\t\u001b[38;5;124m'\u001b[39m\u001b[38;5;124mapsoc\u001b[39m\u001b[38;5;124m'\u001b[39m,\t\u001b[38;5;124m'\u001b[39m\u001b[38;5;124mcpsoc\u001b[39m\u001b[38;5;124m'\u001b[39m,\t\u001b[38;5;124m'\u001b[39m\u001b[38;5;124mcsdqtb\u001b[39m\u001b[38;5;124m'\u001b[39m,\t\u001b[38;5;124m'\u001b[39m\u001b[38;5;124mbsdqtb\u001b[39m\u001b[38;5;124m'\u001b[39m,\t\u001b[38;5;124m'\u001b[39m\u001b[38;5;124mcnfsad2\u001b[39m\u001b[38;5;124m'\u001b[39m,\t\u001b[38;5;124m'\u001b[39m\u001b[38;5;124msle\u001b[39m\u001b[38;5;124m'\u001b[39m,\t\u001b[38;5;124m'\u001b[39m\u001b[38;5;124mhb14c2\u001b[39m\u001b[38;5;124m'\u001b[39m,\t\u001b[38;5;124m'\u001b[39m\u001b[38;5;124mhb13c2b\u001b[39m\u001b[38;5;124m'\u001b[39m,\t\u001b[38;5;124m'\u001b[39m\u001b[38;5;124mhb13c1b\u001b[39m\u001b[38;5;124m'\u001b[39m,\t\u001b[38;5;124m'\u001b[39m\u001b[38;5;124mho06c5\u001b[39m\u001b[38;5;124m'\u001b[39m,\t\u001b[38;5;124m'\u001b[39m\u001b[38;5;124mnumcond\u001b[39m\u001b[38;5;124m'\u001b[39m,\t\u001b[38;5;124m'\u001b[39m\u001b[38;5;124mhinci\u001b[39m\u001b[38;5;124m'\u001b[39m,\t\u001b[38;5;124m'\u001b[39m\u001b[38;5;124mhs23c3\u001b[39m\u001b[38;5;124m'\u001b[39m, \u001b[38;5;124m'\u001b[39m\u001b[38;5;124mA01\u001b[39m\u001b[38;5;124m'\u001b[39m,\t\u001b[38;5;124m'\u001b[39m\u001b[38;5;124mA02\u001b[39m\u001b[38;5;124m'\u001b[39m,\t\u001b[38;5;124m'\u001b[39m\u001b[38;5;124mA03\u001b[39m\u001b[38;5;124m'\u001b[39m,\t\u001b[38;5;124m'\u001b[39m\u001b[38;5;124mA04\u001b[39m\u001b[38;5;124m'\u001b[39m,\t\u001b[38;5;124m'\u001b[39m\u001b[38;5;124mA06\u001b[39m\u001b[38;5;124m'\u001b[39m,\t\u001b[38;5;124m'\u001b[39m\u001b[38;5;124mA07\u001b[39m\u001b[38;5;124m'\u001b[39m,\t\u001b[38;5;124m'\u001b[39m\u001b[38;5;124mA09\u001b[39m\u001b[38;5;124m'\u001b[39m,\t\u001b[38;5;124m'\u001b[39m\u001b[38;5;124mA10\u001b[39m\u001b[38;5;124m'\u001b[39m,\t\u001b[38;5;124m'\u001b[39m\u001b[38;5;124mA11\u001b[39m\u001b[38;5;124m'\u001b[39m,\t\u001b[38;5;124m'\u001b[39m\u001b[38;5;124mB01\u001b[39m\u001b[38;5;124m'\u001b[39m,\t\u001b[38;5;124m'\u001b[39m\u001b[38;5;124mB02\u001b[39m\u001b[38;5;124m'\u001b[39m,\t\u001b[38;5;124m'\u001b[39m\u001b[38;5;124mB03\u001b[39m\u001b[38;5;124m'\u001b[39m,\t\u001b[38;5;124m'\u001b[39m\u001b[38;5;124mC01\u001b[39m\u001b[38;5;124m'\u001b[39m,\t\u001b[38;5;124m'\u001b[39m\u001b[38;5;124mC02\u001b[39m\u001b[38;5;124m'\u001b[39m,\t\u001b[38;5;124m'\u001b[39m\u001b[38;5;124mC03\u001b[39m\u001b[38;5;124m'\u001b[39m,\t\u001b[38;5;124m'\u001b[39m\u001b[38;5;124mC07\u001b[39m\u001b[38;5;124m'\u001b[39m,\t\u001b[38;5;124m'\u001b[39m\u001b[38;5;124mC08\u001b[39m\u001b[38;5;124m'\u001b[39m,\t\u001b[38;5;124m'\u001b[39m\u001b[38;5;124mC09\u001b[39m\u001b[38;5;124m'\u001b[39m,\t\u001b[38;5;124m'\u001b[39m\u001b[38;5;124mC10\u001b[39m\u001b[38;5;124m'\u001b[39m,\t\u001b[38;5;124m'\u001b[39m\u001b[38;5;124mD01\u001b[39m\u001b[38;5;124m'\u001b[39m,\t\u001b[38;5;124m'\u001b[39m\u001b[38;5;124mD05\u001b[39m\u001b[38;5;124m'\u001b[39m,\t\u001b[38;5;124m'\u001b[39m\u001b[38;5;124mD06\u001b[39m\u001b[38;5;124m'\u001b[39m,\t\u001b[38;5;124m'\u001b[39m\u001b[38;5;124mD07\u001b[39m\u001b[38;5;124m'\u001b[39m,\t\u001b[38;5;124m'\u001b[39m\u001b[38;5;124mD10\u001b[39m\u001b[38;5;124m'\u001b[39m,\t\u001b[38;5;124m'\u001b[39m\u001b[38;5;124mD11\u001b[39m\u001b[38;5;124m'\u001b[39m,\t\u001b[38;5;124m'\u001b[39m\u001b[38;5;124mG02\u001b[39m\u001b[38;5;124m'\u001b[39m,\t\u001b[38;5;124m'\u001b[39m\u001b[38;5;124mG03\u001b[39m\u001b[38;5;124m'\u001b[39m,\t\u001b[38;5;124m'\u001b[39m\u001b[38;5;124mG04\u001b[39m\u001b[38;5;124m'\u001b[39m,\t\u001b[38;5;124m'\u001b[39m\u001b[38;5;124mH01\u001b[39m\u001b[38;5;124m'\u001b[39m,\t\u001b[38;5;124m'\u001b[39m\u001b[38;5;124mH02\u001b[39m\u001b[38;5;124m'\u001b[39m,\t\u001b[38;5;124m'\u001b[39m\u001b[38;5;124mH03\u001b[39m\u001b[38;5;124m'\u001b[39m,\t\u001b[38;5;124m'\u001b[39m\u001b[38;5;124mH04\u001b[39m\u001b[38;5;124m'\u001b[39m,\t\u001b[38;5;124m'\u001b[39m\u001b[38;5;124mJ01\u001b[39m\u001b[38;5;124m'\u001b[39m,\t\u001b[38;5;124m'\u001b[39m\u001b[38;5;124mJ02\u001b[39m\u001b[38;5;124m'\u001b[39m,\t\u001b[38;5;124m'\u001b[39m\u001b[38;5;124mJ04\u001b[39m\u001b[38;5;124m'\u001b[39m,\t\u001b[38;5;124m'\u001b[39m\u001b[38;5;124mJ05\u001b[39m\u001b[38;5;124m'\u001b[39m,\t\u001b[38;5;124m'\u001b[39m\u001b[38;5;124mL01\u001b[39m\u001b[38;5;124m'\u001b[39m,\t\u001b[38;5;124m'\u001b[39m\u001b[38;5;124mL02\u001b[39m\u001b[38;5;124m'\u001b[39m,\t\u001b[38;5;124m'\u001b[39m\u001b[38;5;124mL04\u001b[39m\u001b[38;5;124m'\u001b[39m,\t\u001b[38;5;124m'\u001b[39m\u001b[38;5;124mM01\u001b[39m\u001b[38;5;124m'\u001b[39m,\t\u001b[38;5;124m'\u001b[39m\u001b[38;5;124mM03\u001b[39m\u001b[38;5;124m'\u001b[39m,\t\u001b[38;5;124m'\u001b[39m\u001b[38;5;124mM04\u001b[39m\u001b[38;5;124m'\u001b[39m,\t\u001b[38;5;124m'\u001b[39m\u001b[38;5;124mN02\u001b[39m\u001b[38;5;124m'\u001b[39m,\t\u001b[38;5;124m'\u001b[39m\u001b[38;5;124mN03\u001b[39m\u001b[38;5;124m'\u001b[39m,\t\u001b[38;5;124m'\u001b[39m\u001b[38;5;124mN04B\u001b[39m\u001b[38;5;124m'\u001b[39m,\t\u001b[38;5;124m'\u001b[39m\u001b[38;5;124mN05A\u001b[39m\u001b[38;5;124m'\u001b[39m,\t\u001b[38;5;124m'\u001b[39m\u001b[38;5;124mN05B\u001b[39m\u001b[38;5;124m'\u001b[39m,\t\u001b[38;5;124m'\u001b[39m\u001b[38;5;124mN05C\u001b[39m\u001b[38;5;124m'\u001b[39m,\t\u001b[38;5;124m'\u001b[39m\u001b[38;5;124mN06A\u001b[39m\u001b[38;5;124m'\u001b[39m,\t\u001b[38;5;124m'\u001b[39m\u001b[38;5;124mN06B\u001b[39m\u001b[38;5;124m'\u001b[39m,\t\u001b[38;5;124m'\u001b[39m\u001b[38;5;124mN07B\u001b[39m\u001b[38;5;124m'\u001b[39m,\t\u001b[38;5;124m'\u001b[39m\u001b[38;5;124mP02\u001b[39m\u001b[38;5;124m'\u001b[39m,\t\u001b[38;5;124m'\u001b[39m\u001b[38;5;124mP03\u001b[39m\u001b[38;5;124m'\u001b[39m,\t\u001b[38;5;124m'\u001b[39m\u001b[38;5;124mR01\u001b[39m\u001b[38;5;124m'\u001b[39m,\t\u001b[38;5;124m'\u001b[39m\u001b[38;5;124mR03\u001b[39m\u001b[38;5;124m'\u001b[39m,\t\u001b[38;5;124m'\u001b[39m\u001b[38;5;124mR05\u001b[39m\u001b[38;5;124m'\u001b[39m,\t\u001b[38;5;124m'\u001b[39m\u001b[38;5;124mR07\u001b[39m\u001b[38;5;124m'\u001b[39m,\t\u001b[38;5;124m'\u001b[39m\u001b[38;5;124mS01\u001b[39m\u001b[38;5;124m'\u001b[39m,\t\u001b[38;5;124m'\u001b[39m\u001b[38;5;124mS02\u001b[39m\u001b[38;5;124m'\u001b[39m,\t\u001b[38;5;124m'\u001b[39m\u001b[38;5;124mS03\u001b[39m\u001b[38;5;124m'\u001b[39m,\t\u001b[38;5;124m'\u001b[39m\u001b[38;5;124mV01\u001b[39m\u001b[38;5;124m'\u001b[39m,\t\u001b[38;5;124m'\u001b[39m\u001b[38;5;124mV06\u001b[39m\u001b[38;5;124m'\u001b[39m,\t\u001b[38;5;124m'\u001b[39m\u001b[38;5;124mbenefit\u001b[39m\u001b[38;5;124m'\u001b[39m,\t\u001b[38;5;124m'\u001b[39m\u001b[38;5;124mmhcp\u001b[39m\u001b[38;5;124m'\u001b[39m,\t\u001b[38;5;124m'\u001b[39m\u001b[38;5;124mpsychol\u001b[39m\u001b[38;5;124m'\u001b[39m,\t\u001b[38;5;124m'\u001b[39m\u001b[38;5;124mpsychia\u001b[39m\u001b[38;5;124m'\u001b[39m,\t\u001b[38;5;124m'\u001b[39m\u001b[38;5;124mgp\u001b[39m\u001b[38;5;124m'\u001b[39m,\t\u001b[38;5;124m'\u001b[39m\u001b[38;5;124mmbs\u001b[39m\u001b[38;5;124m'\u001b[39m,\t\u001b[38;5;124m'\u001b[39m\u001b[38;5;124mhos\u001b[39m\u001b[38;5;124m'\u001b[39m,\t\u001b[38;5;124m'\u001b[39m\u001b[38;5;124my9test\u001b[39m\u001b[38;5;124m'\u001b[39m,\t\u001b[38;5;124m'\u001b[39m\u001b[38;5;124my9gram\u001b[39m\u001b[38;5;124m'\u001b[39m,\t\u001b[38;5;124m'\u001b[39m\u001b[38;5;124my9num\u001b[39m\u001b[38;5;124m'\u001b[39m,\t\u001b[38;5;124m'\u001b[39m\u001b[38;5;124my9read\u001b[39m\u001b[38;5;124m'\u001b[39m,\t\u001b[38;5;124m'\u001b[39m\u001b[38;5;124my9spel\u001b[39m\u001b[38;5;124m'\u001b[39m,\t\u001b[38;5;124m'\u001b[39m\u001b[38;5;124my9write\u001b[39m\u001b[38;5;124m'\u001b[39m]\n\u001b[1;32m----> 6\u001b[0m Xicols\u001b[38;5;241m=\u001b[39m\u001b[43mXi\u001b[49m\u001b[38;5;241m.\u001b[39mcolumns\u001b[38;5;241m.\u001b[39mvalues\u001b[38;5;241m.\u001b[39mtolist()\n\u001b[0;32m      7\u001b[0m nums2\u001b[38;5;241m=\u001b[39m\u001b[38;5;28mlist\u001b[39m(\u001b[38;5;28mset\u001b[39m(Xicols) \u001b[38;5;241m&\u001b[39m \u001b[38;5;28mset\u001b[39m(nums))\n\u001b[0;32m      8\u001b[0m numfs\u001b[38;5;241m=\u001b[39mXi[nums2]\n",
      "\u001b[1;31mNameError\u001b[0m: name 'Xi' is not defined"
     ]
    }
   ],
   "source": [
    "#Scaling the training dataset\n",
    "from sklearn import preprocessing\n",
    "scaler=preprocessing.StandardScaler()\n",
    "#Storing the numerical columns in a list\n",
    "nums=['perapp',\t'peravoid',\t'mastavoid',\t'mastapp',\t'peerpos',\t'peermoral',\t'peerpostot',\t'hb16c12',\t'hb16c12a',\t'hb15c10',\t'hb15c10a',\t'hb26c2',\t'hb26c2a',\t'hb28c3',\t'hb27c2',\t'hb16c15b',\t'hb31c2',\t'hb16c15d',\t'se27c1',\t're23c1',\t'hb16c10',\t'calcharm',\t'he17c2b2',\t'he06c2b2',\t'he06c3b2',\t'tvweek',\t'egweek',\t'aanga',\t'banga',\t'aarga',\t'barga',\t'pw09a',\t'pw09b',\t'pw09c',\t'pw09a',\t'pw09b',\t'aextra',\t'aagree',\t'aconsc',\t'aneuro',\t'aopen',\t'cextra',\t'cagree',\t'cconsc',\t'cneuro',\t'copen',\t'bextra',\t'bagree',\t'bconsc',\t'bneuro',\t'bopen',\t'bodyfat',\t'cbmi',\t'chu9d',\t'hb15c13',\t'acons',\t'bcons',\t'bcopar',\t'smfq',\t'fp06c3',\t'fp06c4',\t'cfout',\t'agambf',\t'chshipc',\t'ahendb',\t'bhendb',\t'fn13c10',\t'airc',\t'birc',\t'bk6s',\t'atotss',\t'fd04c',\t'pw04c2',\t'noldsib',\t'npeople',\t'nsasib',\t'nsib',\t'nyngsib',\t'oral',\t'asupport',\t'bsupport',\t'beffic',\t'sc11c3c',\t'sc11b3c',\t'pedsef',\t'pedsphy',\t'pedspse',\t'pedspsd',\t'pedspsc',\t'pedste',\t'pedstd',\t'pedstc',\t'pedssof',\t'pedsscd',\t'pedsscc',\t'pedsphyb',\t'cnfp16',\t'fp02c2a',\t'hs53a1a',\t'apgsi',\t'pssm',\t'cresl',\t'fn13p',\t'acondb',\t'ccondb',\t'bcondb',\t'bpsoc',\t'aemot',\t'cemot',\t'bemot',\t'ahypr',\t'chypr',\t'bhypr',\t'apeer',\t'cpeer',\t'bpeer',\t'apsoc',\t'cpsoc',\t'csdqtb',\t'bsdqtb',\t'cnfsad2',\t'sle',\t'hb14c2',\t'hb13c2b',\t'hb13c1b',\t'ho06c5',\t'numcond',\t'hinci',\t'hs23c3', 'A01',\t'A02',\t'A03',\t'A04',\t'A06',\t'A07',\t'A09',\t'A10',\t'A11',\t'B01',\t'B02',\t'B03',\t'C01',\t'C02',\t'C03',\t'C07',\t'C08',\t'C09',\t'C10',\t'D01',\t'D05',\t'D06',\t'D07',\t'D10',\t'D11',\t'G02',\t'G03',\t'G04',\t'H01',\t'H02',\t'H03',\t'H04',\t'J01',\t'J02',\t'J04',\t'J05',\t'L01',\t'L02',\t'L04',\t'M01',\t'M03',\t'M04',\t'N02',\t'N03',\t'N04B',\t'N05A',\t'N05B',\t'N05C',\t'N06A',\t'N06B',\t'N07B',\t'P02',\t'P03',\t'R01',\t'R03',\t'R05',\t'R07',\t'S01',\t'S02',\t'S03',\t'V01',\t'V06',\t'benefit',\t'mhcp',\t'psychol',\t'psychia',\t'gp',\t'mbs',\t'hos',\t'y9test',\t'y9gram',\t'y9num',\t'y9read',\t'y9spel',\t'y9write']\n",
    "Xicols=Xi.columns.values.tolist()\n",
    "nums2=list(set(Xicols) & set(nums))\n",
    "numfs=Xi[nums2]\n",
    "Xi[nums2]=scaler.fit_transform(numfs.values)\n",
    "Xi.to_csv('Xi.csv')"
   ]
  },
  {
   "cell_type": "code",
   "execution_count": 4,
   "id": "58aa9bd1",
   "metadata": {},
   "outputs": [
    {
     "data": {
      "text/html": [
       "<style>#sk-container-id-1 {color: black;}#sk-container-id-1 pre{padding: 0;}#sk-container-id-1 div.sk-toggleable {background-color: white;}#sk-container-id-1 label.sk-toggleable__label {cursor: pointer;display: block;width: 100%;margin-bottom: 0;padding: 0.3em;box-sizing: border-box;text-align: center;}#sk-container-id-1 label.sk-toggleable__label-arrow:before {content: \"▸\";float: left;margin-right: 0.25em;color: #696969;}#sk-container-id-1 label.sk-toggleable__label-arrow:hover:before {color: black;}#sk-container-id-1 div.sk-estimator:hover label.sk-toggleable__label-arrow:before {color: black;}#sk-container-id-1 div.sk-toggleable__content {max-height: 0;max-width: 0;overflow: hidden;text-align: left;background-color: #f0f8ff;}#sk-container-id-1 div.sk-toggleable__content pre {margin: 0.2em;color: black;border-radius: 0.25em;background-color: #f0f8ff;}#sk-container-id-1 input.sk-toggleable__control:checked~div.sk-toggleable__content {max-height: 200px;max-width: 100%;overflow: auto;}#sk-container-id-1 input.sk-toggleable__control:checked~label.sk-toggleable__label-arrow:before {content: \"▾\";}#sk-container-id-1 div.sk-estimator input.sk-toggleable__control:checked~label.sk-toggleable__label {background-color: #d4ebff;}#sk-container-id-1 div.sk-label input.sk-toggleable__control:checked~label.sk-toggleable__label {background-color: #d4ebff;}#sk-container-id-1 input.sk-hidden--visually {border: 0;clip: rect(1px 1px 1px 1px);clip: rect(1px, 1px, 1px, 1px);height: 1px;margin: -1px;overflow: hidden;padding: 0;position: absolute;width: 1px;}#sk-container-id-1 div.sk-estimator {font-family: monospace;background-color: #f0f8ff;border: 1px dotted black;border-radius: 0.25em;box-sizing: border-box;margin-bottom: 0.5em;}#sk-container-id-1 div.sk-estimator:hover {background-color: #d4ebff;}#sk-container-id-1 div.sk-parallel-item::after {content: \"\";width: 100%;border-bottom: 1px solid gray;flex-grow: 1;}#sk-container-id-1 div.sk-label:hover label.sk-toggleable__label {background-color: #d4ebff;}#sk-container-id-1 div.sk-serial::before {content: \"\";position: absolute;border-left: 1px solid gray;box-sizing: border-box;top: 0;bottom: 0;left: 50%;z-index: 0;}#sk-container-id-1 div.sk-serial {display: flex;flex-direction: column;align-items: center;background-color: white;padding-right: 0.2em;padding-left: 0.2em;position: relative;}#sk-container-id-1 div.sk-item {position: relative;z-index: 1;}#sk-container-id-1 div.sk-parallel {display: flex;align-items: stretch;justify-content: center;background-color: white;position: relative;}#sk-container-id-1 div.sk-item::before, #sk-container-id-1 div.sk-parallel-item::before {content: \"\";position: absolute;border-left: 1px solid gray;box-sizing: border-box;top: 0;bottom: 0;left: 50%;z-index: -1;}#sk-container-id-1 div.sk-parallel-item {display: flex;flex-direction: column;z-index: 1;position: relative;background-color: white;}#sk-container-id-1 div.sk-parallel-item:first-child::after {align-self: flex-end;width: 50%;}#sk-container-id-1 div.sk-parallel-item:last-child::after {align-self: flex-start;width: 50%;}#sk-container-id-1 div.sk-parallel-item:only-child::after {width: 0;}#sk-container-id-1 div.sk-dashed-wrapped {border: 1px dashed gray;margin: 0 0.4em 0.5em 0.4em;box-sizing: border-box;padding-bottom: 0.4em;background-color: white;}#sk-container-id-1 div.sk-label label {font-family: monospace;font-weight: bold;display: inline-block;line-height: 1.2em;}#sk-container-id-1 div.sk-label-container {text-align: center;}#sk-container-id-1 div.sk-container {/* jupyter's `normalize.less` sets `[hidden] { display: none; }` but bootstrap.min.css set `[hidden] { display: none !important; }` so we also need the `!important` here to be able to override the default hidden behavior on the sphinx rendered scikit-learn.org. See: https://github.com/scikit-learn/scikit-learn/issues/21755 */display: inline-block !important;position: relative;}#sk-container-id-1 div.sk-text-repr-fallback {display: none;}</style><div id=\"sk-container-id-1\" class=\"sk-top-container\"><div class=\"sk-text-repr-fallback\"><pre>IterativeImputer(random_state=26)</pre><b>In a Jupyter environment, please rerun this cell to show the HTML representation or trust the notebook. <br />On GitHub, the HTML representation is unable to render, please try loading this page with nbviewer.org.</b></div><div class=\"sk-container\" hidden><div class=\"sk-item\"><div class=\"sk-estimator sk-toggleable\"><input class=\"sk-toggleable__control sk-hidden--visually\" id=\"sk-estimator-id-1\" type=\"checkbox\" checked><label for=\"sk-estimator-id-1\" class=\"sk-toggleable__label sk-toggleable__label-arrow\">IterativeImputer</label><div class=\"sk-toggleable__content\"><pre>IterativeImputer(random_state=26)</pre></div></div></div></div></div>"
      ],
      "text/plain": [
       "IterativeImputer(random_state=26)"
      ]
     },
     "execution_count": 4,
     "metadata": {},
     "output_type": "execute_result"
    }
   ],
   "source": [
    "X_hold=pd.read_csv('~/OneDrive - UNSW/Documents/lsac-data/X_hold.csv')\n",
    "#Imputing the holdout set\n",
    "from sklearn.experimental import enable_iterative_imputer  \n",
    "# now you can import normally from sklearn.impute\n",
    "from sklearn.impute import IterativeImputer\n",
    "imputer=IterativeImputer(random_state=26)\n",
    "imputer.fit(X_hold)\n",
    "Xi_hold=X_hold\n",
    "Xi_hold[:]=imputer.transform(Xi_hold)"
   ]
  },
  {
   "cell_type": "code",
   "execution_count": 9,
   "id": "040759ad",
   "metadata": {},
   "outputs": [
    {
     "data": {
      "text/html": [
       "<div>\n",
       "<style scoped>\n",
       "    .dataframe tbody tr th:only-of-type {\n",
       "        vertical-align: middle;\n",
       "    }\n",
       "\n",
       "    .dataframe tbody tr th {\n",
       "        vertical-align: top;\n",
       "    }\n",
       "\n",
       "    .dataframe thead th {\n",
       "        text-align: right;\n",
       "    }\n",
       "</style>\n",
       "<table border=\"1\" class=\"dataframe\">\n",
       "  <thead>\n",
       "    <tr style=\"text-align: right;\">\n",
       "      <th></th>\n",
       "      <th>fd20a1</th>\n",
       "      <th>fd20c4</th>\n",
       "      <th>pe05c</th>\n",
       "      <th>pe06c2</th>\n",
       "      <th>fd24c1</th>\n",
       "      <th>f13ip1</th>\n",
       "      <th>f17ip1</th>\n",
       "      <th>f17zip1</th>\n",
       "      <th>f17aip1</th>\n",
       "      <th>f17bip1</th>\n",
       "      <th>...</th>\n",
       "      <th>psychia</th>\n",
       "      <th>gp</th>\n",
       "      <th>mbs</th>\n",
       "      <th>hos</th>\n",
       "      <th>y9test</th>\n",
       "      <th>y9gram</th>\n",
       "      <th>y9num</th>\n",
       "      <th>y9read</th>\n",
       "      <th>y9spel</th>\n",
       "      <th>y9write</th>\n",
       "    </tr>\n",
       "  </thead>\n",
       "  <tbody>\n",
       "    <tr>\n",
       "      <th>0</th>\n",
       "      <td>-9.0</td>\n",
       "      <td>-9.0</td>\n",
       "      <td>-9.0</td>\n",
       "      <td>-9.0</td>\n",
       "      <td>-9.0</td>\n",
       "      <td>1.0</td>\n",
       "      <td>2.0</td>\n",
       "      <td>2.0</td>\n",
       "      <td>0.0</td>\n",
       "      <td>0.0</td>\n",
       "      <td>...</td>\n",
       "      <td>-0.120109</td>\n",
       "      <td>0.141955</td>\n",
       "      <td>-0.401386</td>\n",
       "      <td>-0.114709</td>\n",
       "      <td>0.277500</td>\n",
       "      <td>0.742737</td>\n",
       "      <td>0.542185</td>\n",
       "      <td>0.482281</td>\n",
       "      <td>0.769311</td>\n",
       "      <td>0.371608</td>\n",
       "    </tr>\n",
       "    <tr>\n",
       "      <th>1</th>\n",
       "      <td>-9.0</td>\n",
       "      <td>-9.0</td>\n",
       "      <td>-9.0</td>\n",
       "      <td>-9.0</td>\n",
       "      <td>-9.0</td>\n",
       "      <td>1.0</td>\n",
       "      <td>2.0</td>\n",
       "      <td>2.0</td>\n",
       "      <td>0.0</td>\n",
       "      <td>0.0</td>\n",
       "      <td>...</td>\n",
       "      <td>-0.120109</td>\n",
       "      <td>-0.474027</td>\n",
       "      <td>-0.499610</td>\n",
       "      <td>-0.114709</td>\n",
       "      <td>0.275579</td>\n",
       "      <td>0.600097</td>\n",
       "      <td>0.520104</td>\n",
       "      <td>0.453224</td>\n",
       "      <td>0.392045</td>\n",
       "      <td>0.371608</td>\n",
       "    </tr>\n",
       "    <tr>\n",
       "      <th>2</th>\n",
       "      <td>-9.0</td>\n",
       "      <td>-9.0</td>\n",
       "      <td>-9.0</td>\n",
       "      <td>-9.0</td>\n",
       "      <td>-9.0</td>\n",
       "      <td>1.0</td>\n",
       "      <td>2.0</td>\n",
       "      <td>2.0</td>\n",
       "      <td>0.0</td>\n",
       "      <td>0.0</td>\n",
       "      <td>...</td>\n",
       "      <td>-0.120109</td>\n",
       "      <td>-0.474027</td>\n",
       "      <td>-0.597834</td>\n",
       "      <td>-0.114709</td>\n",
       "      <td>0.277500</td>\n",
       "      <td>0.541766</td>\n",
       "      <td>0.995751</td>\n",
       "      <td>1.102658</td>\n",
       "      <td>0.628022</td>\n",
       "      <td>0.657920</td>\n",
       "    </tr>\n",
       "    <tr>\n",
       "      <th>3</th>\n",
       "      <td>-9.0</td>\n",
       "      <td>-9.0</td>\n",
       "      <td>-9.0</td>\n",
       "      <td>-9.0</td>\n",
       "      <td>-9.0</td>\n",
       "      <td>1.0</td>\n",
       "      <td>2.0</td>\n",
       "      <td>2.0</td>\n",
       "      <td>0.0</td>\n",
       "      <td>0.0</td>\n",
       "      <td>...</td>\n",
       "      <td>-0.120109</td>\n",
       "      <td>-0.474027</td>\n",
       "      <td>-0.204937</td>\n",
       "      <td>-0.114709</td>\n",
       "      <td>0.277500</td>\n",
       "      <td>0.109922</td>\n",
       "      <td>-0.049383</td>\n",
       "      <td>-0.033489</td>\n",
       "      <td>-0.384795</td>\n",
       "      <td>-0.459493</td>\n",
       "    </tr>\n",
       "    <tr>\n",
       "      <th>4</th>\n",
       "      <td>-9.0</td>\n",
       "      <td>-9.0</td>\n",
       "      <td>-9.0</td>\n",
       "      <td>-9.0</td>\n",
       "      <td>-9.0</td>\n",
       "      <td>1.0</td>\n",
       "      <td>2.0</td>\n",
       "      <td>2.0</td>\n",
       "      <td>0.0</td>\n",
       "      <td>0.0</td>\n",
       "      <td>...</td>\n",
       "      <td>-0.120109</td>\n",
       "      <td>-0.474027</td>\n",
       "      <td>-0.401386</td>\n",
       "      <td>-0.114709</td>\n",
       "      <td>0.277500</td>\n",
       "      <td>0.742737</td>\n",
       "      <td>0.698127</td>\n",
       "      <td>0.716194</td>\n",
       "      <td>0.507059</td>\n",
       "      <td>1.106774</td>\n",
       "    </tr>\n",
       "    <tr>\n",
       "      <th>...</th>\n",
       "      <td>...</td>\n",
       "      <td>...</td>\n",
       "      <td>...</td>\n",
       "      <td>...</td>\n",
       "      <td>...</td>\n",
       "      <td>...</td>\n",
       "      <td>...</td>\n",
       "      <td>...</td>\n",
       "      <td>...</td>\n",
       "      <td>...</td>\n",
       "      <td>...</td>\n",
       "      <td>...</td>\n",
       "      <td>...</td>\n",
       "      <td>...</td>\n",
       "      <td>...</td>\n",
       "      <td>...</td>\n",
       "      <td>...</td>\n",
       "      <td>...</td>\n",
       "      <td>...</td>\n",
       "      <td>...</td>\n",
       "      <td>...</td>\n",
       "    </tr>\n",
       "    <tr>\n",
       "      <th>724</th>\n",
       "      <td>-9.0</td>\n",
       "      <td>-9.0</td>\n",
       "      <td>-9.0</td>\n",
       "      <td>-9.0</td>\n",
       "      <td>-9.0</td>\n",
       "      <td>2.0</td>\n",
       "      <td>1.0</td>\n",
       "      <td>1.0</td>\n",
       "      <td>0.0</td>\n",
       "      <td>0.0</td>\n",
       "      <td>...</td>\n",
       "      <td>-0.120109</td>\n",
       "      <td>-0.782018</td>\n",
       "      <td>-0.696059</td>\n",
       "      <td>-0.114709</td>\n",
       "      <td>0.275579</td>\n",
       "      <td>0.146195</td>\n",
       "      <td>-2.510878</td>\n",
       "      <td>-1.214192</td>\n",
       "      <td>0.138221</td>\n",
       "      <td>0.310965</td>\n",
       "    </tr>\n",
       "    <tr>\n",
       "      <th>725</th>\n",
       "      <td>-9.0</td>\n",
       "      <td>-9.0</td>\n",
       "      <td>-9.0</td>\n",
       "      <td>-9.0</td>\n",
       "      <td>-9.0</td>\n",
       "      <td>1.0</td>\n",
       "      <td>2.0</td>\n",
       "      <td>2.0</td>\n",
       "      <td>0.0</td>\n",
       "      <td>0.0</td>\n",
       "      <td>...</td>\n",
       "      <td>-0.120109</td>\n",
       "      <td>-0.782018</td>\n",
       "      <td>-0.696059</td>\n",
       "      <td>-0.114709</td>\n",
       "      <td>0.277500</td>\n",
       "      <td>-0.080756</td>\n",
       "      <td>-0.000623</td>\n",
       "      <td>0.031890</td>\n",
       "      <td>0.345940</td>\n",
       "      <td>-0.035989</td>\n",
       "    </tr>\n",
       "    <tr>\n",
       "      <th>726</th>\n",
       "      <td>-9.0</td>\n",
       "      <td>-9.0</td>\n",
       "      <td>-9.0</td>\n",
       "      <td>-9.0</td>\n",
       "      <td>-9.0</td>\n",
       "      <td>1.0</td>\n",
       "      <td>2.0</td>\n",
       "      <td>2.0</td>\n",
       "      <td>0.0</td>\n",
       "      <td>0.0</td>\n",
       "      <td>...</td>\n",
       "      <td>-0.120109</td>\n",
       "      <td>0.141955</td>\n",
       "      <td>-0.401386</td>\n",
       "      <td>-0.114709</td>\n",
       "      <td>0.277500</td>\n",
       "      <td>0.742737</td>\n",
       "      <td>0.942850</td>\n",
       "      <td>0.999020</td>\n",
       "      <td>0.628022</td>\n",
       "      <td>1.033705</td>\n",
       "    </tr>\n",
       "    <tr>\n",
       "      <th>727</th>\n",
       "      <td>-9.0</td>\n",
       "      <td>-9.0</td>\n",
       "      <td>-9.0</td>\n",
       "      <td>-9.0</td>\n",
       "      <td>-9.0</td>\n",
       "      <td>1.0</td>\n",
       "      <td>2.0</td>\n",
       "      <td>2.0</td>\n",
       "      <td>0.0</td>\n",
       "      <td>0.0</td>\n",
       "      <td>...</td>\n",
       "      <td>-0.120109</td>\n",
       "      <td>-0.782018</td>\n",
       "      <td>-0.696059</td>\n",
       "      <td>-0.114709</td>\n",
       "      <td>0.279420</td>\n",
       "      <td>0.651075</td>\n",
       "      <td>0.530685</td>\n",
       "      <td>0.419808</td>\n",
       "      <td>0.420799</td>\n",
       "      <td>0.371608</td>\n",
       "    </tr>\n",
       "    <tr>\n",
       "      <th>728</th>\n",
       "      <td>-9.0</td>\n",
       "      <td>-9.0</td>\n",
       "      <td>-9.0</td>\n",
       "      <td>-9.0</td>\n",
       "      <td>-9.0</td>\n",
       "      <td>1.0</td>\n",
       "      <td>2.0</td>\n",
       "      <td>2.0</td>\n",
       "      <td>0.0</td>\n",
       "      <td>0.0</td>\n",
       "      <td>...</td>\n",
       "      <td>-0.120109</td>\n",
       "      <td>-0.166036</td>\n",
       "      <td>-0.499610</td>\n",
       "      <td>-0.114709</td>\n",
       "      <td>0.277500</td>\n",
       "      <td>0.240799</td>\n",
       "      <td>0.234440</td>\n",
       "      <td>0.129717</td>\n",
       "      <td>-0.086849</td>\n",
       "      <td>0.133511</td>\n",
       "    </tr>\n",
       "  </tbody>\n",
       "</table>\n",
       "<p>729 rows × 1011 columns</p>\n",
       "</div>"
      ],
      "text/plain": [
       "     fd20a1  fd20c4  pe05c  pe06c2  fd24c1  f13ip1  f17ip1  f17zip1  f17aip1  \\\n",
       "0      -9.0    -9.0   -9.0    -9.0    -9.0     1.0     2.0      2.0      0.0   \n",
       "1      -9.0    -9.0   -9.0    -9.0    -9.0     1.0     2.0      2.0      0.0   \n",
       "2      -9.0    -9.0   -9.0    -9.0    -9.0     1.0     2.0      2.0      0.0   \n",
       "3      -9.0    -9.0   -9.0    -9.0    -9.0     1.0     2.0      2.0      0.0   \n",
       "4      -9.0    -9.0   -9.0    -9.0    -9.0     1.0     2.0      2.0      0.0   \n",
       "..      ...     ...    ...     ...     ...     ...     ...      ...      ...   \n",
       "724    -9.0    -9.0   -9.0    -9.0    -9.0     2.0     1.0      1.0      0.0   \n",
       "725    -9.0    -9.0   -9.0    -9.0    -9.0     1.0     2.0      2.0      0.0   \n",
       "726    -9.0    -9.0   -9.0    -9.0    -9.0     1.0     2.0      2.0      0.0   \n",
       "727    -9.0    -9.0   -9.0    -9.0    -9.0     1.0     2.0      2.0      0.0   \n",
       "728    -9.0    -9.0   -9.0    -9.0    -9.0     1.0     2.0      2.0      0.0   \n",
       "\n",
       "     f17bip1  ...   psychia        gp       mbs       hos    y9test    y9gram  \\\n",
       "0        0.0  ... -0.120109  0.141955 -0.401386 -0.114709  0.277500  0.742737   \n",
       "1        0.0  ... -0.120109 -0.474027 -0.499610 -0.114709  0.275579  0.600097   \n",
       "2        0.0  ... -0.120109 -0.474027 -0.597834 -0.114709  0.277500  0.541766   \n",
       "3        0.0  ... -0.120109 -0.474027 -0.204937 -0.114709  0.277500  0.109922   \n",
       "4        0.0  ... -0.120109 -0.474027 -0.401386 -0.114709  0.277500  0.742737   \n",
       "..       ...  ...       ...       ...       ...       ...       ...       ...   \n",
       "724      0.0  ... -0.120109 -0.782018 -0.696059 -0.114709  0.275579  0.146195   \n",
       "725      0.0  ... -0.120109 -0.782018 -0.696059 -0.114709  0.277500 -0.080756   \n",
       "726      0.0  ... -0.120109  0.141955 -0.401386 -0.114709  0.277500  0.742737   \n",
       "727      0.0  ... -0.120109 -0.782018 -0.696059 -0.114709  0.279420  0.651075   \n",
       "728      0.0  ... -0.120109 -0.166036 -0.499610 -0.114709  0.277500  0.240799   \n",
       "\n",
       "        y9num    y9read    y9spel   y9write  \n",
       "0    0.542185  0.482281  0.769311  0.371608  \n",
       "1    0.520104  0.453224  0.392045  0.371608  \n",
       "2    0.995751  1.102658  0.628022  0.657920  \n",
       "3   -0.049383 -0.033489 -0.384795 -0.459493  \n",
       "4    0.698127  0.716194  0.507059  1.106774  \n",
       "..        ...       ...       ...       ...  \n",
       "724 -2.510878 -1.214192  0.138221  0.310965  \n",
       "725 -0.000623  0.031890  0.345940 -0.035989  \n",
       "726  0.942850  0.999020  0.628022  1.033705  \n",
       "727  0.530685  0.419808  0.420799  0.371608  \n",
       "728  0.234440  0.129717 -0.086849  0.133511  \n",
       "\n",
       "[729 rows x 1011 columns]"
      ]
     },
     "execution_count": 9,
     "metadata": {},
     "output_type": "execute_result"
    }
   ],
   "source": [
    "pd.set_option('display.max_rows', 20)\n",
    "#Scaling the holdout dataset\n",
    "from sklearn import preprocessing\n",
    "scaler=preprocessing.StandardScaler()\n",
    "#Storing the numerical columns in a list\n",
    "nums=['perapp',\t'peravoid',\t'mastavoid',\t'mastapp',\t'peerpos',\t'peermoral',\t'peerpostot',\t'hb16c12',\t'hb16c12a',\t'hb15c10',\t'hb15c10a',\t'hb26c2',\t'hb26c2a',\t'hb28c3',\t'hb27c2',\t'hb16c15b',\t'hb31c2',\t'hb16c15d',\t'se27c1',\t're23c1',\t'hb16c10',\t'calcharm',\t'he17c2b2',\t'he06c2b2',\t'he06c3b2',\t'tvweek',\t'egweek',\t'aanga',\t'banga',\t'aarga',\t'barga',\t'pw09a',\t'pw09b',\t'pw09c',\t'pw09a',\t'pw09b',\t'aextra',\t'aagree',\t'aconsc',\t'aneuro',\t'aopen',\t'cextra',\t'cagree',\t'cconsc',\t'cneuro',\t'copen',\t'bextra',\t'bagree',\t'bconsc',\t'bneuro',\t'bopen',\t'bodyfat',\t'cbmi',\t'chu9d',\t'hb15c13',\t'acons',\t'bcons',\t'bcopar',\t'smfq',\t'fp06c3',\t'fp06c4',\t'cfout',\t'agambf',\t'chshipc',\t'ahendb',\t'bhendb',\t'fn13c10',\t'airc',\t'birc',\t'bk6s',\t'atotss',\t'fd04c',\t'pw04c2',\t'noldsib',\t'npeople',\t'nsasib',\t'nsib',\t'nyngsib',\t'oral',\t'asupport',\t'bsupport',\t'beffic',\t'sc11c3c',\t'sc11b3c',\t'pedsef',\t'pedsphy',\t'pedspse',\t'pedspsd',\t'pedspsc',\t'pedste',\t'pedstd',\t'pedstc',\t'pedssof',\t'pedsscd',\t'pedsscc',\t'pedsphyb',\t'cnfp16',\t'fp02c2a',\t'hs53a1a',\t'apgsi',\t'pssm',\t'cresl',\t'fn13p',\t'acondb',\t'ccondb',\t'bcondb',\t'bpsoc',\t'aemot',\t'cemot',\t'bemot',\t'ahypr',\t'chypr',\t'bhypr',\t'apeer',\t'cpeer',\t'bpeer',\t'apsoc',\t'cpsoc',\t'csdqtb',\t'bsdqtb',\t'cnfsad2',\t'sle',\t'hb14c2',\t'hb13c2b',\t'hb13c1b',\t'ho06c5',\t'numcond',\t'hinci',\t'hs23c3', 'A01',\t'A02',\t'A03',\t'A04',\t'A06',\t'A07',\t'A09',\t'A10',\t'A11',\t'B01',\t'B02',\t'B03',\t'C01',\t'C02',\t'C03',\t'C07',\t'C08',\t'C09',\t'C10',\t'D01',\t'D05',\t'D06',\t'D07',\t'D10',\t'D11',\t'G02',\t'G03',\t'G04',\t'H01',\t'H02',\t'H03',\t'H04',\t'J01',\t'J02',\t'J04',\t'J05',\t'L01',\t'L02',\t'L04',\t'M01',\t'M03',\t'M04',\t'N02',\t'N03',\t'N04B',\t'N05A',\t'N05B',\t'N05C',\t'N06A',\t'N06B',\t'N07B',\t'P02',\t'P03',\t'R01',\t'R03',\t'R05',\t'R07',\t'S01',\t'S02',\t'S03',\t'V01',\t'V06',\t'benefit',\t'mhcp',\t'psychol',\t'psychia',\t'gp',\t'mbs',\t'hos',\t'y9test',\t'y9gram',\t'y9num',\t'y9read',\t'y9spel',\t'y9write']\n",
    "Xi_hold_cols=Xi_hold.columns.values.tolist()\n",
    "nums2=list(set(Xi_hold_cols) & set(nums))\n",
    "numhs=Xi_hold[nums2]\n",
    "Xi_hold[nums2]=scaler.fit_transform(numhs.values)\n",
    "Xi_hold"
   ]
  },
  {
   "cell_type": "code",
   "execution_count": 10,
   "id": "29143772",
   "metadata": {},
   "outputs": [],
   "source": [
    "Xi_hold.to_csv('Xi_hold.csv', index=False)"
   ]
  },
  {
   "cell_type": "code",
   "execution_count": 38,
   "id": "465e72cb",
   "metadata": {},
   "outputs": [],
   "source": [
    "#Preparing the outcome datasets for all four models\n",
    "outcome_datasets = {}\n",
    "\n",
    "# List of outcomes\n",
    "outcomes = ['si', 'att', 'nssi', 'sitbs']\n",
    "\n",
    "# Creating separate datasets for each outcome- datasets saved as y_si, y_att, etc.\n",
    "for outcome in outcomes:\n",
    "    globals()[f\"y_{outcome}\"] = y[outcome].copy()"
   ]
  },
  {
   "cell_type": "code",
   "execution_count": 42,
   "id": "81fedfa2",
   "metadata": {},
   "outputs": [
    {
     "data": {
      "text/plain": [
       "6       1.0\n",
       "993     0.0\n",
       "556     1.0\n",
       "1234    0.0\n",
       "2059    0.0\n",
       "       ... \n",
       "1555    0.0\n",
       "139     0.0\n",
       "1039    1.0\n",
       "2058    0.0\n",
       "433     0.0\n",
       "Name: si, Length: 1699, dtype: float64"
      ]
     },
     "execution_count": 42,
     "metadata": {},
     "output_type": "execute_result"
    },
    {
     "data": {
      "text/plain": [
       "6       0.0\n",
       "993     0.0\n",
       "556     0.0\n",
       "1234    0.0\n",
       "2059    0.0\n",
       "       ... \n",
       "1555    0.0\n",
       "139     0.0\n",
       "1039    1.0\n",
       "2058    0.0\n",
       "433     0.0\n",
       "Name: att, Length: 1699, dtype: float64"
      ]
     },
     "execution_count": 42,
     "metadata": {},
     "output_type": "execute_result"
    },
    {
     "data": {
      "text/plain": [
       "6       0\n",
       "993     0\n",
       "556     1\n",
       "1234    0\n",
       "2059    0\n",
       "       ..\n",
       "1555    0\n",
       "139     0\n",
       "1039    1\n",
       "2058    0\n",
       "433     0\n",
       "Name: nssi, Length: 1699, dtype: int32"
      ]
     },
     "execution_count": 42,
     "metadata": {},
     "output_type": "execute_result"
    },
    {
     "data": {
      "text/plain": [
       "6       1\n",
       "993     0\n",
       "556     1\n",
       "1234    0\n",
       "2059    0\n",
       "       ..\n",
       "1555    0\n",
       "139     0\n",
       "1039    1\n",
       "2058    0\n",
       "433     0\n",
       "Name: sitbs, Length: 1699, dtype: int64"
      ]
     },
     "execution_count": 42,
     "metadata": {},
     "output_type": "execute_result"
    }
   ],
   "source": [
    "#Checking the resultant outcome datasets\n",
    "for outcome in outcomes:\n",
    "    globals()[f\"y_{outcome}\"]"
   ]
  },
  {
   "cell_type": "code",
   "execution_count": 52,
   "id": "5adc9e1e",
   "metadata": {},
   "outputs": [],
   "source": [
    "# Creating separate datasets for each outcome in the hold-out datasets\n",
    "for outcome in outcomes:\n",
    "    globals()[f\"y_hold_{outcome}\"] = y_hold[outcome].copy()"
   ]
  },
  {
   "cell_type": "code",
   "execution_count": 53,
   "id": "58aefc8a",
   "metadata": {},
   "outputs": [
    {
     "data": {
      "text/plain": [
       "149     0.0\n",
       "488     1.0\n",
       "1527    0.0\n",
       "1435    0.0\n",
       "1062    0.0\n",
       "       ... \n",
       "4       0.0\n",
       "1489    1.0\n",
       "1873    0.0\n",
       "1280    0.0\n",
       "242     0.0\n",
       "Name: si, Length: 729, dtype: float64"
      ]
     },
     "execution_count": 53,
     "metadata": {},
     "output_type": "execute_result"
    },
    {
     "data": {
      "text/plain": [
       "149     0.0\n",
       "488     0.0\n",
       "1527    0.0\n",
       "1435    0.0\n",
       "1062    0.0\n",
       "       ... \n",
       "4       0.0\n",
       "1489    0.0\n",
       "1873    0.0\n",
       "1280    0.0\n",
       "242     0.0\n",
       "Name: att, Length: 729, dtype: float64"
      ]
     },
     "execution_count": 53,
     "metadata": {},
     "output_type": "execute_result"
    },
    {
     "data": {
      "text/plain": [
       "149     0\n",
       "488     0\n",
       "1527    0\n",
       "1435    0\n",
       "1062    0\n",
       "       ..\n",
       "4       0\n",
       "1489    0\n",
       "1873    0\n",
       "1280    0\n",
       "242     0\n",
       "Name: nssi, Length: 729, dtype: int32"
      ]
     },
     "execution_count": 53,
     "metadata": {},
     "output_type": "execute_result"
    },
    {
     "data": {
      "text/plain": [
       "149     0\n",
       "488     1\n",
       "1527    0\n",
       "1435    0\n",
       "1062    0\n",
       "       ..\n",
       "4       0\n",
       "1489    1\n",
       "1873    0\n",
       "1280    0\n",
       "242     0\n",
       "Name: sitbs, Length: 729, dtype: int64"
      ]
     },
     "execution_count": 53,
     "metadata": {},
     "output_type": "execute_result"
    }
   ],
   "source": [
    "#Checking the resultant outcome datasets\n",
    "for outcome in outcomes:\n",
    "    globals()[f\"y_hold_{outcome}\"]"
   ]
  },
  {
   "cell_type": "code",
   "execution_count": 55,
   "id": "da9e8ad6",
   "metadata": {},
   "outputs": [],
   "source": [
    "#Saving the datasets\n",
    "for outcome in outcomes:\n",
    "    globals()[f\"y_{outcome}\"].to_csv(f\"y_{outcome}.csv\", index=False)\n",
    "\n",
    "for outcome in outcomes:\n",
    "    globals()[f\"y_hold_{outcome}\"].to_csv(f\"y_hold_{outcome}.csv\", index=False)"
   ]
  }
 ],
 "metadata": {
  "kernelspec": {
   "display_name": "Python 3 (ipykernel)",
   "language": "python",
   "name": "python3"
  },
  "language_info": {
   "codemirror_mode": {
    "name": "ipython",
    "version": 3
   },
   "file_extension": ".py",
   "mimetype": "text/x-python",
   "name": "python",
   "nbconvert_exporter": "python",
   "pygments_lexer": "ipython3",
   "version": "3.10.5"
  }
 },
 "nbformat": 4,
 "nbformat_minor": 5
}
