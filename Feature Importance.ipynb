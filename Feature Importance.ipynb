{
 "cells": [
  {
   "cell_type": "markdown",
   "metadata": {},
   "source": [
    "# Feature Importance Values "
   ]
  },
  {
   "cell_type": "code",
   "execution_count": 83,
   "metadata": {},
   "outputs": [],
   "source": [
    "import joblib\n",
    "import pandas as pd\n",
    "from IPython.core.interactiveshell import InteractiveShell"
   ]
  },
  {
   "cell_type": "code",
   "execution_count": 84,
   "metadata": {},
   "outputs": [
    {
     "data": {
      "text/plain": [
       "(729, 1011)"
      ]
     },
     "execution_count": 84,
     "metadata": {},
     "output_type": "execute_result"
    }
   ],
   "source": [
    "InteractiveShell.ast_node_interactivity = \"all\"\n",
    "model_si=joblib.load('XGB_si_Uncalibrated.sav')\n",
    "model_nssi=joblib.load('XGB_nssi_Uncalibrated.sav')\n",
    "model_att=joblib.load('XGB_att_Uncalibrated.sav')\n",
    "model_sitbs=joblib.load('XGB_sitbs_Uncalibrated.sav')\n",
    "Xi_hold=pd.read_csv(r'C:\\Users\\z5291979\\OneDrive - UNSW\\Documents\\lsac-data\\Xi_hold.csv')\n",
    "y_hold_si=pd.read_csv(r'C:\\Users\\z5291979\\OneDrive - UNSW\\Documents\\lsac-data\\processed_data\\y_hold_si.csv')\n",
    "y_hold_nssi=pd.read_csv(r'C:\\Users\\z5291979\\OneDrive - UNSW\\Documents\\lsac-data\\processed_data\\y_hold_nssi.csv')\n",
    "y_hold_att=pd.read_csv(r'C:\\Users\\z5291979\\OneDrive - UNSW\\Documents\\lsac-data\\processed_data\\y_hold_att.csv')\n",
    "y_hold_sitbs=pd.read_csv(r'C:\\Users\\z5291979\\OneDrive - UNSW\\Documents\\lsac-data\\processed_data\\y_hold_sitbs.csv')\n",
    "Xi_hold.shape"
   ]
  },
  {
   "cell_type": "code",
   "execution_count": 89,
   "metadata": {},
   "outputs": [],
   "source": [
    "def fscore(model):\n",
    "    fscores=model.feature_importances_\n",
    "    feature_names=Xi_hold.columns\n",
    "    impt=pd.Series(fscores, index=feature_names)\n",
    "    impt=impt.sort_values(ascending=False)\n",
    "    impt=impt.head(20)\n",
    "    print(impt)\n",
    "\n",
    "    return impt"
   ]
  },
  {
   "cell_type": "code",
   "execution_count": 90,
   "metadata": {},
   "outputs": [
    {
     "name": "stdout",
     "output_type": "stream",
     "text": [
      "hs54c      0.010011\n",
      "hs54a      0.008618\n",
      "hs54d      0.007596\n",
      "hs48p34    0.006551\n",
      "se20a18    0.006213\n",
      "pw39cb5    0.006177\n",
      "hs48p23    0.005745\n",
      "hs54b      0.005649\n",
      "hs48a41    0.005312\n",
      "hs54f      0.005240\n",
      "pa26a7     0.004752\n",
      "hs37zf     0.004550\n",
      "se16b2     0.004020\n",
      "hs44a40    0.003883\n",
      "hs55m      0.003713\n",
      "mhcp       0.003628\n",
      "hs48p3     0.003376\n",
      "hs54e      0.003356\n",
      "hs08b7     0.003301\n",
      "sc26c3     0.003263\n",
      "dtype: float32\n"
     ]
    }
   ],
   "source": [
    "imptfeats = fscore(model_si)"
   ]
  },
  {
   "cell_type": "code",
   "execution_count": 91,
   "metadata": {},
   "outputs": [],
   "source": [
    "w7dd=pd.read_csv(r\"C:\\Users\\z5291979\\OneDrive - UNSW\\Documents\\lsac-data\\processed_data\\w7ddsel.csv\")\n",
    "#Defining a function which extracts rows of the data dictionary corresponding to the most important features\n",
    "def dd():\n",
    "    imptcols=list(imptfeats.index.values)\n",
    "    dd_feat=w7dd.loc[w7dd['Without age'].isin(imptcols)]\n",
    "    return dd_feat"
   ]
  },
  {
   "cell_type": "code",
   "execution_count": 92,
   "metadata": {},
   "outputs": [],
   "source": [
    "imptfeats.to_csv(r'C:\\Users\\z5291979\\OneDrive - UNSW\\Documents\\lsac-data\\processed_data\\SI_imptfeats.csv')\n",
    "si_feat_dd=dd()\n",
    "si_feat_dd.to_csv(r'C:\\Users\\z5291979\\OneDrive - UNSW\\Documents\\lsac-data\\processed_data\\si_feat_dd.csv')\n"
   ]
  },
  {
   "cell_type": "code",
   "execution_count": 95,
   "metadata": {},
   "outputs": [
    {
     "name": "stdout",
     "output_type": "stream",
     "text": [
      "hs54b       0.026558\n",
      "hs54a       0.023067\n",
      "hs54d       0.012204\n",
      "hs54c       0.009927\n",
      "chu9d       0.005486\n",
      "pc58i4      0.005278\n",
      "smfq        0.005120\n",
      "pa14a4a5    0.004408\n",
      "hs18b2      0.004385\n",
      "f17iip1     0.004331\n",
      "re09c       0.004124\n",
      "se16b1      0.004114\n",
      "chshipc     0.004086\n",
      "hb32c       0.004048\n",
      "re22z       0.004041\n",
      "pc44c10d    0.004019\n",
      "re01b4      0.003996\n",
      "hs48a4      0.003949\n",
      "se16b3      0.003916\n",
      "cemot       0.003854\n",
      "dtype: float32\n"
     ]
    }
   ],
   "source": [
    "imptfeats=fscore(model_nssi)"
   ]
  },
  {
   "cell_type": "code",
   "execution_count": 96,
   "metadata": {},
   "outputs": [],
   "source": [
    "imptfeats.to_csv(r'C:\\Users\\z5291979\\OneDrive - UNSW\\Documents\\lsac-data\\processed_data\\NSSI_imptfeats.csv')\n",
    "nssi_feat_dd=dd()\n",
    "nssi_feat_dd.to_csv(r'C:\\Users\\z5291979\\OneDrive - UNSW\\Documents\\lsac-data\\processed_data\\nssi_feat_dd.csv')\n"
   ]
  },
  {
   "cell_type": "code",
   "execution_count": 97,
   "metadata": {},
   "outputs": [
    {
     "name": "stdout",
     "output_type": "stream",
     "text": [
      "hs54c      0.005129\n",
      "se16b4     0.004421\n",
      "hs54d      0.004346\n",
      "csdqtb     0.004292\n",
      "hs54a      0.004289\n",
      "hs54f      0.004034\n",
      "fn04b1     0.004003\n",
      "hs54b      0.003885\n",
      "se16b2     0.003869\n",
      "pedspsc    0.003733\n",
      "re22c      0.003706\n",
      "hb30a1     0.003671\n",
      "pedspsd    0.003626\n",
      "hs54e      0.003604\n",
      "smfq       0.003584\n",
      "fn04q1     0.003549\n",
      "cemot      0.003464\n",
      "hs12b      0.003156\n",
      "hs48b30    0.003133\n",
      "re09a      0.002962\n",
      "dtype: float32\n"
     ]
    }
   ],
   "source": [
    "imptfeats = fscore(model_att)"
   ]
  },
  {
   "cell_type": "code",
   "execution_count": 98,
   "metadata": {},
   "outputs": [],
   "source": [
    "imptfeats.to_csv(r'C:\\Users\\z5291979\\OneDrive - UNSW\\Documents\\lsac-data\\processed_data\\att_imptfeats.csv')\n",
    "att_feat_dd=dd()\n",
    "att_feat_dd.to_csv(r'C:\\Users\\z5291979\\OneDrive - UNSW\\Documents\\lsac-data\\processed_data\\att_feat_dd.csv')"
   ]
  },
  {
   "cell_type": "code",
   "execution_count": 99,
   "metadata": {},
   "outputs": [
    {
     "name": "stdout",
     "output_type": "stream",
     "text": [
      "hs54a         0.029732\n",
      "hs54d         0.018318\n",
      "hs54b         0.014911\n",
      "hs54c         0.014737\n",
      "cemot         0.008705\n",
      "pw39cb15      0.007576\n",
      "pw39cb9       0.007408\n",
      "se27c2        0.007392\n",
      "hs55i         0.006377\n",
      "hs55b         0.006199\n",
      "se16b2        0.006036\n",
      "chu9d         0.005833\n",
      "sc26c3        0.004622\n",
      "csdqtb        0.004507\n",
      "re22za        0.004499\n",
      "cemp1         0.004433\n",
      "re22p         0.004418\n",
      "re22b         0.003859\n",
      "fp01c1        0.003696\n",
      "pe23d_-1.0    0.003647\n",
      "dtype: float32\n"
     ]
    }
   ],
   "source": [
    "imptfeats= fscore(model_sitbs)"
   ]
  },
  {
   "cell_type": "code",
   "execution_count": null,
   "metadata": {},
   "outputs": [],
   "source": [
    "imptfeats.to_csv(r'C:\\Users\\z5291979\\OneDrive - UNSW\\Documents\\lsac-data\\processed_data\\SITBs_imptfeats.csv')\n",
    "si_feat_dd=dd()\n",
    "si_feat_dd.to_csv(r'C:\\Users\\z5291979\\OneDrive - UNSW\\Documents\\lsac-data\\processed_data\\sitbs_feat_dd.csv')"
   ]
  }
 ],
 "metadata": {
  "kernelspec": {
   "display_name": ".venv",
   "language": "python",
   "name": "python3"
  },
  "language_info": {
   "codemirror_mode": {
    "name": "ipython",
    "version": 3
   },
   "file_extension": ".py",
   "mimetype": "text/x-python",
   "name": "python",
   "nbconvert_exporter": "python",
   "pygments_lexer": "ipython3",
   "version": "3.10.5"
  }
 },
 "nbformat": 4,
 "nbformat_minor": 2
}
