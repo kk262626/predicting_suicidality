{
 "cells": [
  {
   "cell_type": "markdown",
   "metadata": {},
   "source": [
    "# Feature Importance Values "
   ]
  },
  {
   "cell_type": "code",
   "execution_count": 1,
   "metadata": {},
   "outputs": [],
   "source": [
    "import joblib\n",
    "import pandas as pd\n",
    "from IPython.core.interactiveshell import InteractiveShell\n",
    "from sklearn.inspection import permutation_importance"
   ]
  },
  {
   "cell_type": "code",
   "execution_count": 22,
   "metadata": {},
   "outputs": [
    {
     "data": {
      "text/plain": [
       "(729, 1011)"
      ]
     },
     "execution_count": 22,
     "metadata": {},
     "output_type": "execute_result"
    }
   ],
   "source": [
    "InteractiveShell.ast_node_interactivity = \"all\"\n",
    "model_si=joblib.load('XGB_si_Uncalibrated.sav')\n",
    "model_nssi=joblib.load('XGB_nssi_Uncalibrated.sav')\n",
    "model_att=joblib.load('XGB_att_Uncalibrated.sav')\n",
    "model_sitbs=joblib.load('XGB_sitbs_Uncalibrated.sav')\n",
    "Xi_hold=pd.read_csv(r'C:\\Users\\z5291979\\OneDrive - UNSW\\Documents\\lsac-data\\Xi_hold.csv')\n",
    "y_hold_si=pd.read_csv(r'C:\\Users\\z5291979\\OneDrive - UNSW\\Documents\\lsac-data\\processed_data\\y_hold_si.csv')\n",
    "y_hold_nssi=pd.read_csv(r'C:\\Users\\z5291979\\OneDrive - UNSW\\Documents\\lsac-data\\processed_data\\y_hold_nssi.csv')\n",
    "y_hold_att=pd.read_csv(r'C:\\Users\\z5291979\\OneDrive - UNSW\\Documents\\lsac-data\\processed_data\\y_hold_att.csv')\n",
    "y_hold_sitbs=pd.read_csv(r'C:\\Users\\z5291979\\OneDrive - UNSW\\Documents\\lsac-data\\processed_data\\y_hold_sitbs.csv')\n",
    "Xi_hold.shape"
   ]
  },
  {
   "cell_type": "code",
   "execution_count": 9,
   "metadata": {},
   "outputs": [],
   "source": [
    "#Defining a function which examines the feature importance values using permutation importance\n",
    "def pfi (model, y_hold):\n",
    "    result= permutation_importance(model, Xi_hold, y_hold, n_repeats=10, random_state=26, n_jobs=-1)\n",
    "    feature_names = Xi_hold.columns\n",
    "    impt = pd.Series(result.importances_mean, index=feature_names)\n",
    "    print(impt)\n",
    "    impt= impt.sort_values(ascending=False)\n",
    "    print(impt.head(20))\n",
    "    imptfeats=impt.head(20)\n",
    "\n",
    "    return imptfeats"
   ]
  },
  {
   "cell_type": "code",
   "execution_count": 11,
   "metadata": {},
   "outputs": [
    {
     "name": "stdout",
     "output_type": "stream",
     "text": [
      "fd20a1     0.000000\n",
      "fd20c4     0.000000\n",
      "pe05c      0.000000\n",
      "pe06c2     0.000000\n",
      "fd24c1     0.000000\n",
      "             ...   \n",
      "y9gram     0.001646\n",
      "y9num      0.000549\n",
      "y9read     0.000686\n",
      "y9spel     0.001920\n",
      "y9write    0.000686\n",
      "Length: 1011, dtype: float64\n",
      "hs54c      0.006447\n",
      "cfout      0.005075\n",
      "hs54d      0.004390\n",
      "chu9d      0.003292\n",
      "se16b4     0.003292\n",
      "pedste     0.002469\n",
      "aarga      0.002469\n",
      "atotss     0.002332\n",
      "gp         0.002332\n",
      "smfq       0.002332\n",
      "fp06c3     0.002332\n",
      "sc26c8     0.002332\n",
      "oral       0.002195\n",
      "pedsscc    0.002195\n",
      "fn13c10    0.002195\n",
      "sle        0.002195\n",
      "hs54b      0.002195\n",
      "hs54a      0.002195\n",
      "csdqtb     0.002195\n",
      "numcond    0.002195\n",
      "dtype: float64\n"
     ]
    }
   ],
   "source": [
    "imptfeats = pfi(model_si, y_hold_si)"
   ]
  },
  {
   "cell_type": "code",
   "execution_count": 14,
   "metadata": {},
   "outputs": [],
   "source": [
    "w7dd=pd.read_csv(r\"C:\\Users\\z5291979\\OneDrive - UNSW\\Documents\\lsac-data\\processed_data\\w7ddsel.csv\")\n",
    "#Defining a function which extracts rows of the data dictionary corresponding to the most important features\n",
    "def dd():\n",
    "    imptcols=list(imptfeats.index.values)\n",
    "    dd_feat=w7dd.loc[w7dd['Without age'].isin(imptcols)]\n",
    "    return dd_feat"
   ]
  },
  {
   "cell_type": "code",
   "execution_count": 18,
   "metadata": {},
   "outputs": [],
   "source": [
    "imptfeats.to_csv(r'C:\\Users\\z5291979\\OneDrive - UNSW\\Documents\\lsac-data\\processed_data\\SI_imptfeats.csv')\n",
    "si_feat_dd=dd()\n",
    "si_feat_dd.to_csv(r'C:\\Users\\z5291979\\OneDrive - UNSW\\Documents\\lsac-data\\processed_data\\si_feat_dd.csv')\n"
   ]
  },
  {
   "cell_type": "code",
   "execution_count": 23,
   "metadata": {},
   "outputs": [],
   "source": [
    "imptfeats=pfi(model_nssi, y_hold_nssi)"
   ]
  }
 ],
 "metadata": {
  "kernelspec": {
   "display_name": ".venv",
   "language": "python",
   "name": "python3"
  },
  "language_info": {
   "codemirror_mode": {
    "name": "ipython",
    "version": 3
   },
   "file_extension": ".py",
   "mimetype": "text/x-python",
   "name": "python",
   "nbconvert_exporter": "python",
   "pygments_lexer": "ipython3",
   "version": "3.10.5"
  }
 },
 "nbformat": 4,
 "nbformat_minor": 2
}
