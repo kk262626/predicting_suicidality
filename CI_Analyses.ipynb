{
 "cells": [
  {
   "cell_type": "markdown",
   "metadata": {},
   "source": [
    "# Further Analyses- Producing 95% CIs and Examining Most Important Features"
   ]
  },
  {
   "cell_type": "code",
   "execution_count": 1,
   "metadata": {},
   "outputs": [],
   "source": [
    "from IPython.core.interactiveshell import InteractiveShell\n",
    "from matplotlib import pyplot \n",
    "from numpy import mean\n",
    "from numpy import std\n",
    "from sklearn.calibration import calibration_curve\n",
    "from sklearn.metrics import confusion_matrix as confusion\n",
    "from sklearn.metrics import f1_score\n",
    "from sklearn.metrics import precision_recall_curve\n",
    "from sklearn.metrics import precision_score \n",
    "from sklearn.metrics import recall_score as recall\n",
    "from sklearn.metrics import roc_auc_score\n",
    "from sklearn.metrics import roc_curve\n",
    "from sklearn.model_selection import cross_val_predict\n",
    "from sklearn.model_selection import cross_val_score\n",
    "from sklearn.model_selection import KFold\n",
    "from sklearn.model_selection import RandomizedSearchCV\n",
    "from sklearn.model_selection import StratifiedKFold\n",
    "from sklearn.utils import resample\n",
    "import joblib\n",
    "import numpy as np\n",
    "import pandas as pd\n",
    "import warnings\n",
    "InteractiveShell.ast_node_interactivity = \"all\""
   ]
  },
  {
   "cell_type": "markdown",
   "metadata": {},
   "source": [
    "Bootstrapped CIs for First Round of Evals (Full Test Dataset)"
   ]
  },
  {
   "cell_type": "code",
   "execution_count": 7,
   "metadata": {},
   "outputs": [],
   "source": [
    "#Loading datasets\n",
    "Xi_hold=pd.read_csv(r'C:\\Users\\z5291979\\OneDrive - UNSW\\Documents\\lsac-data\\Xi_hold.csv')\n",
    "y_hold_si=pd.read_csv(r'C:\\Users\\z5291979\\OneDrive - UNSW\\Documents\\lsac-data\\processed_data\\y_hold_si.csv')\n",
    "y_hold_nssi=pd.read_csv(r'C:\\Users\\z5291979\\OneDrive - UNSW\\Documents\\lsac-data\\processed_data\\y_hold_nssi.csv')\n",
    "y_hold_att=pd.read_csv(r'C:\\Users\\z5291979\\OneDrive - UNSW\\Documents\\lsac-data\\processed_data\\y_hold_att.csv')\n",
    "y_hold_sitbs=pd.read_csv(r'C:\\Users\\z5291979\\OneDrive - UNSW\\Documents\\lsac-data\\processed_data\\y_hold_sitbs.csv')"
   ]
  },
  {
   "cell_type": "code",
   "execution_count": 8,
   "metadata": {},
   "outputs": [
    {
     "data": {
      "text/plain": [
       "(729, 1011)"
      ]
     },
     "execution_count": 8,
     "metadata": {},
     "output_type": "execute_result"
    }
   ],
   "source": [
    "Xi_hold.shape"
   ]
  },
  {
   "cell_type": "code",
   "execution_count": 21,
   "metadata": {},
   "outputs": [],
   "source": [
    "#Defining a function to prepare 100 bootstrapped test sets, and obtain estimates of performance metrics for each resampled version of test data\n",
    "algos=['LR', 'RF', 'XGB']\n",
    "threshs1=[0.188868, 0.175579, 0.119263]\n",
    "models1= {a: joblib.load(f'{a}_si.sav') for a in algos}\n",
    "\n",
    "def boot(model, fulltest, thresh):\n",
    "    #Suppressing warnings for this section. Warning appears because the bootstrapped samples do not have feature names as they are arrays while the model has previously been fitted on pandas dataframes with feature names\n",
    "    #This is ok because the features are in the same order as the original test set\n",
    "    warnings.simplefilter(action='ignore', category=UserWarning)\n",
    "    n_iterations=100\n",
    "    aucs=list()\n",
    "    f1s=list()\n",
    "    sens=list()\n",
    "    specs=list()\n",
    "    ppvs=list()\n",
    "    values=fulltest.values\n",
    "    for i in range(n_iterations):\n",
    "        test=resample(values, n_samples=len(fulltest), stratify=values[:, -1], random_state=i)\n",
    "        probs=model.predict_proba(test[:, :-1])\n",
    "        probs=probs[:, 1]\n",
    "        auc=roc_auc_score(test[:, -1], probs)\n",
    "        aucs.append(auc)\n",
    "        pred=np.where(probs>= thresh, 1, 0)\n",
    "        f1=f1_score(test[:, -1], pred)\n",
    "        f1s.append(f1)\n",
    "        sen=recall(test[:, -1], pred)\n",
    "        sens.append(sen)\n",
    "        ppv=precision_score(test[:, -1], pred)\n",
    "        ppvs.append(ppv)\n",
    "        tn, fp, fn, tp=confusion(test[:, -1], pred).ravel()\n",
    "        spec=tn/(tn+fp)\n",
    "        specs.append(spec)\n",
    "        \n",
    "    metrics=[\"aucs\", \"f1s\", \"sens\", \"specs\", \"ppvs\"]\n",
    "    metricsdf=pd.DataFrame(zip(aucs, f1s, sens, specs, ppvs), columns=metrics)\n",
    "    return metricsdf\n",
    "\n",
    "#Iterating through tuples to evaluate LR, RF, and XGB Models \n",
    "#Value of the tuple algo is paired to the other corresponding value in threshs, i.e. 'LR' is paired with threshold of 0.188868\n",
    "def runevals(models1, fulltest, threshs):\n",
    "    for a, t in zip(algos, threshs):\n",
    "        clf=models1[a]\n",
    "        print(f'95% CIs for performance using {a} with threshold at {t}')\n",
    "        metricsdf=boot(clf, fulltest, t)\n",
    "        print(metricsdf.quantile([.025, .975]).round(3))\n",
    "        print('\\n')"
   ]
  },
  {
   "cell_type": "code",
   "execution_count": 10,
   "metadata": {},
   "outputs": [
    {
     "name": "stdout",
     "output_type": "stream",
     "text": [
      "95% CIs for performance using LR with threshold at 0.188868\n",
      "           aucs       f1s    sens     specs      ppvs\n",
      "0.025  0.694001  0.308598  0.3750  0.816746  0.262009\n",
      "0.975  0.786711  0.447163  0.5625  0.864968  0.367685\n",
      "\n",
      "\n",
      "95% CIs for performance using RF with threshold at 0.175579\n",
      "           aucs       f1s      sens     specs      ppvs\n",
      "0.025  0.777556  0.407189  0.624479  0.754305  0.295607\n",
      "0.975  0.865730  0.509746  0.781250  0.818404  0.385700\n",
      "\n",
      "\n",
      "95% CIs for performance using XGB with threshold at 0.119263\n",
      "           aucs       f1s      sens     specs      ppvs\n",
      "0.025  0.783426  0.385365  0.760417  0.654779  0.256433\n",
      "0.975  0.866916  0.467795  0.901302  0.723618  0.320392\n",
      "\n",
      "\n"
     ]
    }
   ],
   "source": [
    "fulltest_si=Xi_hold.join(y_hold_si)\n",
    "runevals(models1, fulltest_si, threshs1)"
   ]
  },
  {
   "cell_type": "code",
   "execution_count": 11,
   "metadata": {},
   "outputs": [
    {
     "name": "stdout",
     "output_type": "stream",
     "text": [
      "95% CIs for performance using LR with threshold at 0.138621\n",
      "           aucs       f1s      sens     specs      ppvs\n",
      "0.025  0.655818  0.224323  0.321429  0.855869  0.170443\n",
      "0.975  0.808005  0.385919  0.553571  0.900446  0.293034\n",
      "\n",
      "\n",
      "95% CIs for performance using RF with threshold at 0.160344\n",
      "           aucs       f1s      sens     specs      ppvs\n",
      "0.025  0.771589  0.315188  0.544196  0.821620  0.217391\n",
      "0.975  0.888752  0.445714  0.795089  0.870022  0.313881\n",
      "\n",
      "\n",
      "95% CIs for performance using XGB with threshold at 0.172887\n",
      "           aucs       f1s      sens     specs      ppvs\n",
      "0.025  0.769216  0.302383  0.391964  0.895988  0.248378\n",
      "0.975  0.879479  0.511278  0.670089  0.936107  0.437224\n",
      "\n",
      "\n"
     ]
    }
   ],
   "source": [
    "threshs2=[0.138621, 0.160344, 0.172887]\n",
    "models2= {a: joblib.load(f'{a}_nssi.sav') for a in algos}\n",
    "\n",
    "fulltest_nssi=Xi_hold.join(y_hold_nssi)\n",
    "runevals(models2, fulltest_nssi, threshs2)"
   ]
  },
  {
   "cell_type": "code",
   "execution_count": 12,
   "metadata": {},
   "outputs": [
    {
     "name": "stdout",
     "output_type": "stream",
     "text": [
      "95% CIs for performance using LR with threshold at 0.074037\n",
      "           aucs       f1s      sens     specs      ppvs\n",
      "0.025  0.690694  0.126141  0.296094  0.819907  0.080938\n",
      "0.975  0.846409  0.267160  0.625000  0.869440  0.171988\n",
      "\n",
      "\n",
      "95% CIs for performance using RF with threshold at 0.073374\n",
      "           aucs       f1s      sens     specs     ppvs\n",
      "0.025  0.800614  0.174382  0.562500  0.764562  0.10436\n",
      "0.975  0.915505  0.280363  0.860156  0.817109  0.16923\n",
      "\n",
      "\n",
      "95% CIs for performance using XGB with threshold at 0.08742\n",
      "           aucs       f1s     sens     specs      ppvs\n",
      "0.025  0.795508  0.224842  0.43750  0.873745  0.151437\n",
      "0.975  0.910338  0.381892  0.78125  0.909003  0.254234\n",
      "\n",
      "\n"
     ]
    }
   ],
   "source": [
    "threshs3=[0.074037, 0.073374, 0.087420]\n",
    "models3= {a: joblib.load(f'{a}_att.sav') for a in algos}\n",
    "\n",
    "fulltest_att=Xi_hold.join(y_hold_att)\n",
    "runevals(models3, fulltest_att, threshs3)"
   ]
  },
  {
   "cell_type": "code",
   "execution_count": 13,
   "metadata": {},
   "outputs": [
    {
     "name": "stdout",
     "output_type": "stream",
     "text": [
      "95% CIs for performance using LR with threshold at 0.208806\n",
      "           aucs       f1s      sens     specs      ppvs\n",
      "0.025  0.666220  0.379787  0.504132  0.750699  0.296542\n",
      "0.975  0.756427  0.477128  0.624174  0.821752  0.392540\n",
      "\n",
      "\n",
      "95% CIs for performance using RF with threshold at 0.15213\n",
      "           aucs       f1s      sens     specs      ppvs\n",
      "0.025  0.772562  0.431631  0.702479  0.672615  0.309099\n",
      "0.975  0.845087  0.521524  0.830785  0.735197  0.380550\n",
      "\n",
      "\n",
      "95% CIs for performance using XGB with threshold at 0.176893\n",
      "           aucs       f1s      sens     specs      ppvs\n",
      "0.025  0.781079  0.452331  0.632025  0.750781  0.346575\n",
      "0.975  0.851117  0.545517  0.772934  0.810855  0.429257\n",
      "\n",
      "\n"
     ]
    }
   ],
   "source": [
    "threshs4=[0.208806, 0.152130, 0.176893]\n",
    "models4= {a: joblib.load(f'{a}_sitbs.sav') for a in algos}\n",
    "\n",
    "fulltest_sitbs=Xi_hold.join(y_hold_sitbs)\n",
    "runevals(models4, fulltest_sitbs, threshs4)"
   ]
  },
  {
   "cell_type": "markdown",
   "metadata": {},
   "source": [
    "Bootstrapped CIs for Second Round Evals (Reduced Test Dataset)"
   ]
  },
  {
   "cell_type": "code",
   "execution_count": 14,
   "metadata": {},
   "outputs": [],
   "source": [
    "#Loading the reduced datasets created in the evaluation notebook\n",
    "si_test=pd.read_csv(r'C:\\Users\\z5291979\\OneDrive - UNSW\\Documents\\lsac-data\\processed_data\\si_test.csv')\n",
    "nssi_test=pd.read_csv(r'C:\\Users\\z5291979\\OneDrive - UNSW\\Documents\\lsac-data\\processed_data\\nssi_test.csv')\n",
    "att_test=pd.read_csv(r'C:\\Users\\z5291979\\OneDrive - UNSW\\Documents\\lsac-data\\processed_data\\att_test.csv')"
   ]
  },
  {
   "cell_type": "code",
   "execution_count": 15,
   "metadata": {},
   "outputs": [],
   "source": [
    "si_test=si_test.drop(columns=['nssi', 'att', 'sitbs'])\n",
    "nssi_test=nssi_test.drop(columns=['si', 'att', 'sitbs'])\n",
    "att_test=att_test.drop(columns=['si', 'nssi', 'sitbs'])"
   ]
  },
  {
   "cell_type": "code",
   "execution_count": 22,
   "metadata": {},
   "outputs": [
    {
     "name": "stdout",
     "output_type": "stream",
     "text": [
      "95% CIs for performance using LR with threshold at 0.188868\n",
      "        aucs    f1s   sens  specs   ppvs\n",
      "0.025  0.693  0.328  0.395  0.816  0.266\n",
      "0.975  0.791  0.456  0.573  0.873  0.396\n",
      "\n",
      "\n",
      "95% CIs for performance using RF with threshold at 0.175579\n",
      "        aucs    f1s   sens  specs   ppvs\n",
      "0.025  0.792  0.422  0.624  0.757  0.313\n",
      "0.975  0.872  0.527  0.792  0.822  0.398\n",
      "\n",
      "\n",
      "95% CIs for performance using XGB with threshold at 0.119263\n",
      "        aucs    f1s   sens  specs   ppvs\n",
      "0.025  0.796  0.403  0.750  0.659  0.272\n",
      "0.975  0.870  0.484  0.901  0.734  0.336\n",
      "\n",
      "\n",
      "95% CIs for performance using LR with threshold at 0.188868\n",
      "        aucs    f1s   sens  specs   ppvs\n",
      "0.025  0.685  0.353  0.557  0.714  0.255\n",
      "0.975  0.791  0.444  0.729  0.785  0.328\n",
      "\n",
      "\n",
      "95% CIs for performance using RF with threshold at 0.175579\n",
      "        aucs    f1s   sens  specs   ppvs\n",
      "0.025  0.798  0.403  0.692  0.701  0.278\n",
      "0.975  0.871  0.489  0.854  0.765  0.345\n",
      "\n",
      "\n",
      "95% CIs for performance using XGB with threshold at 0.119263\n",
      "        aucs    f1s   sens  specs   ppvs\n",
      "0.025  0.812  0.411  0.792  0.645  0.276\n",
      "0.975  0.885  0.486  0.938  0.716  0.330\n",
      "\n",
      "\n"
     ]
    }
   ],
   "source": [
    "#Evaluating models for predicting SI\n",
    "runevals(models1, si_test, threshs1)\n",
    "runevals(models4, si_test, threshs1)"
   ]
  },
  {
   "cell_type": "code",
   "execution_count": 23,
   "metadata": {},
   "outputs": [
    {
     "name": "stdout",
     "output_type": "stream",
     "text": [
      "95% CIs for performance using LR with threshold at 0.138621\n",
      "        aucs    f1s   sens  specs   ppvs\n",
      "0.025  0.680  0.278  0.339  0.877  0.229\n",
      "0.975  0.825  0.437  0.563  0.922  0.360\n",
      "\n",
      "\n",
      "95% CIs for performance using RF with threshold at 0.160344\n",
      "        aucs    f1s   sens  specs   ppvs\n",
      "0.025  0.796  0.371  0.544  0.856  0.273\n",
      "0.975  0.909  0.526  0.795  0.905  0.411\n",
      "\n",
      "\n",
      "95% CIs for performance using XGB with threshold at 0.172887\n",
      "        aucs    f1s   sens  specs   ppvs\n",
      "0.025  0.794  0.383  0.411  0.914  0.352\n",
      "0.975  0.905  0.585  0.661  0.949  0.537\n",
      "\n",
      "\n",
      "95% CIs for performance using LR with threshold at 0.138621\n",
      "        aucs    f1s   sens  specs   ppvs\n",
      "0.025  0.704  0.228  0.687  0.577  0.136\n",
      "0.975  0.839  0.290  0.875  0.655  0.176\n",
      "\n",
      "\n",
      "95% CIs for performance using RF with threshold at 0.160344\n",
      "        aucs    f1s   sens  specs   ppvs\n",
      "0.025  0.799  0.287  0.723  0.682  0.177\n",
      "0.975  0.905  0.375  0.911  0.739  0.239\n",
      "\n",
      "\n",
      "95% CIs for performance using XGB with threshold at 0.172887\n",
      "        aucs    f1s   sens  specs   ppvs\n",
      "0.025  0.805  0.310  0.669  0.734  0.201\n",
      "0.975  0.909  0.415  0.884  0.797  0.274\n",
      "\n",
      "\n"
     ]
    }
   ],
   "source": [
    "#Predicting NSSI\n",
    "runevals(models2, nssi_test, threshs2)\n",
    "runevals(models4, nssi_test, threshs2)"
   ]
  },
  {
   "cell_type": "code",
   "execution_count": 24,
   "metadata": {},
   "outputs": [
    {
     "name": "stdout",
     "output_type": "stream",
     "text": [
      "95% CIs for performance using LR with threshold at 0.074037\n"
     ]
    },
    {
     "name": "stdout",
     "output_type": "stream",
     "text": [
      "        aucs    f1s   sens  specs   ppvs\n",
      "0.025  0.701  0.143  0.281  0.832  0.094\n",
      "0.975  0.846  0.305  0.656  0.881  0.203\n",
      "\n",
      "\n",
      "95% CIs for performance using RF with threshold at 0.073374\n",
      "        aucs    f1s   sens  specs   ppvs\n",
      "0.025  0.827  0.232  0.562  0.805  0.145\n",
      "0.975  0.932  0.356  0.875  0.864  0.228\n",
      "\n",
      "\n",
      "95% CIs for performance using XGB with threshold at 0.08742\n",
      "        aucs    f1s   sens  specs   ppvs\n",
      "0.025  0.827  0.286  0.438  0.896  0.210\n",
      "0.975  0.938  0.525  0.829  0.942  0.406\n",
      "\n",
      "\n",
      "95% CIs for performance using LR with threshold at 0.074037\n",
      "        aucs    f1s   sens  specs   ppvs\n",
      "0.025  0.657  0.113  0.812  0.290  0.060\n",
      "0.975  0.827  0.132  0.985  0.356  0.071\n",
      "\n",
      "\n",
      "95% CIs for performance using RF with threshold at 0.073374\n",
      "        aucs    f1s  sens  specs   ppvs\n",
      "0.025  0.825  0.151   1.0  0.410  0.082\n",
      "0.975  0.929  0.171   1.0  0.489  0.093\n",
      "\n",
      "\n",
      "95% CIs for performance using XGB with threshold at 0.08742\n",
      "        aucs    f1s   sens  specs   ppvs\n",
      "0.025  0.789  0.163  0.765  0.568  0.091\n",
      "0.975  0.919  0.210  0.969  0.638  0.118\n",
      "\n",
      "\n"
     ]
    }
   ],
   "source": [
    "#Predicting attempts\n",
    "runevals(models3, att_test, threshs3)\n",
    "runevals(models4, att_test, threshs3)"
   ]
  }
 ],
 "metadata": {
  "kernelspec": {
   "display_name": ".venv",
   "language": "python",
   "name": "python3"
  },
  "language_info": {
   "codemirror_mode": {
    "name": "ipython",
    "version": 3
   },
   "file_extension": ".py",
   "mimetype": "text/x-python",
   "name": "python",
   "nbconvert_exporter": "python",
   "pygments_lexer": "ipython3",
   "version": "3.10.5"
  }
 },
 "nbformat": 4,
 "nbformat_minor": 2
}
