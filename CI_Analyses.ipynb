{
 "cells": [
  {
   "cell_type": "markdown",
   "metadata": {},
   "source": [
    "# Further Analyses- Producing 95% CIs and Examining Most Important Features"
   ]
  },
  {
   "cell_type": "code",
   "execution_count": 1,
   "metadata": {},
   "outputs": [],
   "source": [
    "from IPython.core.interactiveshell import InteractiveShell\n",
    "from matplotlib import pyplot \n",
    "from numpy import mean\n",
    "from numpy import std\n",
    "from sklearn.calibration import calibration_curve\n",
    "from sklearn.metrics import confusion_matrix as confusion\n",
    "from sklearn.metrics import f1_score\n",
    "from sklearn.metrics import precision_recall_curve\n",
    "from sklearn.metrics import precision_score as ppv\n",
    "from sklearn.metrics import recall_score as recall\n",
    "from sklearn.metrics import roc_auc_score\n",
    "from sklearn.metrics import roc_curve\n",
    "from sklearn.model_selection import cross_val_predict\n",
    "from sklearn.model_selection import cross_val_score\n",
    "from sklearn.model_selection import KFold\n",
    "from sklearn.model_selection import RandomizedSearchCV\n",
    "from sklearn.model_selection import StratifiedKFold\n",
    "from sklearn.utils import resample\n",
    "import joblib\n",
    "import numpy as np\n",
    "import pandas as pd\n",
    "InteractiveShell.ast_node_interactivity = \"all\""
   ]
  },
  {
   "cell_type": "code",
   "execution_count": null,
   "metadata": {},
   "outputs": [],
   "source": [
    "#Prepare 100 bootstrapped test sets, and obtain estimates of performance metrics for each resampled version of test data\n",
    "n_iterations=100\n",
    "XGB95aucs=list()\n",
    "XGB95f1s=list()\n",
    "XGB95sens=list()\n",
    "XGB95specs=list()\n",
    "XGB95ppvs=list()\n",
    "for i in range(n_iterations):\n",
    "    test=resample(values, n_samples=len(test56), stratify=values[:, -1], random_state=i)\n",
    "    XGB95probs=cXGB.predict_proba(test[:, :-1])\n",
    "    XGB95probs=XGB95probs[:, 1]\n",
    "    XGB95auc=roc_auc_score(test[:, -1], XGB95probs)\n",
    "    XGB95aucs.append(XGB95auc)\n",
    "    XGB95pred=np.where(XGB95probs>= 0.06723701432347298, 1, 0)\n",
    "    XGB95f1=f1_score(test[:, -1], XGB95pred)\n",
    "    XGB95f1s.append(XGB95f1)\n",
    "    XGB95sen=recall(test[:, -1], XGB95pred)\n",
    "    XGB95sens.append(XGB95sen)\n",
    "    XGB95ppv=ppv(test[:, -1], XGB95pred)\n",
    "    XGB95ppvs.append(XGB95ppv)\n",
    "    tn, fp, fn, tp=confusion(test[:, -1], XGB95pred).ravel()\n",
    "    XGB95spec=tn/(tn+fp)\n",
    "    XGB95specs.append(XGB95spec)"
   ]
  }
 ],
 "metadata": {
  "kernelspec": {
   "display_name": ".venv",
   "language": "python",
   "name": "python3"
  },
  "language_info": {
   "codemirror_mode": {
    "name": "ipython",
    "version": 3
   },
   "file_extension": ".py",
   "mimetype": "text/x-python",
   "name": "python",
   "nbconvert_exporter": "python",
   "pygments_lexer": "ipython3",
   "version": "3.10.5"
  }
 },
 "nbformat": 4,
 "nbformat_minor": 2
}
