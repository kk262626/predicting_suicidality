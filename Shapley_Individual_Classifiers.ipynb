{
 "cells": [
  {
   "cell_type": "markdown",
   "metadata": {},
   "source": [
    "# SHAP values calculation for Individual Classifiers"
   ]
  },
  {
   "cell_type": "code",
   "execution_count": null,
   "metadata": {},
   "outputs": [],
   "source": [
    "#Loading the previously fitted classifier chain\n",
    "si_model=joblib.load(r'c:\\Users\\z5291979\\OneDrive - UNSW\\Documents\\lsac-data\\lsac-suicidality\\models\\RF_si.sav')\n",
    "#Fitting the explainer and calculating shap values\n",
    "explainer_si=shap.KernelExplainer(model=si_model.predict_proba, data=Xi.head(200))\n",
    "i_si_shap=explainer_si.shap_values(X=Xi_hold.head(200))"
   ]
  }
 ],
 "metadata": {
  "language_info": {
   "name": "python"
  }
 },
 "nbformat": 4,
 "nbformat_minor": 2
}
